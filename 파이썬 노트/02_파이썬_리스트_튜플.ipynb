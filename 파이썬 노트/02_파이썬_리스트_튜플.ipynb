{
  "nbformat": 4,
  "nbformat_minor": 0,
  "metadata": {
    "colab": {
      "provenance": [],
      "include_colab_link": true
    },
    "kernelspec": {
      "display_name": "Python 3",
      "language": "python",
      "name": "python3"
    },
    "language_info": {
      "codemirror_mode": {
        "name": "ipython",
        "version": 3
      },
      "file_extension": ".py",
      "mimetype": "text/x-python",
      "name": "python",
      "nbconvert_exporter": "python",
      "pygments_lexer": "ipython3",
      "version": "3.6.9"
    }
  },
  "cells": [
    {
      "cell_type": "markdown",
      "metadata": {
        "id": "view-in-github",
        "colab_type": "text"
      },
      "source": [
        "<a href=\"https://colab.research.google.com/github/100sjun/Study_Python/blob/main/%ED%8C%8C%EC%9D%B4%EC%8D%AC%20%EB%85%B8%ED%8A%B8/02_%ED%8C%8C%EC%9D%B4%EC%8D%AC_%EB%A6%AC%EC%8A%A4%ED%8A%B8_%ED%8A%9C%ED%94%8C.ipynb\" target=\"_parent\"><img src=\"https://colab.research.google.com/assets/colab-badge.svg\" alt=\"Open In Colab\"/></a>"
      ]
    },
    {
      "cell_type": "markdown",
      "metadata": {
        "id": "KgAFjs7iUREl"
      },
      "source": [
        "# 시퀀스, 집합형 자료구조"
      ]
    },
    {
      "cell_type": "markdown",
      "metadata": {
        "id": "JiAbeX-zcgW6"
      },
      "source": [
        "| 분류             | 타입                 | 특징                                   | 예시                     |\n",
        "| ---------------- | -------------------- | -------------------------------------- | ------------------------ |\n",
        "| 시퀀스(sequence) | 리스트(list)         | 순서가 있고, 가변(mutable)             | [1, 2, 3]                |\n",
        "| 시퀀스(sequence) | 튜플(tuple)          | 순서가 있고, 불변(immutable)           | (1, 2, 3)                |\n",
        "| 세트(set)        | 세트(set)            | 순서가 없고, 중복을 허용하지 않음      | {1, 2, 3}                |\n",
        "| 맵(map)          | 딕셔너리(dictionary) | 순서가 없고, key/value 쌍으로 이루어짐 | {'a': 1, 'b': 2, 'c': 3} |"
      ]
    },
    {
      "cell_type": "markdown",
      "metadata": {
        "id": "d610lQinUwSN"
      },
      "source": [
        "## 리스트(list)\n",
        "\n",
        "- 리스트는 데이터의 요소를 순차적으로 파악하는데 용이한 자료형 입니다.\n",
        "- 리스트는 다양한 메서드(method) 혹은 함수를 지원하며 메서드를 활용하여 요소를 추가, 삭제 및 변경할 수 있습니다.\n",
        "\n",
        "**메서드(method)**: 객체(object)가 포함하는 함수 혹은 기능입니다. 함수에 대한 내용은 추후에 다룹니다."
      ]
    },
    {
      "cell_type": "markdown",
      "metadata": {
        "id": "Twq31zuC0xJJ"
      },
      "source": [
        "### 생성"
      ]
    },
    {
      "cell_type": "markdown",
      "metadata": {
        "id": "g-HX7XnQU5zN"
      },
      "source": [
        "[] 형태로 표현합니다."
      ]
    },
    {
      "cell_type": "markdown",
      "metadata": {
        "id": "x1yU3DI-cgW7"
      },
      "source": [
        "빈 리스트를 생성합니다."
      ]
    },
    {
      "cell_type": "code",
      "metadata": {
        "id": "xSAez-0xU_sg",
        "colab": {
          "base_uri": "https://localhost:8080/"
        },
        "outputId": "a6beaa89-f350-413e-d5b4-ea9e782f842c"
      },
      "source": [
        "mylist = []\n",
        "mylist"
      ],
      "execution_count": 1,
      "outputs": [
        {
          "output_type": "execute_result",
          "data": {
            "text/plain": [
              "[]"
            ]
          },
          "metadata": {},
          "execution_count": 1
        }
      ]
    },
    {
      "cell_type": "code",
      "metadata": {
        "id": "CDyUdGJVcgW8",
        "colab": {
          "base_uri": "https://localhost:8080/"
        },
        "outputId": "0b32a30f-d4f3-4a86-c572-77cdb8cedaca"
      },
      "source": [
        "mylist = list()\n",
        "mylist"
      ],
      "execution_count": 2,
      "outputs": [
        {
          "output_type": "execute_result",
          "data": {
            "text/plain": [
              "[]"
            ]
          },
          "metadata": {},
          "execution_count": 2
        }
      ]
    },
    {
      "cell_type": "markdown",
      "metadata": {
        "id": "rboSudWScgW9"
      },
      "source": [
        "리스트를 생성하면서 값을 포함합니다."
      ]
    },
    {
      "cell_type": "code",
      "metadata": {
        "id": "IVS7djx4U0KS",
        "colab": {
          "base_uri": "https://localhost:8080/"
        },
        "outputId": "b3693deb-44b5-491a-d5fb-b4864641bb87"
      },
      "source": [
        "mylist = [1, 3, 2, 4, 5]\n",
        "mylist"
      ],
      "execution_count": 3,
      "outputs": [
        {
          "output_type": "execute_result",
          "data": {
            "text/plain": [
              "[1, 3, 2, 4, 5]"
            ]
          },
          "metadata": {},
          "execution_count": 3
        }
      ]
    },
    {
      "cell_type": "markdown",
      "metadata": {
        "id": "SxrF2tkJz26f"
      },
      "source": [
        "### list 규칙"
      ]
    },
    {
      "cell_type": "markdown",
      "metadata": {
        "id": "C1SLDi69z5ag"
      },
      "source": [
        "* list는 다양한 type의 데이터를 집합으로 가집니다.\n",
        "* list안에 list도 허용합니다.\n",
        "* list는 순서(order)의 개념이 존재합니다."
      ]
    },
    {
      "cell_type": "code",
      "metadata": {
        "id": "TZimFWErz6KT"
      },
      "source": [
        "a = []"
      ],
      "execution_count": 4,
      "outputs": []
    },
    {
      "cell_type": "code",
      "metadata": {
        "id": "gF2NT1YW_5bz",
        "colab": {
          "base_uri": "https://localhost:8080/"
        },
        "outputId": "1e5d7d26-62a7-416c-ef1d-84efe1b729d0"
      },
      "source": [
        "a"
      ],
      "execution_count": 5,
      "outputs": [
        {
          "output_type": "execute_result",
          "data": {
            "text/plain": [
              "[]"
            ]
          },
          "metadata": {},
          "execution_count": 5
        }
      ]
    },
    {
      "cell_type": "code",
      "metadata": {
        "id": "rhAQ23ymz8W6",
        "colab": {
          "base_uri": "https://localhost:8080/"
        },
        "outputId": "47d0233b-d437-4107-9cec-1df331c86c43"
      },
      "source": [
        "a = [1, 2, 3]\n",
        "a"
      ],
      "execution_count": 6,
      "outputs": [
        {
          "output_type": "execute_result",
          "data": {
            "text/plain": [
              "[1, 2, 3]"
            ]
          },
          "metadata": {},
          "execution_count": 6
        }
      ]
    },
    {
      "cell_type": "code",
      "metadata": {
        "id": "RRoIj9ISz92M",
        "colab": {
          "base_uri": "https://localhost:8080/"
        },
        "outputId": "e4f6faaa-22d8-4604-c5d0-901d133a2807"
      },
      "source": [
        "a = [1, 'hello', 3, 3.14, True]\n",
        "a"
      ],
      "execution_count": 7,
      "outputs": [
        {
          "output_type": "execute_result",
          "data": {
            "text/plain": [
              "[1, 'hello', 3, 3.14, True]"
            ]
          },
          "metadata": {},
          "execution_count": 7
        }
      ]
    },
    {
      "cell_type": "markdown",
      "metadata": {
        "id": "nM_LJznJcgW-"
      },
      "source": [
        "리스트 안에 리스트로 포함할 수 있습니다."
      ]
    },
    {
      "cell_type": "code",
      "metadata": {
        "id": "2fdiq1bc0B3G",
        "colab": {
          "base_uri": "https://localhost:8080/"
        },
        "outputId": "e81fc955-c799-4bde-a705-bd5ec1fdfbd5"
      },
      "source": [
        "a = [1, 'hello', 3, 3.14, [6, 7, '8']]\n",
        "a"
      ],
      "execution_count": 8,
      "outputs": [
        {
          "output_type": "execute_result",
          "data": {
            "text/plain": [
              "[1, 'hello', 3, 3.14, [6, 7, '8']]"
            ]
          },
          "metadata": {},
          "execution_count": 8
        }
      ]
    },
    {
      "cell_type": "markdown",
      "metadata": {
        "id": "JSh4BXzRWUY_"
      },
      "source": [
        "### 관련 함수\n",
        "\n",
        "- . 점 연산자로 함수를 실행할 수 있습니다.\n",
        "- 함수는 어떤 작업을 수행하는 코드를 모아 이름을 붙인 것입니다.\n",
        "- 자세한 내용은 추후 함수 단원에서 배웁니다."
      ]
    },
    {
      "cell_type": "markdown",
      "metadata": {
        "id": "ilJWB7H8qjNa"
      },
      "source": [
        "### append() : 값 추가"
      ]
    },
    {
      "cell_type": "markdown",
      "metadata": {
        "id": "gLBi5RsP2Cjb"
      },
      "source": [
        "빈 리스트를 생성합니다."
      ]
    },
    {
      "cell_type": "code",
      "metadata": {
        "id": "JWnjMkgr1oQb",
        "colab": {
          "base_uri": "https://localhost:8080/"
        },
        "outputId": "540055d7-d85b-4c7d-9dbb-ac2113b2b393"
      },
      "source": [
        "mylist = []\n",
        "mylist"
      ],
      "execution_count": 9,
      "outputs": [
        {
          "output_type": "execute_result",
          "data": {
            "text/plain": [
              "[]"
            ]
          },
          "metadata": {},
          "execution_count": 9
        }
      ]
    },
    {
      "cell_type": "markdown",
      "metadata": {
        "id": "jZCHtjoGcgW_"
      },
      "source": [
        "append() 는 값을 맨 뒤에 추가 합니다."
      ]
    },
    {
      "cell_type": "code",
      "metadata": {
        "id": "AYHFOiG2VJEQ",
        "colab": {
          "base_uri": "https://localhost:8080/"
        },
        "outputId": "c91f3b3d-4f32-4095-ae6e-dcbb2b724240"
      },
      "source": [
        "mylist.append(1)\n",
        "mylist"
      ],
      "execution_count": 10,
      "outputs": [
        {
          "output_type": "execute_result",
          "data": {
            "text/plain": [
              "[1]"
            ]
          },
          "metadata": {},
          "execution_count": 10
        }
      ]
    },
    {
      "cell_type": "markdown",
      "metadata": {
        "id": "_QLShecBcgW_"
      },
      "source": [
        "중복된 값을 추가할 수 있으며, 순서가 **유지**됩니다."
      ]
    },
    {
      "cell_type": "code",
      "metadata": {
        "id": "LBBwfWxRVK6E",
        "colab": {
          "base_uri": "https://localhost:8080/"
        },
        "outputId": "6dc470c7-e40a-44ba-89ad-bfa713922aab"
      },
      "source": [
        "mylist.append(7)\n",
        "mylist.append(7)\n",
        "mylist.append(7)\n",
        "mylist.append(3)\n",
        "mylist.append(5)\n",
        "mylist.append(2)\n",
        "mylist"
      ],
      "execution_count": 11,
      "outputs": [
        {
          "output_type": "execute_result",
          "data": {
            "text/plain": [
              "[1, 7, 7, 7, 3, 5, 2]"
            ]
          },
          "metadata": {},
          "execution_count": 11
        }
      ]
    },
    {
      "cell_type": "markdown",
      "metadata": {
        "id": "mwaKcYsRWatD"
      },
      "source": [
        "### sort() : 정렬"
      ]
    },
    {
      "cell_type": "markdown",
      "metadata": {
        "id": "TkuM5mqM1-r-"
      },
      "source": [
        "- 요소를 순서대로 정렬합니다 (오름차순)\n",
        "- sort()는 내부적으로 정렬 합니다."
      ]
    },
    {
      "cell_type": "code",
      "metadata": {
        "id": "ZjRQXZAHWccX"
      },
      "source": [
        "mylist = [1, 6, 3, 2, 7, 5, 4]\n",
        "mylist.sort()"
      ],
      "execution_count": 12,
      "outputs": []
    },
    {
      "cell_type": "code",
      "metadata": {
        "id": "amuUCcPl17Hq",
        "colab": {
          "base_uri": "https://localhost:8080/"
        },
        "outputId": "313d8234-59cd-43b7-e81e-dbe8ea582472"
      },
      "source": [
        "mylist"
      ],
      "execution_count": 13,
      "outputs": [
        {
          "output_type": "execute_result",
          "data": {
            "text/plain": [
              "[1, 2, 3, 4, 5, 6, 7]"
            ]
          },
          "metadata": {},
          "execution_count": 13
        }
      ]
    },
    {
      "cell_type": "markdown",
      "metadata": {
        "id": "EaHHAmqlcgXA"
      },
      "source": [
        "역정렬(reverse order)도 가능합니다. (`reverse=True`를 지정합니다.)"
      ]
    },
    {
      "cell_type": "code",
      "metadata": {
        "id": "BdCWTN-wcgXB"
      },
      "source": [
        "mylist = [1, 6, 3, 2, 7, 5, 4]\n",
        "mylist.sort(reverse=True)"
      ],
      "execution_count": 14,
      "outputs": []
    },
    {
      "cell_type": "code",
      "metadata": {
        "id": "v592Eh_ycgXB",
        "colab": {
          "base_uri": "https://localhost:8080/"
        },
        "outputId": "8d802a57-319f-4153-ea2d-77213819a4a2"
      },
      "source": [
        "mylist"
      ],
      "execution_count": 15,
      "outputs": [
        {
          "output_type": "execute_result",
          "data": {
            "text/plain": [
              "[7, 6, 5, 4, 3, 2, 1]"
            ]
          },
          "metadata": {},
          "execution_count": 15
        }
      ]
    },
    {
      "cell_type": "markdown",
      "metadata": {
        "id": "mXtpy3CIcgXB"
      },
      "source": [
        "### sorted() : 정렬\n",
        "\n",
        "- 요소를 순서대로 정렬합니다.\n",
        "- 내부적으로 정렬하지 않고 **정렬된 복사본을 반환**합니다.\n",
        "- 즉 원본 데이터는 정렬되지 않습니다."
      ]
    },
    {
      "cell_type": "code",
      "metadata": {
        "id": "ed62pm5YcgXB",
        "colab": {
          "base_uri": "https://localhost:8080/"
        },
        "outputId": "8c0e2758-a5ef-47c0-c909-d10bf7f01945"
      },
      "source": [
        "mylist = [1, 6, 3, 2, 7, 5, 4]\n",
        "mylist2 = sorted(mylist)\n",
        "mylist2"
      ],
      "execution_count": 16,
      "outputs": [
        {
          "output_type": "execute_result",
          "data": {
            "text/plain": [
              "[1, 2, 3, 4, 5, 6, 7]"
            ]
          },
          "metadata": {},
          "execution_count": 16
        }
      ]
    },
    {
      "cell_type": "code",
      "metadata": {
        "id": "xOh7qMeEcgXB",
        "colab": {
          "base_uri": "https://localhost:8080/"
        },
        "outputId": "d8ac58fc-8d57-44a3-a28c-88a4563c0ae0"
      },
      "source": [
        "mylist"
      ],
      "execution_count": 17,
      "outputs": [
        {
          "output_type": "execute_result",
          "data": {
            "text/plain": [
              "[1, 6, 3, 2, 7, 5, 4]"
            ]
          },
          "metadata": {},
          "execution_count": 17
        }
      ]
    },
    {
      "cell_type": "markdown",
      "metadata": {
        "id": "q3TDyJrbcgXB"
      },
      "source": [
        "마찬가지로, `reverse=True`를 지정하여 역정렬할 수 있습니다."
      ]
    },
    {
      "cell_type": "code",
      "metadata": {
        "id": "NA3OFWdMcgXC",
        "colab": {
          "base_uri": "https://localhost:8080/"
        },
        "outputId": "406bc581-7061-408d-eb1a-263b1828ab2a"
      },
      "source": [
        "mylist = [1, 6, 3, 2, 7, 5, 4]\n",
        "sorted(mylist, reverse=True)"
      ],
      "execution_count": 18,
      "outputs": [
        {
          "output_type": "execute_result",
          "data": {
            "text/plain": [
              "[7, 6, 5, 4, 3, 2, 1]"
            ]
          },
          "metadata": {},
          "execution_count": 18
        }
      ]
    },
    {
      "cell_type": "markdown",
      "metadata": {
        "id": "Dx97KWki2JOq"
      },
      "source": [
        "### reverse() : 역정렬"
      ]
    },
    {
      "cell_type": "code",
      "metadata": {
        "id": "PiTJMwY1DR9e",
        "colab": {
          "base_uri": "https://localhost:8080/"
        },
        "outputId": "4876c41e-1d59-45b5-c9bd-3765150759c2"
      },
      "source": [
        "mylist"
      ],
      "execution_count": 19,
      "outputs": [
        {
          "output_type": "execute_result",
          "data": {
            "text/plain": [
              "[1, 6, 3, 2, 7, 5, 4]"
            ]
          },
          "metadata": {},
          "execution_count": 19
        }
      ]
    },
    {
      "cell_type": "code",
      "metadata": {
        "id": "VGDfSJFADsRO"
      },
      "source": [
        "mylist.reverse()"
      ],
      "execution_count": 20,
      "outputs": []
    },
    {
      "cell_type": "code",
      "metadata": {
        "id": "hU9A_WURDuMG",
        "colab": {
          "base_uri": "https://localhost:8080/"
        },
        "outputId": "708ab3ce-52d0-471a-a98c-0a8ff0e8b668"
      },
      "source": [
        "mylist"
      ],
      "execution_count": 21,
      "outputs": [
        {
          "output_type": "execute_result",
          "data": {
            "text/plain": [
              "[4, 5, 7, 2, 3, 6, 1]"
            ]
          },
          "metadata": {},
          "execution_count": 21
        }
      ]
    },
    {
      "cell_type": "code",
      "metadata": {
        "id": "S8C3nmHBEKZO",
        "colab": {
          "base_uri": "https://localhost:8080/"
        },
        "outputId": "9ec03c21-753e-4d4e-c5e7-d5c236bfddf8"
      },
      "source": [
        "mylist[::-1]"
      ],
      "execution_count": 24,
      "outputs": [
        {
          "output_type": "execute_result",
          "data": {
            "text/plain": [
              "[1, 6, 3, 2, 7, 5, 4]"
            ]
          },
          "metadata": {},
          "execution_count": 24
        }
      ]
    },
    {
      "cell_type": "code",
      "metadata": {
        "id": "HEKGCsRnEURt",
        "colab": {
          "base_uri": "https://localhost:8080/"
        },
        "outputId": "d4562f0c-8a1c-44f8-e549-c40d3619339e"
      },
      "source": [
        "mylist"
      ],
      "execution_count": 25,
      "outputs": [
        {
          "output_type": "execute_result",
          "data": {
            "text/plain": [
              "[4, 5, 7, 2, 3, 6, 1]"
            ]
          },
          "metadata": {},
          "execution_count": 25
        }
      ]
    },
    {
      "cell_type": "markdown",
      "metadata": {
        "id": "QJ8NCnNbcgXC"
      },
      "source": [
        "### len() : 전체 항목의 개수 세기"
      ]
    },
    {
      "cell_type": "code",
      "metadata": {
        "id": "FaDoNkLLcgXC",
        "colab": {
          "base_uri": "https://localhost:8080/"
        },
        "outputId": "18ecf04e-9184-432b-a708-af679c14e584"
      },
      "source": [
        "mylist = [1, 6, 3, 2, 7, 5, 4]\n",
        "len(mylist)"
      ],
      "execution_count": 26,
      "outputs": [
        {
          "output_type": "execute_result",
          "data": {
            "text/plain": [
              "7"
            ]
          },
          "metadata": {},
          "execution_count": 26
        }
      ]
    },
    {
      "cell_type": "markdown",
      "metadata": {
        "id": "0U0bsd5W2TPk"
      },
      "source": [
        "### insert() : 값 추가"
      ]
    },
    {
      "cell_type": "markdown",
      "metadata": {
        "id": "k_rbdp2q2VoN"
      },
      "source": [
        "지정한 index에 값 추가"
      ]
    },
    {
      "cell_type": "code",
      "metadata": {
        "id": "Sz687uQGE0_t"
      },
      "source": [
        "mylist = [1, 6, 3, 2, 7, 5, 4]"
      ],
      "execution_count": 27,
      "outputs": []
    },
    {
      "cell_type": "code",
      "metadata": {
        "id": "2iZQBTNXE2SH",
        "colab": {
          "base_uri": "https://localhost:8080/"
        },
        "outputId": "77994e2e-324e-4839-9cf2-5e1aadab6100"
      },
      "source": [
        "mylist"
      ],
      "execution_count": 28,
      "outputs": [
        {
          "output_type": "execute_result",
          "data": {
            "text/plain": [
              "[1, 6, 3, 2, 7, 5, 4]"
            ]
          },
          "metadata": {},
          "execution_count": 28
        }
      ]
    },
    {
      "cell_type": "code",
      "metadata": {
        "id": "ftFR8PsbVOx0"
      },
      "source": [
        "mylist.insert(1, 100)"
      ],
      "execution_count": 29,
      "outputs": []
    },
    {
      "cell_type": "code",
      "metadata": {
        "id": "mT1vjQoQEytu",
        "colab": {
          "base_uri": "https://localhost:8080/"
        },
        "outputId": "b3514f47-f87a-4f9f-d5f7-5ff6e548c909"
      },
      "source": [
        "mylist"
      ],
      "execution_count": 30,
      "outputs": [
        {
          "output_type": "execute_result",
          "data": {
            "text/plain": [
              "[1, 100, 6, 3, 2, 7, 5, 4]"
            ]
          },
          "metadata": {},
          "execution_count": 30
        }
      ]
    },
    {
      "cell_type": "markdown",
      "metadata": {
        "id": "twBqWxkQ2j27"
      },
      "source": [
        "### remove() : 값 제거"
      ]
    },
    {
      "cell_type": "markdown",
      "metadata": {
        "id": "GFSPMzGn2ngJ"
      },
      "source": [
        "리스트에서 첫 번째 나오는 해당 값 삭제"
      ]
    },
    {
      "cell_type": "code",
      "metadata": {
        "id": "Dx28A1GMFC4D"
      },
      "source": [
        "mylist = [1, 2, 3, 4, 7, 7, 7, 6, 5]"
      ],
      "execution_count": 31,
      "outputs": []
    },
    {
      "cell_type": "code",
      "metadata": {
        "id": "TsBOX9IHVRgU"
      },
      "source": [
        "mylist.remove(7)"
      ],
      "execution_count": 32,
      "outputs": []
    },
    {
      "cell_type": "code",
      "metadata": {
        "id": "2IqkZq9r2xr2",
        "colab": {
          "base_uri": "https://localhost:8080/"
        },
        "outputId": "fbb7f9d3-aa10-4e37-e2db-b24e18d73188"
      },
      "source": [
        "mylist"
      ],
      "execution_count": 33,
      "outputs": [
        {
          "output_type": "execute_result",
          "data": {
            "text/plain": [
              "[1, 2, 3, 4, 7, 7, 6, 5]"
            ]
          },
          "metadata": {},
          "execution_count": 33
        }
      ]
    },
    {
      "cell_type": "markdown",
      "metadata": {
        "id": "fDheQenM2yX3"
      },
      "source": [
        "### pop() : 요소 꺼내기"
      ]
    },
    {
      "cell_type": "markdown",
      "metadata": {
        "id": "Alg4teMF2_ym"
      },
      "source": [
        "x번째 요소를 돌려주고 해당 요소는 삭제"
      ]
    },
    {
      "cell_type": "code",
      "metadata": {
        "id": "kMKHxQhkFU91"
      },
      "source": [
        "mylist = [1, 2, 3, 4, 7, 7, 7, 6, 5]"
      ],
      "execution_count": 34,
      "outputs": []
    },
    {
      "cell_type": "code",
      "metadata": {
        "id": "HFTjI5LLFW0N",
        "colab": {
          "base_uri": "https://localhost:8080/"
        },
        "outputId": "9b5d11c9-f56b-4671-b88a-b3296c198f4a"
      },
      "source": [
        "mylist"
      ],
      "execution_count": 35,
      "outputs": [
        {
          "output_type": "execute_result",
          "data": {
            "text/plain": [
              "[1, 2, 3, 4, 7, 7, 7, 6, 5]"
            ]
          },
          "metadata": {},
          "execution_count": 35
        }
      ]
    },
    {
      "cell_type": "code",
      "metadata": {
        "id": "SAnoxn-l2431",
        "colab": {
          "base_uri": "https://localhost:8080/"
        },
        "outputId": "b16c0020-cd94-436a-fb94-21eee8eb7fb4"
      },
      "source": [
        "mylist.pop(1)"
      ],
      "execution_count": 36,
      "outputs": [
        {
          "output_type": "execute_result",
          "data": {
            "text/plain": [
              "2"
            ]
          },
          "metadata": {},
          "execution_count": 36
        }
      ]
    },
    {
      "cell_type": "code",
      "metadata": {
        "id": "kETiPBoBFiYk",
        "colab": {
          "base_uri": "https://localhost:8080/"
        },
        "outputId": "6351573e-0c91-4d22-fb94-e721a6459210"
      },
      "source": [
        "mylist"
      ],
      "execution_count": 37,
      "outputs": [
        {
          "output_type": "execute_result",
          "data": {
            "text/plain": [
              "[1, 3, 4, 7, 7, 7, 6, 5]"
            ]
          },
          "metadata": {},
          "execution_count": 37
        }
      ]
    },
    {
      "cell_type": "markdown",
      "metadata": {
        "id": "V0N1pvlhcgXE"
      },
      "source": [
        "### del : 요소 삭제"
      ]
    },
    {
      "cell_type": "code",
      "metadata": {
        "id": "QrLwP1wLcgXE",
        "colab": {
          "base_uri": "https://localhost:8080/"
        },
        "outputId": "3f55b7d1-85d0-4350-c53f-6d60aa5e6873"
      },
      "source": [
        "mylist = [100, 200, 300, 400, 500]\n",
        "\n",
        "del mylist[1]\n",
        "print(mylist)\n",
        "\n",
        "del mylist[3]\n",
        "print(mylist)"
      ],
      "execution_count": 38,
      "outputs": [
        {
          "output_type": "stream",
          "name": "stdout",
          "text": [
            "[100, 300, 400, 500]\n",
            "[100, 300, 400]\n"
          ]
        }
      ]
    },
    {
      "cell_type": "markdown",
      "metadata": {
        "id": "uz1LiSBZ3F0C"
      },
      "source": [
        "### count() : 갯수 세기"
      ]
    },
    {
      "cell_type": "code",
      "metadata": {
        "id": "XAI1jJ6d3Lp7"
      },
      "source": [
        "a = [1, 1, 1, 1, 1, 2, 2, 3]"
      ],
      "execution_count": 39,
      "outputs": []
    },
    {
      "cell_type": "code",
      "metadata": {
        "id": "3nfuqjHB3Ojs",
        "colab": {
          "base_uri": "https://localhost:8080/"
        },
        "outputId": "57646d60-eb4b-4ffe-bc00-4179368e78b4"
      },
      "source": [
        "a.count(1)"
      ],
      "execution_count": 40,
      "outputs": [
        {
          "output_type": "execute_result",
          "data": {
            "text/plain": [
              "5"
            ]
          },
          "metadata": {},
          "execution_count": 40
        }
      ]
    },
    {
      "cell_type": "code",
      "metadata": {
        "id": "oJHVq8ev3P0_",
        "colab": {
          "base_uri": "https://localhost:8080/"
        },
        "outputId": "a284e623-fb88-4d96-aa34-618878aa04bc"
      },
      "source": [
        "a.count(2)"
      ],
      "execution_count": 41,
      "outputs": [
        {
          "output_type": "execute_result",
          "data": {
            "text/plain": [
              "2"
            ]
          },
          "metadata": {},
          "execution_count": 41
        }
      ]
    },
    {
      "cell_type": "code",
      "metadata": {
        "id": "jEoHgBm_3S5R",
        "colab": {
          "base_uri": "https://localhost:8080/"
        },
        "outputId": "6c92da5b-a8ed-4243-f3ed-ab341229acaf"
      },
      "source": [
        "a.count(5)"
      ],
      "execution_count": 42,
      "outputs": [
        {
          "output_type": "execute_result",
          "data": {
            "text/plain": [
              "0"
            ]
          },
          "metadata": {},
          "execution_count": 42
        }
      ]
    },
    {
      "cell_type": "markdown",
      "metadata": {
        "id": "t2s6BnF_3W04"
      },
      "source": [
        "### extend() : 리스트 확장"
      ]
    },
    {
      "cell_type": "code",
      "metadata": {
        "id": "h9U2co-U3Ww1"
      },
      "source": [
        "a = [1, 2, 3]"
      ],
      "execution_count": 43,
      "outputs": []
    },
    {
      "cell_type": "code",
      "metadata": {
        "id": "89lby2th3cn0"
      },
      "source": [
        "a.extend([4, 5])"
      ],
      "execution_count": 44,
      "outputs": []
    },
    {
      "cell_type": "code",
      "metadata": {
        "id": "l72yuhjZ3Wri",
        "colab": {
          "base_uri": "https://localhost:8080/"
        },
        "outputId": "1062964e-33f1-46aa-e56f-1bafae153539"
      },
      "source": [
        "a"
      ],
      "execution_count": 45,
      "outputs": [
        {
          "output_type": "execute_result",
          "data": {
            "text/plain": [
              "[1, 2, 3, 4, 5]"
            ]
          },
          "metadata": {},
          "execution_count": 45
        }
      ]
    },
    {
      "cell_type": "markdown",
      "metadata": {
        "id": "zYV3BI4zcgXG"
      },
      "source": [
        "`+` 연산자는 extend()와 동일한 기능을 수행합니다."
      ]
    },
    {
      "cell_type": "code",
      "metadata": {
        "id": "INJ26oUKcgXG",
        "colab": {
          "base_uri": "https://localhost:8080/"
        },
        "outputId": "ad5c45cc-01ad-4cee-a0e9-fcafa2f187d6"
      },
      "source": [
        "a = [1, 2, 3]\n",
        "a + [4, 5]"
      ],
      "execution_count": 46,
      "outputs": [
        {
          "output_type": "execute_result",
          "data": {
            "text/plain": [
              "[1, 2, 3, 4, 5]"
            ]
          },
          "metadata": {},
          "execution_count": 46
        }
      ]
    },
    {
      "cell_type": "markdown",
      "metadata": {
        "id": "fMAdPD_zkFZm"
      },
      "source": [
        "### 연습문제"
      ]
    },
    {
      "cell_type": "code",
      "metadata": {
        "id": "Kh3ZEKT0kIqA"
      },
      "source": [
        "movie = ['어벤져스', '아이언맨', '토르', '스파이더맨']"
      ],
      "execution_count": 50,
      "outputs": []
    },
    {
      "cell_type": "markdown",
      "metadata": {
        "id": "tyOTHPsMkzCo"
      },
      "source": [
        "`movie`에 맨 끝에 `엑스맨` 을 추가하세요."
      ]
    },
    {
      "cell_type": "code",
      "metadata": {
        "id": "PKEtjNIvlBek",
        "colab": {
          "base_uri": "https://localhost:8080/"
        },
        "outputId": "a3889ef6-8ca4-430a-a9ce-383d46631d31"
      },
      "source": [
        "# 코드를 입력해 주세요\n",
        "movie.append('엑스맨')\n",
        "movie"
      ],
      "execution_count": 51,
      "outputs": [
        {
          "output_type": "execute_result",
          "data": {
            "text/plain": [
              "['어벤져스', '아이언맨', '토르', '스파이더맨', '엑스맨']"
            ]
          },
          "metadata": {},
          "execution_count": 51
        }
      ]
    },
    {
      "cell_type": "markdown",
      "metadata": {
        "id": "IYdeyJyPcgXH"
      },
      "source": [
        "<p><strong>[출력 결과]</strong></p><pre>['어벤져스', '아이언맨', '토르', '스파이더맨', '엑스맨']</pre>"
      ]
    },
    {
      "cell_type": "markdown",
      "metadata": {
        "id": "iel_W4C6ofKa"
      },
      "source": [
        "`movie`의 1번 index에 `데드풀`을 추가하세요"
      ]
    },
    {
      "cell_type": "code",
      "metadata": {
        "id": "yGyNESOdorFN",
        "colab": {
          "base_uri": "https://localhost:8080/"
        },
        "outputId": "7326c958-3e6f-4a4f-a3f0-f730f0d76593"
      },
      "source": [
        "# 코드를 입력해 주세요\n",
        "movie.insert(1,'데드풀')\n",
        "movie"
      ],
      "execution_count": 52,
      "outputs": [
        {
          "output_type": "execute_result",
          "data": {
            "text/plain": [
              "['어벤져스', '데드풀', '아이언맨', '토르', '스파이더맨', '엑스맨']"
            ]
          },
          "metadata": {},
          "execution_count": 52
        }
      ]
    },
    {
      "cell_type": "markdown",
      "metadata": {
        "id": "-M36NN9VcgXH"
      },
      "source": [
        "<p><strong>[출력 결과]</strong></p><pre>['어벤져스', '데드풀', '아이언맨', '토르', '스파이더맨', '엑스맨']</pre>"
      ]
    },
    {
      "cell_type": "markdown",
      "metadata": {
        "id": "SyMuSUDFlICP"
      },
      "source": [
        "`movie`에서 `아이언맨`을 삭제 하세요.\n",
        "\n",
        "- remove() 사용"
      ]
    },
    {
      "cell_type": "code",
      "metadata": {
        "id": "y95NJRYSlQJb",
        "colab": {
          "base_uri": "https://localhost:8080/"
        },
        "outputId": "d30e66b8-aa61-4778-d927-89fad783ca6c"
      },
      "source": [
        "# 코드를 입력해 주세요\n",
        "movie.remove('아이언맨')\n",
        "movie"
      ],
      "execution_count": 53,
      "outputs": [
        {
          "output_type": "execute_result",
          "data": {
            "text/plain": [
              "['어벤져스', '데드풀', '토르', '스파이더맨', '엑스맨']"
            ]
          },
          "metadata": {},
          "execution_count": 53
        }
      ]
    },
    {
      "cell_type": "markdown",
      "metadata": {
        "id": "6gPuUw05cgXH"
      },
      "source": [
        "<p><strong>[출력 결과]</strong></p><pre>['어벤져스', '데드풀', '토르', '스파이더맨', '엑스맨']</pre>"
      ]
    },
    {
      "cell_type": "markdown",
      "metadata": {
        "id": "iL1uUEihcgXI"
      },
      "source": [
        "`movie`에서 1번째 index를 삭제하세요"
      ]
    },
    {
      "cell_type": "code",
      "metadata": {
        "id": "qwkIw2cgcgXI",
        "colab": {
          "base_uri": "https://localhost:8080/"
        },
        "outputId": "7e10351f-b9cf-48d1-fb27-889ea9c299ad"
      },
      "source": [
        "# 코드를 입력해 주세요\n",
        "del movie[1]\n",
        "movie"
      ],
      "execution_count": 56,
      "outputs": [
        {
          "output_type": "execute_result",
          "data": {
            "text/plain": [
              "['어벤져스', '토르', '스파이더맨', '엑스맨']"
            ]
          },
          "metadata": {},
          "execution_count": 56
        }
      ]
    },
    {
      "cell_type": "markdown",
      "metadata": {
        "id": "tTQQ1qwccgXI"
      },
      "source": [
        "<p><strong>[출력 결과]</strong></p><pre>['어벤져스', '토르', '스파이더맨', '엑스맨']</pre>"
      ]
    },
    {
      "cell_type": "code",
      "metadata": {
        "id": "6aQemYcxcgXI"
      },
      "source": [
        "kr_movie = ['승리호', '신세계', '타짜']"
      ],
      "execution_count": 58,
      "outputs": []
    },
    {
      "cell_type": "markdown",
      "metadata": {
        "id": "T4D9uE4EcgXI"
      },
      "source": [
        "`kr_movie`를 `movie`에 추가해 주세요"
      ]
    },
    {
      "cell_type": "code",
      "metadata": {
        "id": "-rMGPjTIcgXI",
        "colab": {
          "base_uri": "https://localhost:8080/"
        },
        "outputId": "5763aefc-c69c-4acf-c4eb-2845ab623b49"
      },
      "source": [
        "# 코드를 입력해 주세요\n",
        "movie.extend(kr_movie)\n",
        "movie"
      ],
      "execution_count": 61,
      "outputs": [
        {
          "output_type": "execute_result",
          "data": {
            "text/plain": [
              "['어벤져스', '토르', '스파이더맨', '엑스맨', '승리호', '신세계', '타짜']"
            ]
          },
          "metadata": {},
          "execution_count": 61
        }
      ]
    },
    {
      "cell_type": "markdown",
      "metadata": {
        "id": "_X_rL5kXcgXJ"
      },
      "source": [
        "<p><strong>[출력 결과]</strong></p><pre>['어벤져스', '토르', '스파이더맨', '엑스맨', '승리호', '신세계', '타짜']</pre>"
      ]
    },
    {
      "cell_type": "markdown",
      "metadata": {
        "id": "oykgqKmgcgXJ"
      },
      "source": [
        "`movie`를 가나다 순으로 정렬하세요"
      ]
    },
    {
      "cell_type": "code",
      "metadata": {
        "id": "VzlmuxO2cgXJ",
        "colab": {
          "base_uri": "https://localhost:8080/"
        },
        "outputId": "49a827a1-2607-4dd6-ad96-0904fdc7765a"
      },
      "source": [
        "# 코드를 입력해 주세요\n",
        "movie.sort()\n",
        "movie"
      ],
      "execution_count": 63,
      "outputs": [
        {
          "output_type": "execute_result",
          "data": {
            "text/plain": [
              "['스파이더맨', '승리호', '신세계', '어벤져스', '엑스맨', '타짜', '토르']"
            ]
          },
          "metadata": {},
          "execution_count": 63
        }
      ]
    },
    {
      "cell_type": "markdown",
      "metadata": {
        "id": "nxA8-WMDcgXJ"
      },
      "source": [
        "<p><strong>[출력 결과]</strong></p><pre>['스파이더맨', '승리호', '신세계', '어벤져스', '엑스맨', '타짜', '토르']</pre>"
      ]
    },
    {
      "cell_type": "markdown",
      "metadata": {
        "id": "k0w9nYxPWSNO"
      },
      "source": [
        "### 인덱싱(indexing): 색인"
      ]
    },
    {
      "cell_type": "code",
      "metadata": {
        "id": "qY6rAQpWW5Pr"
      },
      "source": [
        "mylist = [1, 2, 3, 4]"
      ],
      "execution_count": 64,
      "outputs": []
    },
    {
      "cell_type": "markdown",
      "metadata": {
        "id": "l9ad4C1XW9KE"
      },
      "source": [
        "인덱스는 **0번 부터 시작** 합니다."
      ]
    },
    {
      "cell_type": "code",
      "metadata": {
        "id": "nxGtMBuUWSXd",
        "colab": {
          "base_uri": "https://localhost:8080/"
        },
        "outputId": "dc00c7ec-c0ce-4b53-9053-3c1172877551"
      },
      "source": [
        "mylist[0]"
      ],
      "execution_count": 65,
      "outputs": [
        {
          "output_type": "execute_result",
          "data": {
            "text/plain": [
              "1"
            ]
          },
          "metadata": {},
          "execution_count": 65
        }
      ]
    },
    {
      "cell_type": "code",
      "metadata": {
        "id": "bQQaTXemXDk-",
        "colab": {
          "base_uri": "https://localhost:8080/"
        },
        "outputId": "fd3b9a1a-b6e7-4b08-cd9a-b6382dff89f4"
      },
      "source": [
        "mylist[3]"
      ],
      "execution_count": 66,
      "outputs": [
        {
          "output_type": "execute_result",
          "data": {
            "text/plain": [
              "4"
            ]
          },
          "metadata": {},
          "execution_count": 66
        }
      ]
    },
    {
      "cell_type": "code",
      "metadata": {
        "id": "GtO0YS9HXDe7",
        "colab": {
          "base_uri": "https://localhost:8080/",
          "height": 174
        },
        "outputId": "abee477e-14da-42db-e604-b8dc98c8d9db"
      },
      "source": [
        "mylist[4]"
      ],
      "execution_count": 67,
      "outputs": [
        {
          "output_type": "error",
          "ename": "IndexError",
          "evalue": "ignored",
          "traceback": [
            "\u001b[0;31m---------------------------------------------------------------------------\u001b[0m",
            "\u001b[0;31mIndexError\u001b[0m                                Traceback (most recent call last)",
            "\u001b[0;32m<ipython-input-67-88b11041aa4f>\u001b[0m in \u001b[0;36m<cell line: 1>\u001b[0;34m()\u001b[0m\n\u001b[0;32m----> 1\u001b[0;31m \u001b[0mmylist\u001b[0m\u001b[0;34m[\u001b[0m\u001b[0;36m4\u001b[0m\u001b[0;34m]\u001b[0m\u001b[0;34m\u001b[0m\u001b[0;34m\u001b[0m\u001b[0m\n\u001b[0m",
            "\u001b[0;31mIndexError\u001b[0m: list index out of range"
          ]
        }
      ]
    },
    {
      "cell_type": "markdown",
      "metadata": {
        "id": "gx3q3lpGBfI2"
      },
      "source": [
        "### 역순 인덱싱\n",
        "\n",
        "파이썬은 음수 인덱싱을 지원합니다."
      ]
    },
    {
      "cell_type": "code",
      "metadata": {
        "id": "jJbfxm9TKRMJ",
        "colab": {
          "base_uri": "https://localhost:8080/"
        },
        "outputId": "ed4f6cda-0d16-4f77-89f9-3583f59d27f9"
      },
      "source": [
        "mylist"
      ],
      "execution_count": 68,
      "outputs": [
        {
          "output_type": "execute_result",
          "data": {
            "text/plain": [
              "[1, 2, 3, 4]"
            ]
          },
          "metadata": {},
          "execution_count": 68
        }
      ]
    },
    {
      "cell_type": "code",
      "metadata": {
        "id": "OPtminJaBZCg",
        "colab": {
          "base_uri": "https://localhost:8080/"
        },
        "outputId": "64643f3d-58ef-4d7d-847c-4c9b6370d5b7"
      },
      "source": [
        "mylist[-1]"
      ],
      "execution_count": 69,
      "outputs": [
        {
          "output_type": "execute_result",
          "data": {
            "text/plain": [
              "4"
            ]
          },
          "metadata": {},
          "execution_count": 69
        }
      ]
    },
    {
      "cell_type": "code",
      "metadata": {
        "id": "PuCoYHPEBbve",
        "colab": {
          "base_uri": "https://localhost:8080/"
        },
        "outputId": "d332fa71-b422-456f-d20d-f4f0a9aad6e3"
      },
      "source": [
        "mylist[-3]"
      ],
      "execution_count": 70,
      "outputs": [
        {
          "output_type": "execute_result",
          "data": {
            "text/plain": [
              "2"
            ]
          },
          "metadata": {},
          "execution_count": 70
        }
      ]
    },
    {
      "cell_type": "code",
      "metadata": {
        "id": "dvsC2y9hXDYq",
        "colab": {
          "base_uri": "https://localhost:8080/",
          "height": 174
        },
        "outputId": "1ac33305-f0aa-4bdf-fa9f-fc37da925ef9"
      },
      "source": [
        "mylist[-5]"
      ],
      "execution_count": 71,
      "outputs": [
        {
          "output_type": "error",
          "ename": "IndexError",
          "evalue": "ignored",
          "traceback": [
            "\u001b[0;31m---------------------------------------------------------------------------\u001b[0m",
            "\u001b[0;31mIndexError\u001b[0m                                Traceback (most recent call last)",
            "\u001b[0;32m<ipython-input-71-7f152f66d2d3>\u001b[0m in \u001b[0;36m<cell line: 1>\u001b[0;34m()\u001b[0m\n\u001b[0;32m----> 1\u001b[0;31m \u001b[0mmylist\u001b[0m\u001b[0;34m[\u001b[0m\u001b[0;34m-\u001b[0m\u001b[0;36m5\u001b[0m\u001b[0;34m]\u001b[0m\u001b[0;34m\u001b[0m\u001b[0;34m\u001b[0m\u001b[0m\n\u001b[0m",
            "\u001b[0;31mIndexError\u001b[0m: list index out of range"
          ]
        }
      ]
    },
    {
      "cell_type": "markdown",
      "metadata": {
        "id": "TZEqteGEXtJZ"
      },
      "source": [
        "### 인덱스로 접근하여 값 바꾸기"
      ]
    },
    {
      "cell_type": "code",
      "metadata": {
        "id": "WndBOK7DXwqk",
        "colab": {
          "base_uri": "https://localhost:8080/"
        },
        "outputId": "b863aa99-221a-4ffe-9cc1-5c467899d1ea"
      },
      "source": [
        "mylist = [1, 2, 3, 4, 5]\n",
        "mylist"
      ],
      "execution_count": 73,
      "outputs": [
        {
          "output_type": "execute_result",
          "data": {
            "text/plain": [
              "[1, 2, 3, 4, 5]"
            ]
          },
          "metadata": {},
          "execution_count": 73
        }
      ]
    },
    {
      "cell_type": "code",
      "metadata": {
        "id": "qVZF6qydXyQa",
        "colab": {
          "base_uri": "https://localhost:8080/"
        },
        "outputId": "01f724ff-14b2-42c0-ea22-67ea401d9528"
      },
      "source": [
        "mylist[0]"
      ],
      "execution_count": 74,
      "outputs": [
        {
          "output_type": "execute_result",
          "data": {
            "text/plain": [
              "1"
            ]
          },
          "metadata": {},
          "execution_count": 74
        }
      ]
    },
    {
      "cell_type": "code",
      "metadata": {
        "id": "0CUByTZgX1yF"
      },
      "source": [
        "mylist[0] = 100"
      ],
      "execution_count": 75,
      "outputs": []
    },
    {
      "cell_type": "code",
      "metadata": {
        "id": "p841RzROX4C4",
        "colab": {
          "base_uri": "https://localhost:8080/"
        },
        "outputId": "b17548e4-9860-4c26-f0b0-7d8a78a10d38"
      },
      "source": [
        "mylist"
      ],
      "execution_count": 76,
      "outputs": [
        {
          "output_type": "execute_result",
          "data": {
            "text/plain": [
              "[100, 2, 3, 4, 5]"
            ]
          },
          "metadata": {},
          "execution_count": 76
        }
      ]
    },
    {
      "cell_type": "code",
      "metadata": {
        "id": "O_VdrWZCBxiT"
      },
      "source": [
        "mylist[-1] = 300"
      ],
      "execution_count": 77,
      "outputs": []
    },
    {
      "cell_type": "code",
      "metadata": {
        "id": "kLL0oa0GB0D9",
        "colab": {
          "base_uri": "https://localhost:8080/"
        },
        "outputId": "5585c632-dd6f-41d9-99aa-3b5ba7a6c277"
      },
      "source": [
        "mylist"
      ],
      "execution_count": 78,
      "outputs": [
        {
          "output_type": "execute_result",
          "data": {
            "text/plain": [
              "[100, 2, 3, 4, 300]"
            ]
          },
          "metadata": {},
          "execution_count": 78
        }
      ]
    },
    {
      "cell_type": "markdown",
      "metadata": {
        "id": "oMoED0ZjCiuJ"
      },
      "source": [
        "### 중첩된 리스트 인덱싱\n",
        "\n",
        "중첩된 리스트에 대한 리스트는 중첩 인덱싱으로 접근합니다. 값을 변경하는 것도 가능합니다."
      ]
    },
    {
      "cell_type": "code",
      "metadata": {
        "id": "7zq8_J2VCk1K"
      },
      "source": [
        "mylist = [['가', '나', '다'], [4, 5, 6], 7, 8, 9]"
      ],
      "execution_count": 79,
      "outputs": []
    },
    {
      "cell_type": "code",
      "metadata": {
        "id": "atfiWonnCps3",
        "colab": {
          "base_uri": "https://localhost:8080/"
        },
        "outputId": "ce3d3ec8-e8ab-4304-b86f-483695b9b38e"
      },
      "source": [
        "mylist"
      ],
      "execution_count": 80,
      "outputs": [
        {
          "output_type": "execute_result",
          "data": {
            "text/plain": [
              "[['가', '나', '다'], [4, 5, 6], 7, 8, 9]"
            ]
          },
          "metadata": {},
          "execution_count": 80
        }
      ]
    },
    {
      "cell_type": "markdown",
      "metadata": {
        "id": "A_B6DNx0cgXM"
      },
      "source": [
        "1 번째 리스트 요소를 가져옵니다."
      ]
    },
    {
      "cell_type": "code",
      "metadata": {
        "id": "yaa8MwGFCydQ",
        "colab": {
          "base_uri": "https://localhost:8080/"
        },
        "outputId": "6b700251-38c6-4b3e-88ca-82b12fbffe71"
      },
      "source": [
        "mylist[1]"
      ],
      "execution_count": 81,
      "outputs": [
        {
          "output_type": "execute_result",
          "data": {
            "text/plain": [
              "[4, 5, 6]"
            ]
          },
          "metadata": {},
          "execution_count": 81
        }
      ]
    },
    {
      "cell_type": "markdown",
      "metadata": {
        "id": "ijnFOY_FcgXM"
      },
      "source": [
        "1번째 리스트의 요소 중 1번째 요소를 가져오기 위해서는 중첩 인덱싱으로 접근합니다."
      ]
    },
    {
      "cell_type": "code",
      "metadata": {
        "id": "MeunbeUJCqwG",
        "colab": {
          "base_uri": "https://localhost:8080/"
        },
        "outputId": "c05687ac-c9d6-4890-d419-0dbc61dfbae6"
      },
      "source": [
        "mylist[1][1]"
      ],
      "execution_count": 82,
      "outputs": [
        {
          "output_type": "execute_result",
          "data": {
            "text/plain": [
              "5"
            ]
          },
          "metadata": {},
          "execution_count": 82
        }
      ]
    },
    {
      "cell_type": "code",
      "metadata": {
        "id": "eJ2WkRQHcgXN"
      },
      "source": [
        "mylist[1][1] = 99"
      ],
      "execution_count": 83,
      "outputs": []
    },
    {
      "cell_type": "code",
      "metadata": {
        "id": "svKqsaMAcgXN",
        "colab": {
          "base_uri": "https://localhost:8080/"
        },
        "outputId": "18e00fe7-8831-48e9-898f-c2fa03b8d081"
      },
      "source": [
        "mylist"
      ],
      "execution_count": 84,
      "outputs": [
        {
          "output_type": "execute_result",
          "data": {
            "text/plain": [
              "[['가', '나', '다'], [4, 99, 6], 7, 8, 9]"
            ]
          },
          "metadata": {},
          "execution_count": 84
        }
      ]
    },
    {
      "cell_type": "markdown",
      "metadata": {
        "id": "Lk3yqujcB17e"
      },
      "source": [
        "### 슬라이싱(Slicing): 범위 추출\n",
        "\n",
        "- 슬라이싱의 활용: [start:stop:step] 을 명시하여 부분을 추출할 수 있습니다."
      ]
    },
    {
      "cell_type": "code",
      "metadata": {
        "id": "Lt-oJ8cyB8cg"
      },
      "source": [
        "mylist = [100, 200, 300, 400, 500]"
      ],
      "execution_count": 85,
      "outputs": []
    },
    {
      "cell_type": "markdown",
      "metadata": {
        "id": "3uetfPWRcgXN"
      },
      "source": [
        "[:]을 활용하여 전체를 추출할 수 있습니다."
      ]
    },
    {
      "cell_type": "code",
      "metadata": {
        "id": "LlxZGt5ScgXN",
        "colab": {
          "base_uri": "https://localhost:8080/"
        },
        "outputId": "20337edc-651c-4dc5-8448-aa92f713fee9"
      },
      "source": [
        "mylist[:]"
      ],
      "execution_count": 86,
      "outputs": [
        {
          "output_type": "execute_result",
          "data": {
            "text/plain": [
              "[100, 200, 300, 400, 500]"
            ]
          },
          "metadata": {},
          "execution_count": 86
        }
      ]
    },
    {
      "cell_type": "markdown",
      "metadata": {
        "id": "ZZUcYYADcgXO"
      },
      "source": [
        "[start:]는 시작 index 부터 끝까지 추출합니다."
      ]
    },
    {
      "cell_type": "code",
      "metadata": {
        "id": "d_gcUsl-cgXO",
        "colab": {
          "base_uri": "https://localhost:8080/"
        },
        "outputId": "c0b5a9bf-e796-4326-8c24-0981f7aad771"
      },
      "source": [
        "mylist[2:]"
      ],
      "execution_count": 87,
      "outputs": [
        {
          "output_type": "execute_result",
          "data": {
            "text/plain": [
              "[300, 400, 500]"
            ]
          },
          "metadata": {},
          "execution_count": 87
        }
      ]
    },
    {
      "cell_type": "code",
      "metadata": {
        "id": "gj-I9-Y8cgXO",
        "colab": {
          "base_uri": "https://localhost:8080/"
        },
        "outputId": "2818db7c-f840-4c96-d4bf-f99f1af68f66"
      },
      "source": [
        "mylist[-3:]"
      ],
      "execution_count": 88,
      "outputs": [
        {
          "output_type": "execute_result",
          "data": {
            "text/plain": [
              "[300, 400, 500]"
            ]
          },
          "metadata": {},
          "execution_count": 88
        }
      ]
    },
    {
      "cell_type": "markdown",
      "metadata": {
        "id": "ortJeJu2cgXO"
      },
      "source": [
        "[:end]는 처음부터 end 전까지 추출합니다."
      ]
    },
    {
      "cell_type": "code",
      "metadata": {
        "id": "YetcbGj3cgXO",
        "colab": {
          "base_uri": "https://localhost:8080/"
        },
        "outputId": "7e8501a3-3e8d-467e-e779-3833322cd6ff"
      },
      "source": [
        "mylist[:3]"
      ],
      "execution_count": 89,
      "outputs": [
        {
          "output_type": "execute_result",
          "data": {
            "text/plain": [
              "[100, 200, 300]"
            ]
          },
          "metadata": {},
          "execution_count": 89
        }
      ]
    },
    {
      "cell_type": "markdown",
      "metadata": {
        "id": "CYTO8yWucgXP"
      },
      "source": [
        "[start:end]는 start부터 end 전까지 추출합니다."
      ]
    },
    {
      "cell_type": "code",
      "metadata": {
        "id": "rav_w8CYB5Pn",
        "colab": {
          "base_uri": "https://localhost:8080/"
        },
        "outputId": "9459682c-0df3-464b-897b-c7c6c4457f13"
      },
      "source": [
        "mylist[1:3]"
      ],
      "execution_count": 90,
      "outputs": [
        {
          "output_type": "execute_result",
          "data": {
            "text/plain": [
              "[200, 300]"
            ]
          },
          "metadata": {},
          "execution_count": 90
        }
      ]
    },
    {
      "cell_type": "code",
      "metadata": {
        "id": "1VfFQEdMB7Kc",
        "colab": {
          "base_uri": "https://localhost:8080/"
        },
        "outputId": "6cd71e7e-f648-4ca1-dc09-2dbece21148a"
      },
      "source": [
        "mylist[-3: -1]"
      ],
      "execution_count": 91,
      "outputs": [
        {
          "output_type": "execute_result",
          "data": {
            "text/plain": [
              "[300, 400]"
            ]
          },
          "metadata": {},
          "execution_count": 91
        }
      ]
    },
    {
      "cell_type": "markdown",
      "metadata": {
        "id": "Opa0KIuJcgXP"
      },
      "source": [
        "## 연습문제"
      ]
    },
    {
      "cell_type": "code",
      "metadata": {
        "id": "vZtzFJtOlQGA"
      },
      "source": [
        "fruit = ['사과', '바나나', '파인애플', '배', '수박', '키위', '오렌지', '망고', '딸기']"
      ],
      "execution_count": 92,
      "outputs": []
    },
    {
      "cell_type": "markdown",
      "metadata": {
        "id": "ZO9-b0FXlQB_"
      },
      "source": [
        "list **인덱싱** & **슬라이싱**을 사용하여 다음과 같이 출력 하세요"
      ]
    },
    {
      "cell_type": "code",
      "metadata": {
        "id": "ag-1JlpllPyM",
        "colab": {
          "base_uri": "https://localhost:8080/"
        },
        "outputId": "d0387c6b-93c7-4810-8344-a97541dd5b1d"
      },
      "source": [
        "# 코드를 입력해 주세요\n",
        "fruit[2:5]"
      ],
      "execution_count": 93,
      "outputs": [
        {
          "output_type": "execute_result",
          "data": {
            "text/plain": [
              "['파인애플', '배', '수박']"
            ]
          },
          "metadata": {},
          "execution_count": 93
        }
      ]
    },
    {
      "cell_type": "markdown",
      "metadata": {
        "id": "UEzyWXpUcgXQ"
      },
      "source": [
        "<p><strong>[출력 결과]</strong></p><pre>['파인애플', '배', '수박']</pre>"
      ]
    },
    {
      "cell_type": "code",
      "metadata": {
        "id": "0LRqKruin8YG",
        "colab": {
          "base_uri": "https://localhost:8080/"
        },
        "outputId": "5600005f-d35a-429a-dc7a-fe551d5b20f7"
      },
      "source": [
        "# 코드를 입력해 주세요\n",
        "fruit[-2:]"
      ],
      "execution_count": 94,
      "outputs": [
        {
          "output_type": "execute_result",
          "data": {
            "text/plain": [
              "['망고', '딸기']"
            ]
          },
          "metadata": {},
          "execution_count": 94
        }
      ]
    },
    {
      "cell_type": "markdown",
      "metadata": {
        "id": "AZjXRFb9cgXQ"
      },
      "source": [
        "<p><strong>[출력 결과]</strong></p><pre>['망고', '딸기']</pre>"
      ]
    },
    {
      "cell_type": "code",
      "metadata": {
        "id": "M2FntdLxoCN4",
        "colab": {
          "base_uri": "https://localhost:8080/"
        },
        "outputId": "9c370523-522f-4172-9638-f929fd30baab"
      },
      "source": [
        "# 코드를 입력해 주세요\n",
        "fruit[:3]"
      ],
      "execution_count": 95,
      "outputs": [
        {
          "output_type": "execute_result",
          "data": {
            "text/plain": [
              "['사과', '바나나', '파인애플']"
            ]
          },
          "metadata": {},
          "execution_count": 95
        }
      ]
    },
    {
      "cell_type": "markdown",
      "metadata": {
        "id": "DBG4Ck9mcgXQ"
      },
      "source": [
        "<p><strong>[출력 결과]</strong></p><pre>['사과', '바나나', '파인애플']</pre>"
      ]
    },
    {
      "cell_type": "code",
      "metadata": {
        "id": "8tdoEreLoC7Y",
        "colab": {
          "base_uri": "https://localhost:8080/"
        },
        "outputId": "070034dd-c986-4faa-91c9-6a01e69bb1ad"
      },
      "source": [
        "# 코드를 입력해 주세요\n",
        "fruit[3:]"
      ],
      "execution_count": 97,
      "outputs": [
        {
          "output_type": "execute_result",
          "data": {
            "text/plain": [
              "['배', '수박', '키위', '오렌지', '망고', '딸기']"
            ]
          },
          "metadata": {},
          "execution_count": 97
        }
      ]
    },
    {
      "cell_type": "markdown",
      "metadata": {
        "id": "uYLnKSHvcgXR"
      },
      "source": [
        "<p><strong>[출력 결과]</strong></p><pre>['배', '수박', '키위', '오렌지', '망고', '딸기']</pre>"
      ]
    },
    {
      "cell_type": "markdown",
      "metadata": {
        "id": "yW2psuKpcgXR"
      },
      "source": [
        "## indexing 에 step 활용하기\n",
        "\n",
        "list[start:stop:step]\n",
        "\n",
        "- step은 몇 칸씩 건너 뛰는지 지정합니다."
      ]
    },
    {
      "cell_type": "code",
      "metadata": {
        "id": "9rOT3phDcgXR"
      },
      "source": [
        "mylist = [100, 200, 300, 400, 500]"
      ],
      "execution_count": 98,
      "outputs": []
    },
    {
      "cell_type": "markdown",
      "metadata": {
        "id": "g1WagDZIcgXR"
      },
      "source": [
        "**2칸**씩 건너뛰기"
      ]
    },
    {
      "cell_type": "code",
      "metadata": {
        "id": "D4g325mkcgXR",
        "colab": {
          "base_uri": "https://localhost:8080/"
        },
        "outputId": "0cc130c6-e656-469a-9efd-f43d8452709b"
      },
      "source": [
        "mylist[::2]"
      ],
      "execution_count": 99,
      "outputs": [
        {
          "output_type": "execute_result",
          "data": {
            "text/plain": [
              "[100, 300, 500]"
            ]
          },
          "metadata": {},
          "execution_count": 99
        }
      ]
    },
    {
      "cell_type": "markdown",
      "metadata": {
        "id": "d8PbS7H_cgXR"
      },
      "source": [
        "**역순** 출력"
      ]
    },
    {
      "cell_type": "code",
      "metadata": {
        "id": "gLiZA4VEcgXU",
        "colab": {
          "base_uri": "https://localhost:8080/"
        },
        "outputId": "9549967b-53d8-40d9-86f0-002681526f2c"
      },
      "source": [
        "mylist[::-1]"
      ],
      "execution_count": 100,
      "outputs": [
        {
          "output_type": "execute_result",
          "data": {
            "text/plain": [
              "[500, 400, 300, 200, 100]"
            ]
          },
          "metadata": {},
          "execution_count": 100
        }
      ]
    },
    {
      "cell_type": "markdown",
      "metadata": {
        "id": "PTCF7gc6cgXV"
      },
      "source": [
        "역순 그리고 **2칸씩** 건너뛰기"
      ]
    },
    {
      "cell_type": "code",
      "metadata": {
        "id": "EHWHi-3tcgXV",
        "colab": {
          "base_uri": "https://localhost:8080/"
        },
        "outputId": "8d8e430c-c562-45c7-d9d2-703226451f0f"
      },
      "source": [
        "mylist[::-2]"
      ],
      "execution_count": 101,
      "outputs": [
        {
          "output_type": "execute_result",
          "data": {
            "text/plain": [
              "[500, 300, 100]"
            ]
          },
          "metadata": {},
          "execution_count": 101
        }
      ]
    },
    {
      "cell_type": "code",
      "metadata": {
        "id": "30jcpRxINKBM",
        "colab": {
          "base_uri": "https://localhost:8080/"
        },
        "outputId": "d83e9f94-2ded-49e7-f102-ca5cf13e8178"
      },
      "source": [
        "mylist"
      ],
      "execution_count": 102,
      "outputs": [
        {
          "output_type": "execute_result",
          "data": {
            "text/plain": [
              "[100, 200, 300, 400, 500]"
            ]
          },
          "metadata": {},
          "execution_count": 102
        }
      ]
    },
    {
      "cell_type": "code",
      "metadata": {
        "id": "U_ntjhL8NEA4",
        "colab": {
          "base_uri": "https://localhost:8080/"
        },
        "outputId": "70f48883-0eb8-463e-accc-ff01b72456da"
      },
      "source": [
        "mylist[1::2]"
      ],
      "execution_count": 103,
      "outputs": [
        {
          "output_type": "execute_result",
          "data": {
            "text/plain": [
              "[200, 400]"
            ]
          },
          "metadata": {},
          "execution_count": 103
        }
      ]
    },
    {
      "cell_type": "code",
      "metadata": {
        "id": "Cvi-e1PKNLz_",
        "colab": {
          "base_uri": "https://localhost:8080/"
        },
        "outputId": "88d199e9-bca8-4e76-aa56-158ac1ff5f67"
      },
      "source": [
        "mylist[-2::-2]"
      ],
      "execution_count": 104,
      "outputs": [
        {
          "output_type": "execute_result",
          "data": {
            "text/plain": [
              "[400, 200]"
            ]
          },
          "metadata": {},
          "execution_count": 104
        }
      ]
    },
    {
      "cell_type": "markdown",
      "metadata": {
        "id": "ptw8hALtmcIY"
      },
      "source": [
        "### list 덧셈: list 확장"
      ]
    },
    {
      "cell_type": "code",
      "metadata": {
        "id": "6AY5OCBUmm6W"
      },
      "source": [
        "a = [1, 2, 3, 4]\n",
        "b = [5, 6, 7, 8]"
      ],
      "execution_count": 105,
      "outputs": []
    },
    {
      "cell_type": "code",
      "metadata": {
        "id": "Vh4kSzvimpSM",
        "colab": {
          "base_uri": "https://localhost:8080/"
        },
        "outputId": "06d5eb8e-e7ba-494d-ab27-cdbc2a12d9aa"
      },
      "source": [
        "a + b"
      ],
      "execution_count": 106,
      "outputs": [
        {
          "output_type": "execute_result",
          "data": {
            "text/plain": [
              "[1, 2, 3, 4, 5, 6, 7, 8]"
            ]
          },
          "metadata": {},
          "execution_count": 106
        }
      ]
    },
    {
      "cell_type": "code",
      "metadata": {
        "id": "lmDtkjFWcgXV"
      },
      "source": [
        "a = ['a', 'b', 'c']\n",
        "b = ['d', 'e', 'f']"
      ],
      "execution_count": 107,
      "outputs": []
    },
    {
      "cell_type": "code",
      "metadata": {
        "id": "Nd7plO0ecgXW",
        "colab": {
          "base_uri": "https://localhost:8080/"
        },
        "outputId": "a4567a4b-e370-49a0-ca74-b36f8da3509a"
      },
      "source": [
        "a + b"
      ],
      "execution_count": 108,
      "outputs": [
        {
          "output_type": "execute_result",
          "data": {
            "text/plain": [
              "['a', 'b', 'c', 'd', 'e', 'f']"
            ]
          },
          "metadata": {},
          "execution_count": 108
        }
      ]
    },
    {
      "cell_type": "markdown",
      "metadata": {
        "id": "kd8wNXq-cgXW"
      },
      "source": [
        "### list 곱셈: list 반복"
      ]
    },
    {
      "cell_type": "code",
      "metadata": {
        "id": "p3T5v4W-cgXW"
      },
      "source": [
        "a = ['a', 'b', 'c']\n",
        "b = [1, 2, 3, 4]"
      ],
      "execution_count": 109,
      "outputs": []
    },
    {
      "cell_type": "code",
      "metadata": {
        "id": "RHkI26zzm0Jm",
        "colab": {
          "base_uri": "https://localhost:8080/"
        },
        "outputId": "39b625ab-c342-44f5-b3cb-bba5a09fc5d8"
      },
      "source": [
        "a * 2"
      ],
      "execution_count": 110,
      "outputs": [
        {
          "output_type": "execute_result",
          "data": {
            "text/plain": [
              "['a', 'b', 'c', 'a', 'b', 'c']"
            ]
          },
          "metadata": {},
          "execution_count": 110
        }
      ]
    },
    {
      "cell_type": "code",
      "metadata": {
        "id": "aKslp1d_myjj",
        "colab": {
          "base_uri": "https://localhost:8080/"
        },
        "outputId": "f3b200a4-e529-4496-af0c-b7b5a1bb192c"
      },
      "source": [
        "b * 3"
      ],
      "execution_count": 111,
      "outputs": [
        {
          "output_type": "execute_result",
          "data": {
            "text/plain": [
              "[1, 2, 3, 4, 1, 2, 3, 4, 1, 2, 3, 4]"
            ]
          },
          "metadata": {},
          "execution_count": 111
        }
      ]
    },
    {
      "cell_type": "code",
      "metadata": {
        "id": "NP22dxkCNyqr",
        "colab": {
          "base_uri": "https://localhost:8080/",
          "height": 174
        },
        "outputId": "16601009-d757-4ce4-9ed0-a4c46cdf8716"
      },
      "source": [
        "a * b"
      ],
      "execution_count": 112,
      "outputs": [
        {
          "output_type": "error",
          "ename": "TypeError",
          "evalue": "ignored",
          "traceback": [
            "\u001b[0;31m---------------------------------------------------------------------------\u001b[0m",
            "\u001b[0;31mTypeError\u001b[0m                                 Traceback (most recent call last)",
            "\u001b[0;32m<ipython-input-112-9bc1a869709f>\u001b[0m in \u001b[0;36m<cell line: 1>\u001b[0;34m()\u001b[0m\n\u001b[0;32m----> 1\u001b[0;31m \u001b[0ma\u001b[0m \u001b[0;34m*\u001b[0m \u001b[0mb\u001b[0m\u001b[0;34m\u001b[0m\u001b[0;34m\u001b[0m\u001b[0m\n\u001b[0m",
            "\u001b[0;31mTypeError\u001b[0m: can't multiply sequence by non-int of type 'list'"
          ]
        }
      ]
    },
    {
      "cell_type": "markdown",
      "metadata": {
        "id": "KU1npbc5cgXW"
      },
      "source": [
        "### 연습문제 1\n",
        "\n",
        "sample = [1, 3, 5, 4, 2] 리스트를 슬라이싱을 이용하여 [2, 4, 5, 3, 1]로 출력하세요"
      ]
    },
    {
      "cell_type": "code",
      "metadata": {
        "id": "mHYYlteecgXW"
      },
      "source": [
        "sample = [1, 3, 5, 4, 2]"
      ],
      "execution_count": 113,
      "outputs": []
    },
    {
      "cell_type": "markdown",
      "metadata": {
        "id": "N0L-K4eycgXX"
      },
      "source": [
        "슬라이싱을 사용해 다음과 같이 출력해 주세요"
      ]
    },
    {
      "cell_type": "code",
      "metadata": {
        "id": "zQdd3ZJfcgXX",
        "colab": {
          "base_uri": "https://localhost:8080/"
        },
        "outputId": "0798a2f4-cb46-4ed0-a6ce-0d0c60e0137a"
      },
      "source": [
        "# 코드를 입력해 주세요\n",
        "sample[::-1]"
      ],
      "execution_count": 114,
      "outputs": [
        {
          "output_type": "execute_result",
          "data": {
            "text/plain": [
              "[2, 4, 5, 3, 1]"
            ]
          },
          "metadata": {},
          "execution_count": 114
        }
      ]
    },
    {
      "cell_type": "markdown",
      "metadata": {
        "id": "1sKjKkzAcgXX"
      },
      "source": [
        "<p><strong>[출력 결과]</strong></p><pre>[2, 4, 5, 3, 1]</pre>"
      ]
    },
    {
      "cell_type": "markdown",
      "metadata": {
        "id": "1OvEx4SkcgXX"
      },
      "source": [
        "슬라이싱을 사용해 다음과 같이 출력해 주세요"
      ]
    },
    {
      "cell_type": "code",
      "metadata": {
        "id": "lJA3FlducgXX",
        "colab": {
          "base_uri": "https://localhost:8080/"
        },
        "outputId": "4d7f3783-02c9-42ec-b0bb-ec3e3d545353"
      },
      "source": [
        "# 코드를 입력해 주세요\n",
        "sample[::2]"
      ],
      "execution_count": 115,
      "outputs": [
        {
          "output_type": "execute_result",
          "data": {
            "text/plain": [
              "[1, 5, 2]"
            ]
          },
          "metadata": {},
          "execution_count": 115
        }
      ]
    },
    {
      "cell_type": "markdown",
      "metadata": {
        "id": "Mgj141MQcgXX"
      },
      "source": [
        "<p><strong>[출력 결과]</strong></p><pre>[1, 5, 2]</pre>"
      ]
    },
    {
      "cell_type": "markdown",
      "metadata": {
        "id": "c3BUSj2ncgXY"
      },
      "source": [
        "슬라이싱을 사용해 다음과 같이 출력해 주세요"
      ]
    },
    {
      "cell_type": "code",
      "metadata": {
        "id": "_ykHb6H0cgXY",
        "colab": {
          "base_uri": "https://localhost:8080/"
        },
        "outputId": "3d72445b-a009-426d-cf4a-c63c08b56688"
      },
      "source": [
        "# 코드를 입력해 주세요\n",
        "sample[-3::-2]"
      ],
      "execution_count": 116,
      "outputs": [
        {
          "output_type": "execute_result",
          "data": {
            "text/plain": [
              "[5, 1]"
            ]
          },
          "metadata": {},
          "execution_count": 116
        }
      ]
    },
    {
      "cell_type": "markdown",
      "metadata": {
        "id": "1pkSppmUcgXY"
      },
      "source": [
        "<p><strong>[출력 결과]</strong></p><pre>[5, 1]</pre>"
      ]
    },
    {
      "cell_type": "markdown",
      "metadata": {
        "id": "0_mJjKgJ3PXj"
      },
      "source": [
        "### 연습문제 2\n",
        "\n",
        "- 아래의 값을 저장하고 있는 `myList` 변수를 생성하세요.\n",
        "- [[1,2,3],[4,5,6],[7,8]]"
      ]
    },
    {
      "cell_type": "code",
      "metadata": {
        "id": "cYw8v3Wc3PXj",
        "colab": {
          "base_uri": "https://localhost:8080/"
        },
        "outputId": "58ce35ed-02b1-464d-9e02-7ebb19a08c20"
      },
      "source": [
        "myList = [[1,2,3],[4,5,6],[7,8]]\n",
        "myList"
      ],
      "execution_count": 119,
      "outputs": [
        {
          "output_type": "execute_result",
          "data": {
            "text/plain": [
              "[[1, 2, 3], [4, 5, 6], [7, 8]]"
            ]
          },
          "metadata": {},
          "execution_count": 119
        }
      ]
    },
    {
      "cell_type": "markdown",
      "metadata": {
        "id": "huln3pHGqluk"
      },
      "source": [
        "- 9를 `myList`에 추가하여 아래의 값을 저장할 수 있도록 하세요.\n",
        "    - [[1,2,3],[4,5,6],[7,8,9]]"
      ]
    },
    {
      "cell_type": "code",
      "metadata": {
        "id": "fQwG-KLiq_Aq",
        "colab": {
          "base_uri": "https://localhost:8080/"
        },
        "outputId": "fca33239-3ed3-4f2f-936e-8d9b1f4d9a90"
      },
      "source": [
        "# 코드를 입력해 주세요\n",
        "myList[2].append(9)\n",
        "myList"
      ],
      "execution_count": 120,
      "outputs": [
        {
          "output_type": "execute_result",
          "data": {
            "text/plain": [
              "[[1, 2, 3], [4, 5, 6], [7, 8, 9]]"
            ]
          },
          "metadata": {},
          "execution_count": 120
        }
      ]
    },
    {
      "cell_type": "markdown",
      "metadata": {
        "id": "RTzDXq3ZcgXZ"
      },
      "source": [
        "<p><strong>[출력 결과]</strong></p><pre>[[1, 2, 3], [4, 5, 6], [7, 8, 9]]</pre>"
      ]
    },
    {
      "cell_type": "markdown",
      "metadata": {
        "id": "6f1LiPaaWA6a"
      },
      "source": [
        "## 튜플(tuple)\n",
        "\n",
        "- 리스트(list)는 가변(mutable)하는 객체(object)이지만, **튜플(tuple)은 불변(immutable)한 객체**입니다.\n",
        "- 가변 객체는 요소에 대한 수정, 삭제, 변경 등이 가능하지만, 불편 객체는 **요소에 대한 수정, 삭제, 변경이 불가**합니다."
      ]
    },
    {
      "cell_type": "markdown",
      "metadata": {
        "id": "NKvYG65EDCQg"
      },
      "source": [
        "### 생성\n",
        "\n",
        "- tuple(), () 로 생성합니다.\n",
        "- 혹은 , 로 생성할 수 있습니다."
      ]
    },
    {
      "cell_type": "markdown",
      "metadata": {
        "id": "n1EYdsblcgXZ"
      },
      "source": [
        "**()로 튜플을 생성**할 수 있습니다."
      ]
    },
    {
      "cell_type": "code",
      "metadata": {
        "id": "Lj0AaIGkWMng",
        "colab": {
          "base_uri": "https://localhost:8080/"
        },
        "outputId": "3866f19f-36f1-438f-c310-d781136c7487"
      },
      "source": [
        "mytuple = (1, 2, 3)\n",
        "mytuple"
      ],
      "execution_count": 121,
      "outputs": [
        {
          "output_type": "execute_result",
          "data": {
            "text/plain": [
              "(1, 2, 3)"
            ]
          },
          "metadata": {},
          "execution_count": 121
        }
      ]
    },
    {
      "cell_type": "markdown",
      "metadata": {
        "id": "MLL_VBvEcgXZ"
      },
      "source": [
        "**tuple()** 로 생성하는 경우"
      ]
    },
    {
      "cell_type": "code",
      "metadata": {
        "id": "kIfJ2eCcDnSH",
        "colab": {
          "base_uri": "https://localhost:8080/"
        },
        "outputId": "363fdcc2-04b7-4611-c2e6-6c18fe05c87c"
      },
      "source": [
        "mytuple = tuple([1, 2, 3])\n",
        "mytuple"
      ],
      "execution_count": 122,
      "outputs": [
        {
          "output_type": "execute_result",
          "data": {
            "text/plain": [
              "(1, 2, 3)"
            ]
          },
          "metadata": {},
          "execution_count": 122
        }
      ]
    },
    {
      "cell_type": "markdown",
      "metadata": {
        "id": "tMa93r1JcgXa"
      },
      "source": [
        "**, 로 생성**할 수 있습니다."
      ]
    },
    {
      "cell_type": "code",
      "metadata": {
        "id": "iicUD1x0DHu6",
        "colab": {
          "base_uri": "https://localhost:8080/"
        },
        "outputId": "5b982a7b-3bad-4268-9df3-cad5a7977a03"
      },
      "source": [
        "mytuple = 1, 2, 3\n",
        "mytuple"
      ],
      "execution_count": 123,
      "outputs": [
        {
          "output_type": "execute_result",
          "data": {
            "text/plain": [
              "(1, 2, 3)"
            ]
          },
          "metadata": {},
          "execution_count": 123
        }
      ]
    },
    {
      "cell_type": "markdown",
      "metadata": {
        "id": "3S5MtEDScgXa"
      },
      "source": [
        "**단일 요소를 생성**할 때는 반드시 ,를 붙여 줍니다.\n",
        "- (1,)과 (1)은 다른 자료구조임을 꼭 알고 있어야 합니다."
      ]
    },
    {
      "cell_type": "code",
      "metadata": {
        "id": "VvZXlmRncgXa",
        "colab": {
          "base_uri": "https://localhost:8080/"
        },
        "outputId": "3be094d2-a4f7-4aeb-a8b1-215e72134022"
      },
      "source": [
        "mytuple = 1,\n",
        "print(type(mytuple))\n",
        "mytuple"
      ],
      "execution_count": 124,
      "outputs": [
        {
          "output_type": "stream",
          "name": "stdout",
          "text": [
            "<class 'tuple'>\n"
          ]
        },
        {
          "output_type": "execute_result",
          "data": {
            "text/plain": [
              "(1,)"
            ]
          },
          "metadata": {},
          "execution_count": 124
        }
      ]
    },
    {
      "cell_type": "code",
      "metadata": {
        "id": "HrRr2fKMDL2E",
        "colab": {
          "base_uri": "https://localhost:8080/"
        },
        "outputId": "ad4c5c05-0d29-422d-b6cb-10ccbe3f2f73"
      },
      "source": [
        "mytuple = (1,)\n",
        "print(type(mytuple))\n",
        "mytuple"
      ],
      "execution_count": 125,
      "outputs": [
        {
          "output_type": "stream",
          "name": "stdout",
          "text": [
            "<class 'tuple'>\n"
          ]
        },
        {
          "output_type": "execute_result",
          "data": {
            "text/plain": [
              "(1,)"
            ]
          },
          "metadata": {},
          "execution_count": 125
        }
      ]
    },
    {
      "cell_type": "code",
      "metadata": {
        "id": "7ZlannGQcgXa",
        "colab": {
          "base_uri": "https://localhost:8080/"
        },
        "outputId": "e517a9d5-15ab-4955-82ef-5d971292d6c1"
      },
      "source": [
        "mytuple = (1)\n",
        "print(type(mytuple))\n",
        "mytuple"
      ],
      "execution_count": 126,
      "outputs": [
        {
          "output_type": "stream",
          "name": "stdout",
          "text": [
            "<class 'int'>\n"
          ]
        },
        {
          "output_type": "execute_result",
          "data": {
            "text/plain": [
              "1"
            ]
          },
          "metadata": {},
          "execution_count": 126
        }
      ]
    },
    {
      "cell_type": "markdown",
      "metadata": {
        "id": "M11I_rnUcgXb"
      },
      "source": [
        "**튜플 언패킹(unpacking)**\n",
        "- 튜플로 한 번에 **여러 변수에 값을 한 번에 할당**할 수 있습니다."
      ]
    },
    {
      "cell_type": "code",
      "metadata": {
        "id": "cRUNDQHYcgXb",
        "colab": {
          "base_uri": "https://localhost:8080/"
        },
        "outputId": "30cbb56b-3a41-495b-eda3-262e965544d9"
      },
      "source": [
        "a, b, c = 1, 2, 3\n",
        "\n",
        "print(a)\n",
        "print(b)\n",
        "print(c)"
      ],
      "execution_count": 131,
      "outputs": [
        {
          "output_type": "stream",
          "name": "stdout",
          "text": [
            "1\n",
            "2\n",
            "3\n"
          ]
        }
      ]
    },
    {
      "cell_type": "code",
      "source": [
        "a, b, c, d = 1, 2, 3 #언패킹할 땐 요소의 개수를 맞춰야 함"
      ],
      "metadata": {
        "id": "w1fPtJnV44sc",
        "outputId": "3bcc1ef0-2502-464c-859c-58ffa82b0242",
        "colab": {
          "base_uri": "https://localhost:8080/",
          "height": 174
        }
      },
      "execution_count": 133,
      "outputs": [
        {
          "output_type": "error",
          "ename": "ValueError",
          "evalue": "ignored",
          "traceback": [
            "\u001b[0;31m---------------------------------------------------------------------------\u001b[0m",
            "\u001b[0;31mValueError\u001b[0m                                Traceback (most recent call last)",
            "\u001b[0;32m<ipython-input-133-5b14e12d2fee>\u001b[0m in \u001b[0;36m<cell line: 1>\u001b[0;34m()\u001b[0m\n\u001b[0;32m----> 1\u001b[0;31m \u001b[0ma\u001b[0m\u001b[0;34m,\u001b[0m \u001b[0mb\u001b[0m\u001b[0;34m,\u001b[0m \u001b[0mc\u001b[0m\u001b[0;34m,\u001b[0m \u001b[0md\u001b[0m \u001b[0;34m=\u001b[0m \u001b[0;36m1\u001b[0m\u001b[0;34m,\u001b[0m \u001b[0;36m2\u001b[0m\u001b[0;34m,\u001b[0m \u001b[0;36m3\u001b[0m \u001b[0;31m#언패킹할 땐 요소의 개수를 맞춰야 함\u001b[0m\u001b[0;34m\u001b[0m\u001b[0;34m\u001b[0m\u001b[0m\n\u001b[0m",
            "\u001b[0;31mValueError\u001b[0m: not enough values to unpack (expected 4, got 3)"
          ]
        }
      ]
    },
    {
      "cell_type": "markdown",
      "metadata": {
        "id": "fbWL3rXvDZou"
      },
      "source": [
        "### 튜플 자료형은 요소의 추가, 삭제, 변경등을 허용하지 않습니다."
      ]
    },
    {
      "cell_type": "code",
      "metadata": {
        "id": "3TBwbkblcgXb",
        "colab": {
          "base_uri": "https://localhost:8080/"
        },
        "outputId": "bfdec5fe-97f5-4979-fef0-f79c0aadd64e"
      },
      "source": [
        "mytuple = (1, 2, 3)\n",
        "mytuple"
      ],
      "execution_count": 134,
      "outputs": [
        {
          "output_type": "execute_result",
          "data": {
            "text/plain": [
              "(1, 2, 3)"
            ]
          },
          "metadata": {},
          "execution_count": 134
        }
      ]
    },
    {
      "cell_type": "markdown",
      "metadata": {
        "id": "57vPUsS9cgXb"
      },
      "source": [
        "요소를 **조회하는 것은 가능**합니다."
      ]
    },
    {
      "cell_type": "code",
      "metadata": {
        "id": "ZbVjb4x7cgXb",
        "colab": {
          "base_uri": "https://localhost:8080/"
        },
        "outputId": "71c29912-d6aa-4727-e604-f316628a3734"
      },
      "source": [
        "mytuple[1]"
      ],
      "execution_count": 135,
      "outputs": [
        {
          "output_type": "execute_result",
          "data": {
            "text/plain": [
              "2"
            ]
          },
          "metadata": {},
          "execution_count": 135
        }
      ]
    },
    {
      "cell_type": "markdown",
      "metadata": {
        "id": "axOh9930cgXc"
      },
      "source": [
        "요소를 **변경**하려는 경우"
      ]
    },
    {
      "cell_type": "code",
      "metadata": {
        "id": "OjCMaaYPcgXc",
        "colab": {
          "base_uri": "https://localhost:8080/",
          "height": 174
        },
        "outputId": "6e737ee8-d240-4238-9672-4da6c7dd3ec9"
      },
      "source": [
        "mytuple[1] = 100"
      ],
      "execution_count": 136,
      "outputs": [
        {
          "output_type": "error",
          "ename": "TypeError",
          "evalue": "ignored",
          "traceback": [
            "\u001b[0;31m---------------------------------------------------------------------------\u001b[0m",
            "\u001b[0;31mTypeError\u001b[0m                                 Traceback (most recent call last)",
            "\u001b[0;32m<ipython-input-136-302beb1444a7>\u001b[0m in \u001b[0;36m<cell line: 1>\u001b[0;34m()\u001b[0m\n\u001b[0;32m----> 1\u001b[0;31m \u001b[0mmytuple\u001b[0m\u001b[0;34m[\u001b[0m\u001b[0;36m1\u001b[0m\u001b[0;34m]\u001b[0m \u001b[0;34m=\u001b[0m \u001b[0;36m100\u001b[0m\u001b[0;34m\u001b[0m\u001b[0;34m\u001b[0m\u001b[0m\n\u001b[0m",
            "\u001b[0;31mTypeError\u001b[0m: 'tuple' object does not support item assignment"
          ]
        }
      ]
    },
    {
      "cell_type": "markdown",
      "metadata": {
        "id": "c24tbnf9cgXc"
      },
      "source": [
        "요소를 **삭제**하려는 경우"
      ]
    },
    {
      "cell_type": "code",
      "metadata": {
        "id": "I2JlBRg8DyLx",
        "colab": {
          "base_uri": "https://localhost:8080/",
          "height": 174
        },
        "outputId": "e1e93fdc-d7b3-477d-c6c3-26b82cf6c5e7"
      },
      "source": [
        "del mytuple[1]"
      ],
      "execution_count": 137,
      "outputs": [
        {
          "output_type": "error",
          "ename": "TypeError",
          "evalue": "ignored",
          "traceback": [
            "\u001b[0;31m---------------------------------------------------------------------------\u001b[0m",
            "\u001b[0;31mTypeError\u001b[0m                                 Traceback (most recent call last)",
            "\u001b[0;32m<ipython-input-137-011fbf932d04>\u001b[0m in \u001b[0;36m<cell line: 1>\u001b[0;34m()\u001b[0m\n\u001b[0;32m----> 1\u001b[0;31m \u001b[0;32mdel\u001b[0m \u001b[0mmytuple\u001b[0m\u001b[0;34m[\u001b[0m\u001b[0;36m1\u001b[0m\u001b[0;34m]\u001b[0m\u001b[0;34m\u001b[0m\u001b[0;34m\u001b[0m\u001b[0m\n\u001b[0m",
            "\u001b[0;31mTypeError\u001b[0m: 'tuple' object doesn't support item deletion"
          ]
        }
      ]
    },
    {
      "cell_type": "markdown",
      "metadata": {
        "id": "wJxLyKDGD1Re"
      },
      "source": [
        "### 튜플 덧셈: 튜플의 확장"
      ]
    },
    {
      "cell_type": "code",
      "metadata": {
        "id": "ScZhykwwD7AM"
      },
      "source": [
        "a = (1, 2)\n",
        "b = (3, 4)"
      ],
      "execution_count": 138,
      "outputs": []
    },
    {
      "cell_type": "code",
      "metadata": {
        "id": "kL1Qav45D-gm",
        "colab": {
          "base_uri": "https://localhost:8080/"
        },
        "outputId": "7ce8663c-f919-40c3-b085-a8c6d052264c"
      },
      "source": [
        "a + b"
      ],
      "execution_count": 139,
      "outputs": [
        {
          "output_type": "execute_result",
          "data": {
            "text/plain": [
              "(1, 2, 3, 4)"
            ]
          },
          "metadata": {},
          "execution_count": 139
        }
      ]
    },
    {
      "cell_type": "markdown",
      "metadata": {
        "id": "xLhCaMwVcgXd"
      },
      "source": [
        "### 튜플 곱셈: 튜플의 반복"
      ]
    },
    {
      "cell_type": "code",
      "metadata": {
        "id": "UN5cWiqWEAqX",
        "colab": {
          "base_uri": "https://localhost:8080/"
        },
        "outputId": "5510a8eb-de39-4cff-99dc-0d42a3269228"
      },
      "source": [
        "a * 3"
      ],
      "execution_count": 140,
      "outputs": [
        {
          "output_type": "execute_result",
          "data": {
            "text/plain": [
              "(1, 2, 1, 2, 1, 2)"
            ]
          },
          "metadata": {},
          "execution_count": 140
        }
      ]
    },
    {
      "cell_type": "code",
      "metadata": {
        "id": "wluSgekA9ZT7",
        "colab": {
          "base_uri": "https://localhost:8080/"
        },
        "outputId": "97da4a00-c290-4e68-f78f-9d3392aca53a"
      },
      "source": [
        "a * 10"
      ],
      "execution_count": 141,
      "outputs": [
        {
          "output_type": "execute_result",
          "data": {
            "text/plain": [
              "(1, 2, 1, 2, 1, 2, 1, 2, 1, 2, 1, 2, 1, 2, 1, 2, 1, 2, 1, 2)"
            ]
          },
          "metadata": {},
          "execution_count": 141
        }
      ]
    },
    {
      "cell_type": "markdown",
      "metadata": {
        "id": "PhwymGjaXqwU"
      },
      "source": [
        "### 길이 파악하기"
      ]
    },
    {
      "cell_type": "code",
      "metadata": {
        "id": "NKr8ATCHcgXd",
        "colab": {
          "base_uri": "https://localhost:8080/"
        },
        "outputId": "3a734289-6be4-4adb-e583-8841c1dcfd39"
      },
      "source": [
        "mytuple"
      ],
      "execution_count": 142,
      "outputs": [
        {
          "output_type": "execute_result",
          "data": {
            "text/plain": [
              "(1, 2, 3)"
            ]
          },
          "metadata": {},
          "execution_count": 142
        }
      ]
    },
    {
      "cell_type": "code",
      "metadata": {
        "id": "q52SzZNOYIo1",
        "colab": {
          "base_uri": "https://localhost:8080/"
        },
        "outputId": "91aa59ad-bcd7-41f6-e6f9-c647975d5040"
      },
      "source": [
        "len(mytuple)"
      ],
      "execution_count": 143,
      "outputs": [
        {
          "output_type": "execute_result",
          "data": {
            "text/plain": [
              "3"
            ]
          },
          "metadata": {},
          "execution_count": 143
        }
      ]
    },
    {
      "cell_type": "markdown",
      "metadata": {
        "id": "BJ_ejBsNJH6N"
      },
      "source": [
        "### list를 tuple로 변환"
      ]
    },
    {
      "cell_type": "code",
      "metadata": {
        "id": "d4syeAlRJU2F"
      },
      "source": [
        "a = [1, 2, 3, 4]"
      ],
      "execution_count": 144,
      "outputs": []
    },
    {
      "cell_type": "code",
      "metadata": {
        "id": "aAiFPz4EJWUg",
        "colab": {
          "base_uri": "https://localhost:8080/"
        },
        "outputId": "f295e587-8ce6-4af3-a3ed-07aef32a165f"
      },
      "source": [
        "a"
      ],
      "execution_count": 145,
      "outputs": [
        {
          "output_type": "execute_result",
          "data": {
            "text/plain": [
              "[1, 2, 3, 4]"
            ]
          },
          "metadata": {},
          "execution_count": 145
        }
      ]
    },
    {
      "cell_type": "code",
      "metadata": {
        "id": "k2yM_D3nJWsJ",
        "colab": {
          "base_uri": "https://localhost:8080/"
        },
        "outputId": "4fad86b0-a4bf-4449-bdc0-50b873d1ce56"
      },
      "source": [
        "type(a)"
      ],
      "execution_count": 146,
      "outputs": [
        {
          "output_type": "execute_result",
          "data": {
            "text/plain": [
              "list"
            ]
          },
          "metadata": {},
          "execution_count": 146
        }
      ]
    },
    {
      "cell_type": "code",
      "metadata": {
        "id": "C1XzVIOkJXH_"
      },
      "source": [
        "b = tuple(a)"
      ],
      "execution_count": 147,
      "outputs": []
    },
    {
      "cell_type": "code",
      "metadata": {
        "id": "nNNg1n1xJYvq",
        "colab": {
          "base_uri": "https://localhost:8080/"
        },
        "outputId": "c32844c9-aa97-46da-eb44-b503a9937bb4"
      },
      "source": [
        "b"
      ],
      "execution_count": 148,
      "outputs": [
        {
          "output_type": "execute_result",
          "data": {
            "text/plain": [
              "(1, 2, 3, 4)"
            ]
          },
          "metadata": {},
          "execution_count": 148
        }
      ]
    },
    {
      "cell_type": "code",
      "metadata": {
        "id": "-FGh_AhJJZAk",
        "colab": {
          "base_uri": "https://localhost:8080/"
        },
        "outputId": "cf40b497-fa8c-4775-b061-fd6a85d5b32b"
      },
      "source": [
        "type(b)"
      ],
      "execution_count": 149,
      "outputs": [
        {
          "output_type": "execute_result",
          "data": {
            "text/plain": [
              "tuple"
            ]
          },
          "metadata": {},
          "execution_count": 149
        }
      ]
    },
    {
      "cell_type": "markdown",
      "metadata": {
        "id": "5T0yhUiiJZuK"
      },
      "source": [
        "### tuple을 list로 변환"
      ]
    },
    {
      "cell_type": "code",
      "metadata": {
        "id": "0OZ27hGpJdGi"
      },
      "source": [
        "a = (1, 2, 3, 4)"
      ],
      "execution_count": 150,
      "outputs": []
    },
    {
      "cell_type": "code",
      "metadata": {
        "id": "47vB7lQLJeSI",
        "colab": {
          "base_uri": "https://localhost:8080/"
        },
        "outputId": "c3f3905e-2773-48df-9468-3024520f50e2"
      },
      "source": [
        "a"
      ],
      "execution_count": 151,
      "outputs": [
        {
          "output_type": "execute_result",
          "data": {
            "text/plain": [
              "(1, 2, 3, 4)"
            ]
          },
          "metadata": {},
          "execution_count": 151
        }
      ]
    },
    {
      "cell_type": "code",
      "metadata": {
        "id": "fJpB20awJesL",
        "colab": {
          "base_uri": "https://localhost:8080/"
        },
        "outputId": "7b8f4e85-9822-4dfc-d2d6-553303fa3e97"
      },
      "source": [
        "type(a)"
      ],
      "execution_count": 152,
      "outputs": [
        {
          "output_type": "execute_result",
          "data": {
            "text/plain": [
              "tuple"
            ]
          },
          "metadata": {},
          "execution_count": 152
        }
      ]
    },
    {
      "cell_type": "code",
      "metadata": {
        "id": "oYserJFQJf51"
      },
      "source": [
        "b = list(a)"
      ],
      "execution_count": 153,
      "outputs": []
    },
    {
      "cell_type": "code",
      "metadata": {
        "id": "P_zDoI-GJidd",
        "colab": {
          "base_uri": "https://localhost:8080/"
        },
        "outputId": "e10e71a8-f29e-4d70-8328-5fcdb45d3722"
      },
      "source": [
        "b"
      ],
      "execution_count": 154,
      "outputs": [
        {
          "output_type": "execute_result",
          "data": {
            "text/plain": [
              "[1, 2, 3, 4]"
            ]
          },
          "metadata": {},
          "execution_count": 154
        }
      ]
    },
    {
      "cell_type": "code",
      "metadata": {
        "id": "jtPRpCOHJjDI",
        "colab": {
          "base_uri": "https://localhost:8080/"
        },
        "outputId": "ac48cc62-d296-4564-ac23-776f3304a47c"
      },
      "source": [
        "type(b)"
      ],
      "execution_count": 155,
      "outputs": [
        {
          "output_type": "execute_result",
          "data": {
            "text/plain": [
              "list"
            ]
          },
          "metadata": {},
          "execution_count": 155
        }
      ]
    },
    {
      "cell_type": "markdown",
      "metadata": {
        "id": "zJjaYs4lcgXg"
      },
      "source": [
        "리스트로 type을 변경하였기 때문에 **요소의 추가 및 삭제가 가능**합니다."
      ]
    },
    {
      "cell_type": "code",
      "metadata": {
        "id": "e6STgfp_Jjl9",
        "colab": {
          "base_uri": "https://localhost:8080/"
        },
        "outputId": "ec00835c-c876-4e16-f5ec-2317b40a7093"
      },
      "source": [
        "b.append(5)\n",
        "b"
      ],
      "execution_count": 156,
      "outputs": [
        {
          "output_type": "execute_result",
          "data": {
            "text/plain": [
              "[1, 2, 3, 4, 5]"
            ]
          },
          "metadata": {},
          "execution_count": 156
        }
      ]
    },
    {
      "cell_type": "code",
      "metadata": {
        "id": "37W8x7KHcgXg",
        "colab": {
          "base_uri": "https://localhost:8080/"
        },
        "outputId": "91ca8c4d-3326-4466-e0a5-100dd8eedcb6"
      },
      "source": [
        "b.remove(2)\n",
        "b"
      ],
      "execution_count": 157,
      "outputs": [
        {
          "output_type": "execute_result",
          "data": {
            "text/plain": [
              "[1, 3, 4, 5]"
            ]
          },
          "metadata": {},
          "execution_count": 157
        }
      ]
    },
    {
      "cell_type": "markdown",
      "metadata": {
        "id": "nM2jqV66cgXg"
      },
      "source": [
        "요소를 추가 및 삭제한 후 **다시 tuple로 변경**할 수 있습니다."
      ]
    },
    {
      "cell_type": "code",
      "metadata": {
        "id": "T7k1LgovJl5y"
      },
      "source": [
        "c = tuple(b)"
      ],
      "execution_count": 158,
      "outputs": []
    },
    {
      "cell_type": "code",
      "metadata": {
        "id": "brUnfV5fJm_u",
        "colab": {
          "base_uri": "https://localhost:8080/"
        },
        "outputId": "20f527d8-0ffb-44c8-841d-ecd1750558c7"
      },
      "source": [
        "c"
      ],
      "execution_count": 159,
      "outputs": [
        {
          "output_type": "execute_result",
          "data": {
            "text/plain": [
              "(1, 3, 4, 5)"
            ]
          },
          "metadata": {},
          "execution_count": 159
        }
      ]
    },
    {
      "cell_type": "code",
      "metadata": {
        "id": "GfEFncbkJoRw",
        "colab": {
          "base_uri": "https://localhost:8080/"
        },
        "outputId": "356d2705-702c-4362-bf71-de66c63cf18b"
      },
      "source": [
        "type(c)"
      ],
      "execution_count": 160,
      "outputs": [
        {
          "output_type": "execute_result",
          "data": {
            "text/plain": [
              "tuple"
            ]
          },
          "metadata": {},
          "execution_count": 160
        }
      ]
    },
    {
      "cell_type": "markdown",
      "metadata": {
        "id": "-mx0TG2lcgXh"
      },
      "source": [
        "### 연습문제"
      ]
    },
    {
      "cell_type": "markdown",
      "metadata": {
        "id": "NmCDNaS2cgXh"
      },
      "source": [
        "주어진 tuple `a`를 (1, 100, 2, 3, 4)의 요소를 가지도록 변경해 주세요"
      ]
    },
    {
      "cell_type": "code",
      "metadata": {
        "id": "8_NJGIbNcgXi"
      },
      "source": [
        "a = (1, 2, 3, 4)"
      ],
      "execution_count": null,
      "outputs": []
    },
    {
      "cell_type": "code",
      "metadata": {
        "id": "K4mx6nEqcgXi",
        "colab": {
          "base_uri": "https://localhost:8080/"
        },
        "outputId": "56613de4-419b-4e83-ea3c-5a8cf1650b9b"
      },
      "source": [
        "# 코드를 입력해 주세요\n",
        "a = list(a)\n",
        "a.insert(1,100)\n",
        "a = tuple(a)\n",
        "a"
      ],
      "execution_count": 161,
      "outputs": [
        {
          "output_type": "execute_result",
          "data": {
            "text/plain": [
              "(1, 100, 2, 3, 4)"
            ]
          },
          "metadata": {},
          "execution_count": 161
        }
      ]
    },
    {
      "cell_type": "markdown",
      "metadata": {
        "id": "LhVzPi6icgXi"
      },
      "source": [
        "<p><strong>[출력 결과]</strong></p><pre>(1, 100, 2, 3, 4)</pre>"
      ]
    }
  ]
}