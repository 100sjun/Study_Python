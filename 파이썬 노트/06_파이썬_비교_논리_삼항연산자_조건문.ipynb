{
  "nbformat": 4,
  "nbformat_minor": 0,
  "metadata": {
    "colab": {
      "provenance": [],
      "include_colab_link": true
    },
    "kernelspec": {
      "display_name": "Python 3",
      "language": "python",
      "name": "python3"
    },
    "language_info": {
      "codemirror_mode": {
        "name": "ipython",
        "version": 3
      },
      "file_extension": ".py",
      "mimetype": "text/x-python",
      "name": "python",
      "nbconvert_exporter": "python",
      "pygments_lexer": "ipython3",
      "version": "3.6.9"
    }
  },
  "cells": [
    {
      "cell_type": "markdown",
      "metadata": {
        "id": "view-in-github",
        "colab_type": "text"
      },
      "source": [
        "<a href=\"https://colab.research.google.com/github/100sjun/Study_Python/blob/main/%ED%8C%8C%EC%9D%B4%EC%8D%AC%20%EB%85%B8%ED%8A%B8/06_%ED%8C%8C%EC%9D%B4%EC%8D%AC_%EB%B9%84%EA%B5%90_%EB%85%BC%EB%A6%AC_%EC%82%BC%ED%95%AD%EC%97%B0%EC%82%B0%EC%9E%90_%EC%A1%B0%EA%B1%B4%EB%AC%B8.ipynb\" target=\"_parent\"><img src=\"https://colab.research.google.com/assets/colab-badge.svg\" alt=\"Open In Colab\"/></a>"
      ]
    },
    {
      "cell_type": "markdown",
      "metadata": {
        "id": "mkSnBW98EIs-"
      },
      "source": [
        "# 비교연산자\n",
        "\n",
        "비교 연산자는 주로 대소비교를 할 때 사용합니다."
      ]
    },
    {
      "cell_type": "markdown",
      "metadata": {
        "id": "HEG6iuONEswX"
      },
      "source": [
        "## 대소비교 \n",
        "\n",
        "- `>`: 크다\n",
        "- `>=`: 크거나 같다\n",
        "- `<`: 작다 \n",
        "- `<=`: 작거나 같다"
      ]
    },
    {
      "cell_type": "code",
      "metadata": {
        "id": "wiLgE47fEs1S",
        "outputId": "a43695e8-1d03-4a9c-9fc3-c47204861bb1",
        "colab": {
          "base_uri": "https://localhost:8080/"
        }
      },
      "source": [
        "1 > 2"
      ],
      "execution_count": 1,
      "outputs": [
        {
          "output_type": "execute_result",
          "data": {
            "text/plain": [
              "False"
            ]
          },
          "metadata": {},
          "execution_count": 1
        }
      ]
    },
    {
      "cell_type": "code",
      "metadata": {
        "id": "0b6l023CEs5o",
        "outputId": "5c6e1e7e-f810-452a-f1d5-8e70913e8208",
        "colab": {
          "base_uri": "https://localhost:8080/"
        }
      },
      "source": [
        "10 >= 10"
      ],
      "execution_count": 2,
      "outputs": [
        {
          "output_type": "execute_result",
          "data": {
            "text/plain": [
              "True"
            ]
          },
          "metadata": {},
          "execution_count": 2
        }
      ]
    },
    {
      "cell_type": "code",
      "metadata": {
        "id": "BLOj4nAgTN6f",
        "outputId": "9e4ef2dd-b606-465d-aae6-c57a1ced92db",
        "colab": {
          "base_uri": "https://localhost:8080/"
        }
      },
      "source": [
        "10 >= 10"
      ],
      "execution_count": 3,
      "outputs": [
        {
          "output_type": "execute_result",
          "data": {
            "text/plain": [
              "True"
            ]
          },
          "metadata": {},
          "execution_count": 3
        }
      ]
    },
    {
      "cell_type": "code",
      "metadata": {
        "id": "3TTqQvmJEs91",
        "outputId": "8e675a8e-a844-421d-f38c-c52f2d172233",
        "colab": {
          "base_uri": "https://localhost:8080/"
        }
      },
      "source": [
        "9 < 10"
      ],
      "execution_count": 4,
      "outputs": [
        {
          "output_type": "execute_result",
          "data": {
            "text/plain": [
              "True"
            ]
          },
          "metadata": {},
          "execution_count": 4
        }
      ]
    },
    {
      "cell_type": "code",
      "metadata": {
        "id": "llirdNcSEtE5",
        "outputId": "8170f215-0afe-467f-bd50-cd9718829721",
        "colab": {
          "base_uri": "https://localhost:8080/"
        }
      },
      "source": [
        "8 <= 7"
      ],
      "execution_count": 5,
      "outputs": [
        {
          "output_type": "execute_result",
          "data": {
            "text/plain": [
              "False"
            ]
          },
          "metadata": {},
          "execution_count": 5
        }
      ]
    },
    {
      "cell_type": "markdown",
      "metadata": {
        "id": "YnFEo5W4FBQV"
      },
      "source": [
        "## 같다와 같지 않다"
      ]
    },
    {
      "cell_type": "markdown",
      "metadata": {
        "id": "K4DCWsZm514r"
      },
      "source": [
        "### == : 같음을 비교"
      ]
    },
    {
      "cell_type": "markdown",
      "metadata": {
        "id": "c9JH4zBNFBGf"
      },
      "source": [
        "- `=`는 대입 연산자 입니다. \n",
        "- 코딩에서는 `=` 이 대입 연산자로 사용되기 때문에 `==`을 사용하고 있습니다."
      ]
    },
    {
      "cell_type": "code",
      "metadata": {
        "id": "g0FqYbH0FPsZ",
        "outputId": "6af556b5-061b-43f7-e4bc-f13b32f7d37d",
        "colab": {
          "base_uri": "https://localhost:8080/",
          "height": 137
        }
      },
      "source": [
        "2 = 2"
      ],
      "execution_count": 6,
      "outputs": [
        {
          "output_type": "error",
          "ename": "SyntaxError",
          "evalue": "ignored",
          "traceback": [
            "\u001b[0;36m  File \u001b[0;32m\"<ipython-input-6-a8e553549e25>\"\u001b[0;36m, line \u001b[0;32m1\u001b[0m\n\u001b[0;31m    2 = 2\u001b[0m\n\u001b[0m    ^\u001b[0m\n\u001b[0;31mSyntaxError\u001b[0m\u001b[0;31m:\u001b[0m cannot assign to literal here. Maybe you meant '==' instead of '='?\n"
          ]
        }
      ]
    },
    {
      "cell_type": "code",
      "metadata": {
        "id": "lCnEQx-KFA_R",
        "outputId": "4a775399-5cf2-45a9-b712-843c6890b631",
        "colab": {
          "base_uri": "https://localhost:8080/"
        }
      },
      "source": [
        "2 == 2"
      ],
      "execution_count": 7,
      "outputs": [
        {
          "output_type": "execute_result",
          "data": {
            "text/plain": [
              "True"
            ]
          },
          "metadata": {},
          "execution_count": 7
        }
      ]
    },
    {
      "cell_type": "code",
      "metadata": {
        "id": "uu38fqhwOv_t",
        "outputId": "f8808e47-f906-497e-be3d-61ea90471f0e",
        "colab": {
          "base_uri": "https://localhost:8080/"
        }
      },
      "source": [
        "2 == 3"
      ],
      "execution_count": 8,
      "outputs": [
        {
          "output_type": "execute_result",
          "data": {
            "text/plain": [
              "False"
            ]
          },
          "metadata": {},
          "execution_count": 8
        }
      ]
    },
    {
      "cell_type": "markdown",
      "metadata": {
        "id": "J8S0jzfGFKLz"
      },
      "source": [
        "### != 같지 않음을 비교"
      ]
    },
    {
      "cell_type": "code",
      "metadata": {
        "id": "FN2gAfWMFKRy",
        "outputId": "a66b5ec4-8006-459a-f49a-eba502cc57bc",
        "colab": {
          "base_uri": "https://localhost:8080/"
        }
      },
      "source": [
        "2 != 2"
      ],
      "execution_count": 9,
      "outputs": [
        {
          "output_type": "execute_result",
          "data": {
            "text/plain": [
              "False"
            ]
          },
          "metadata": {},
          "execution_count": 9
        }
      ]
    },
    {
      "cell_type": "code",
      "metadata": {
        "id": "FVrNPEq7FKZk",
        "outputId": "c24e60c0-296f-4823-a3bf-4f2493a5381a",
        "colab": {
          "base_uri": "https://localhost:8080/"
        }
      },
      "source": [
        "1 != 2"
      ],
      "execution_count": 10,
      "outputs": [
        {
          "output_type": "execute_result",
          "data": {
            "text/plain": [
              "True"
            ]
          },
          "metadata": {},
          "execution_count": 10
        }
      ]
    },
    {
      "cell_type": "code",
      "metadata": {
        "id": "cjB7v1JiFc78",
        "outputId": "499ab2e5-bcc3-4209-d965-76148c9235f9",
        "colab": {
          "base_uri": "https://localhost:8080/"
        }
      },
      "source": [
        "'나' != '너'"
      ],
      "execution_count": 11,
      "outputs": [
        {
          "output_type": "execute_result",
          "data": {
            "text/plain": [
              "True"
            ]
          },
          "metadata": {},
          "execution_count": 11
        }
      ]
    },
    {
      "cell_type": "code",
      "metadata": {
        "id": "7b47rVKRFcuZ",
        "outputId": "29aa0129-4774-4fb7-c7cc-a9bd002c86e3",
        "colab": {
          "base_uri": "https://localhost:8080/"
        }
      },
      "source": [
        "'나' != '나'"
      ],
      "execution_count": 12,
      "outputs": [
        {
          "output_type": "execute_result",
          "data": {
            "text/plain": [
              "False"
            ]
          },
          "metadata": {},
          "execution_count": 12
        }
      ]
    },
    {
      "cell_type": "markdown",
      "metadata": {
        "id": "nVJ1deTbACiP"
      },
      "source": [
        "## 조건문"
      ]
    },
    {
      "cell_type": "markdown",
      "metadata": {
        "id": "DUrQsRomElox"
      },
      "source": [
        "조건문이란 무엇일까요?\n",
        "\n",
        "주어진 조건이 **참**인 경우 그 다음 내가 정한 규칙(로직)을 실행하는 개념입니다."
      ]
    },
    {
      "cell_type": "markdown",
      "metadata": {
        "id": "eyntgHbrAJW2"
      },
      "source": [
        "### if"
      ]
    },
    {
      "cell_type": "markdown",
      "metadata": {
        "id": "Nq6CmuoYALrr"
      },
      "source": [
        "- if는 어떤 조건이 성립한다면~ 이라는 뜻입니다.\n",
        "- if 구문 끝에는 반드시 콜론(:)을 잊지 말아 주세요"
      ]
    },
    {
      "cell_type": "code",
      "metadata": {
        "id": "tNkI-ROGAPPz",
        "outputId": "858d1707-9954-47c1-a0dc-c387a0c96925",
        "colab": {
          "base_uri": "https://localhost:8080/"
        }
      },
      "source": [
        "if 5 > 3:\n",
        "    print('참')"
      ],
      "execution_count": 13,
      "outputs": [
        {
          "output_type": "stream",
          "name": "stdout",
          "text": [
            "참\n"
          ]
        }
      ]
    },
    {
      "cell_type": "code",
      "metadata": {
        "id": "udUZJO19Ngk3",
        "outputId": "7685b99c-5889-42e8-9c1a-77444644f636",
        "colab": {
          "base_uri": "https://localhost:8080/"
        }
      },
      "source": [
        "if 5 > 3:\n",
        "    print('참')\n",
        "    print('참')\n",
        "    print('참')\n",
        "    print('참')\n",
        "\n",
        "print('끝')"
      ],
      "execution_count": 14,
      "outputs": [
        {
          "output_type": "stream",
          "name": "stdout",
          "text": [
            "참\n",
            "참\n",
            "참\n",
            "참\n",
            "끝\n"
          ]
        }
      ]
    },
    {
      "cell_type": "code",
      "metadata": {
        "id": "BIBsVKLRAUus",
        "outputId": "6b97a606-df4d-4a1c-96f7-89565bd30c23",
        "colab": {
          "base_uri": "https://localhost:8080/"
        }
      },
      "source": [
        "if 5 > 3:\n",
        "    print('참')"
      ],
      "execution_count": 15,
      "outputs": [
        {
          "output_type": "stream",
          "name": "stdout",
          "text": [
            "참\n"
          ]
        }
      ]
    },
    {
      "cell_type": "markdown",
      "metadata": {
        "id": "vTqQGfv5Ac4a"
      },
      "source": [
        "### else"
      ]
    },
    {
      "cell_type": "markdown",
      "metadata": {
        "id": "EzJHdesGAjTQ"
      },
      "source": [
        "else는 if 조건 후에 따라오며, if 가 아닌 경우에 실행 됩니다."
      ]
    },
    {
      "cell_type": "code",
      "metadata": {
        "id": "DsGowvtQAq6B",
        "outputId": "a2ce378d-032c-4272-92e3-883b41cd654e",
        "colab": {
          "base_uri": "https://localhost:8080/"
        }
      },
      "source": [
        "if 5 > 3:\n",
        "    print('if 구문 실행')\n",
        "else:\n",
        "    print('else 구문 실행')"
      ],
      "execution_count": 16,
      "outputs": [
        {
          "output_type": "stream",
          "name": "stdout",
          "text": [
            "if 구문 실행\n"
          ]
        }
      ]
    },
    {
      "cell_type": "markdown",
      "metadata": {
        "id": "RIHTuYU7DJm2"
      },
      "source": [
        "하지만, else 만 단독으로 실행한다면?"
      ]
    },
    {
      "cell_type": "code",
      "metadata": {
        "id": "9I834w_8DOBx",
        "outputId": "aa95f8a0-dfe7-449e-9a01-d0ab7f1a8cdc",
        "colab": {
          "base_uri": "https://localhost:8080/",
          "height": 137
        }
      },
      "source": [
        "else:\n",
        "    print('else 구문 실행')"
      ],
      "execution_count": 17,
      "outputs": [
        {
          "output_type": "error",
          "ename": "SyntaxError",
          "evalue": "ignored",
          "traceback": [
            "\u001b[0;36m  File \u001b[0;32m\"<ipython-input-17-5018a7ac68d5>\"\u001b[0;36m, line \u001b[0;32m1\u001b[0m\n\u001b[0;31m    else:\u001b[0m\n\u001b[0m    ^\u001b[0m\n\u001b[0;31mSyntaxError\u001b[0m\u001b[0;31m:\u001b[0m invalid syntax\n"
          ]
        }
      ]
    },
    {
      "cell_type": "markdown",
      "metadata": {
        "id": "YRckrfc3DSsM"
      },
      "source": [
        "### elif"
      ]
    },
    {
      "cell_type": "markdown",
      "metadata": {
        "id": "LS8DofkNDWUS"
      },
      "source": [
        "elif 구문은 3가지 이상 분기 (조건)의 동작을 수행할 때 사용합니다.\n"
      ]
    },
    {
      "cell_type": "code",
      "metadata": {
        "id": "j6-32b6TDeNM",
        "outputId": "e1ee902a-29bf-44ad-ca0e-034806ba58f7",
        "colab": {
          "base_uri": "https://localhost:8080/"
        }
      },
      "source": [
        "if 3 > 5:\n",
        "    print('if 구문')\n",
        "elif 3 > 4:\n",
        "    print('elif 구문')\n",
        "else:\n",
        "    print('이것도 저것도 아니다')"
      ],
      "execution_count": 18,
      "outputs": [
        {
          "output_type": "stream",
          "name": "stdout",
          "text": [
            "이것도 저것도 아니다\n"
          ]
        }
      ]
    },
    {
      "cell_type": "markdown",
      "metadata": {
        "id": "kj9j--pEDzum"
      },
      "source": [
        "그럼, **elif 구문이 참인 여러 구문**을 나열 했을 때는 어떻게 될까요?\n",
        "\n",
        "한 번 고민해보고 실행하세요"
      ]
    },
    {
      "cell_type": "code",
      "metadata": {
        "id": "CoA1nNx4DttN",
        "outputId": "e7765bd2-2b0a-4249-edc8-e07d60ba02f7",
        "colab": {
          "base_uri": "https://localhost:8080/"
        }
      },
      "source": [
        "if 3 > 5:\n",
        "    print('if 구문')\n",
        "elif 3 < 4:\n",
        "    print('elif 1 구문')\n",
        "elif 3 < 5:\n",
        "    print('elif 2 구문')\n",
        "elif 3 < 6:\n",
        "    print('elif 3 구문')\n",
        "else:\n",
        "    print('이것도 저것도 아니다')"
      ],
      "execution_count": 19,
      "outputs": [
        {
          "output_type": "stream",
          "name": "stdout",
          "text": [
            "elif 1 구문\n"
          ]
        }
      ]
    },
    {
      "cell_type": "markdown",
      "metadata": {
        "id": "IH3OU9JEGL2C"
      },
      "source": [
        "### 1 이나 0은 참 이나 거짓을 표현하기도 합니다."
      ]
    },
    {
      "cell_type": "code",
      "metadata": {
        "id": "QvLPbzLSGLqz",
        "outputId": "24da5557-55ce-477c-a027-c3fc5a4f38ed",
        "colab": {
          "base_uri": "https://localhost:8080/"
        }
      },
      "source": [
        "if 1:\n",
        "    print('참')\n",
        "else:\n",
        "    print('거짓')"
      ],
      "execution_count": 20,
      "outputs": [
        {
          "output_type": "stream",
          "name": "stdout",
          "text": [
            "참\n"
          ]
        }
      ]
    },
    {
      "cell_type": "code",
      "metadata": {
        "id": "nZaec2FMGV36",
        "outputId": "1893c272-6290-4b40-df7c-14f346d79d46",
        "colab": {
          "base_uri": "https://localhost:8080/"
        }
      },
      "source": [
        "if 0:\n",
        "    print('참')\n",
        "else:\n",
        "    print('거짓')"
      ],
      "execution_count": 21,
      "outputs": [
        {
          "output_type": "stream",
          "name": "stdout",
          "text": [
            "거짓\n"
          ]
        }
      ]
    },
    {
      "cell_type": "markdown",
      "metadata": {
        "id": "scp2Xpwo514w"
      },
      "source": [
        "## 삼항연산자\n",
        "\n",
        "(문법) **(참인 값) if 조건 else (거짓인경우 값)**\n",
        "\n",
        "삼항연산자는 파이썬 문법에서 흔히 볼 수 있는 연산자 이며, 조건에 대한 참인 경우의 값 그렇지 않은 경우의 값을 뒤에 지정합니다."
      ]
    },
    {
      "cell_type": "code",
      "metadata": {
        "id": "fHGV_xO0514x",
        "outputId": "bf91ca5f-fa9f-4fa2-c51c-917cccfd3b94",
        "colab": {
          "base_uri": "https://localhost:8080/",
          "height": 35
        }
      },
      "source": [
        "age = 35\n",
        "\n",
        "\"30세 이상입니다.\" if age >= 30 else \"30세 이하입니다.\""
      ],
      "execution_count": 22,
      "outputs": [
        {
          "output_type": "execute_result",
          "data": {
            "text/plain": [
              "'30세 이상입니다.'"
            ],
            "application/vnd.google.colaboratory.intrinsic+json": {
              "type": "string"
            }
          },
          "metadata": {},
          "execution_count": 22
        }
      ]
    },
    {
      "cell_type": "code",
      "metadata": {
        "id": "hc9QQXDZ514x",
        "outputId": "837f9db8-ab97-43bb-c1c8-bbd8d6307cfc",
        "colab": {
          "base_uri": "https://localhost:8080/",
          "height": 35
        }
      },
      "source": [
        "age = 20\n",
        "\n",
        "\"30세 이상입니다.\" if age >= 30 else \"30세 이하입니다.\""
      ],
      "execution_count": 23,
      "outputs": [
        {
          "output_type": "execute_result",
          "data": {
            "text/plain": [
              "'30세 이하입니다.'"
            ],
            "application/vnd.google.colaboratory.intrinsic+json": {
              "type": "string"
            }
          },
          "metadata": {},
          "execution_count": 23
        }
      ]
    },
    {
      "cell_type": "markdown",
      "metadata": {
        "id": "i4RhdAWg514x"
      },
      "source": [
        "### 연습문제"
      ]
    },
    {
      "cell_type": "markdown",
      "metadata": {
        "id": "az8B-9au514x"
      },
      "source": [
        "사용자에게 몸무게를 입력 받아 과체중인지 정상 체중인지 출력하는 프로그램을 만드세요.\n",
        "\n",
        "- 몸무게가 100kg 초과이면 '귀하는 과체중 입니다.' 메시지를 출력하세요\n",
        "- 몸무게가 100kg 이하이면 '귀하는 정상체중 입니다.' 메시지를 출력하세요\n",
        "- 몸무게 입력은 input() 함수를 사용하여 입력 받습니다.\n",
        "- 반드시 **삼항연산자를 활용**하세요"
      ]
    },
    {
      "cell_type": "code",
      "metadata": {
        "id": "Ss9IXMbW514x",
        "outputId": "e8a65577-bd5d-486b-c480-87e78efc2227",
        "colab": {
          "base_uri": "https://localhost:8080/"
        }
      },
      "source": [
        "# 입력 예시 (105로 입력한 경우)\n",
        "weight = input()"
      ],
      "execution_count": 24,
      "outputs": [
        {
          "name": "stdout",
          "output_type": "stream",
          "text": [
            "105\n"
          ]
        }
      ]
    },
    {
      "cell_type": "code",
      "metadata": {
        "id": "m2BDDI9P514y",
        "outputId": "d30ea78c-8e51-45be-be36-09595676c3cc",
        "colab": {
          "base_uri": "https://localhost:8080/",
          "height": 35
        }
      },
      "source": [
        "# 코드를 입력해 주세요\n",
        "'귀하는 과체중입니다.' if int(weight) > 100 else '귀하는 정상체중 입니다.'"
      ],
      "execution_count": 26,
      "outputs": [
        {
          "output_type": "execute_result",
          "data": {
            "text/plain": [
              "'귀하는 과체중입니다.'"
            ],
            "application/vnd.google.colaboratory.intrinsic+json": {
              "type": "string"
            }
          },
          "metadata": {},
          "execution_count": 26
        }
      ]
    },
    {
      "cell_type": "markdown",
      "metadata": {
        "id": "LulhRjh_514y"
      },
      "source": [
        "<p><strong>[출력 결과]</strong></p><pre>'귀하는 과체중 입니다.'</pre>"
      ]
    },
    {
      "cell_type": "markdown",
      "metadata": {
        "id": "UkBFrQ99EIlN"
      },
      "source": [
        "## 논리 연산자 (and, or, not)"
      ]
    },
    {
      "cell_type": "markdown",
      "metadata": {
        "id": "JArIvFX7F4xv"
      },
      "source": [
        "**and**나 **or** 조건은 두 가지 이상 조건을 다룰 때 활용합니다."
      ]
    },
    {
      "cell_type": "markdown",
      "metadata": {
        "id": "1r39VMGsF_e4"
      },
      "source": [
        "### and \n",
        "\n",
        "- and 조건은 **모두 만족**할 때 참으로 인식합니다."
      ]
    },
    {
      "cell_type": "code",
      "metadata": {
        "id": "BMup-Y9VGGts",
        "outputId": "0e1b8317-b7c2-4812-ce83-aef358fecdf5",
        "colab": {
          "base_uri": "https://localhost:8080/"
        }
      },
      "source": [
        "True and True and True"
      ],
      "execution_count": 27,
      "outputs": [
        {
          "output_type": "execute_result",
          "data": {
            "text/plain": [
              "True"
            ]
          },
          "metadata": {},
          "execution_count": 27
        }
      ]
    },
    {
      "cell_type": "code",
      "metadata": {
        "id": "SVDUfdmLGIXm",
        "outputId": "58d04f43-0e0d-4767-8edb-2e83001a847b",
        "colab": {
          "base_uri": "https://localhost:8080/"
        }
      },
      "source": [
        "True and False and True"
      ],
      "execution_count": 28,
      "outputs": [
        {
          "output_type": "execute_result",
          "data": {
            "text/plain": [
              "False"
            ]
          },
          "metadata": {},
          "execution_count": 28
        }
      ]
    },
    {
      "cell_type": "code",
      "metadata": {
        "id": "1ZjfDRh3GJwz",
        "outputId": "6e96e9a1-ddd5-4fbb-de56-97cac8dd75fc",
        "colab": {
          "base_uri": "https://localhost:8080/"
        }
      },
      "source": [
        "if (0 < 1) and (0 < 2):\n",
        "    print('모두 참')\n",
        "else:\n",
        "    print('거짓')"
      ],
      "execution_count": 29,
      "outputs": [
        {
          "output_type": "stream",
          "name": "stdout",
          "text": [
            "모두 참\n"
          ]
        }
      ]
    },
    {
      "cell_type": "code",
      "metadata": {
        "id": "cuHoVgi5GvVy",
        "outputId": "3646cba4-a276-4613-b7fe-1d2e60fee79a",
        "colab": {
          "base_uri": "https://localhost:8080/"
        }
      },
      "source": [
        "if (0 < 1) and (0 > 2):\n",
        "    print('모두 참')\n",
        "else:\n",
        "    print('허참')"
      ],
      "execution_count": 30,
      "outputs": [
        {
          "output_type": "stream",
          "name": "stdout",
          "text": [
            "허참\n"
          ]
        }
      ]
    },
    {
      "cell_type": "markdown",
      "metadata": {
        "id": "LpFTEajiGxRN"
      },
      "source": [
        "### or\n",
        "\n",
        "- or 조건은 조건 중 **하나라도 만족**할 때 참으로 인식합니다."
      ]
    },
    {
      "cell_type": "code",
      "metadata": {
        "id": "kQnJHHiHG7MI",
        "outputId": "091ba5bd-3105-4451-c096-11679ddcb9e9",
        "colab": {
          "base_uri": "https://localhost:8080/"
        }
      },
      "source": [
        "True or False or False"
      ],
      "execution_count": 31,
      "outputs": [
        {
          "output_type": "execute_result",
          "data": {
            "text/plain": [
              "True"
            ]
          },
          "metadata": {},
          "execution_count": 31
        }
      ]
    },
    {
      "cell_type": "code",
      "metadata": {
        "id": "jEH3pQIDG9ls",
        "outputId": "0542c30b-3bff-4ec8-d2b9-49c2de21371d",
        "colab": {
          "base_uri": "https://localhost:8080/"
        }
      },
      "source": [
        "False or False or False"
      ],
      "execution_count": 32,
      "outputs": [
        {
          "output_type": "execute_result",
          "data": {
            "text/plain": [
              "False"
            ]
          },
          "metadata": {},
          "execution_count": 32
        }
      ]
    },
    {
      "cell_type": "code",
      "metadata": {
        "id": "pCiPRf0FHBhx",
        "outputId": "bd06d394-f4ad-4933-9752-0ae9941bbcf6",
        "colab": {
          "base_uri": "https://localhost:8080/"
        }
      },
      "source": [
        "if (0 < 1) or ( 1 < 0):\n",
        "    print('하나라도 참')\n",
        "else:\n",
        "    print('허참')"
      ],
      "execution_count": 33,
      "outputs": [
        {
          "output_type": "stream",
          "name": "stdout",
          "text": [
            "하나라도 참\n"
          ]
        }
      ]
    },
    {
      "cell_type": "code",
      "metadata": {
        "id": "IXQSEQYjHKRz",
        "outputId": "911fc2b7-9624-484a-c826-b678f21bd3c2",
        "colab": {
          "base_uri": "https://localhost:8080/"
        }
      },
      "source": [
        "if (10 < 1) or ( 1 < 0):\n",
        "    print('하나라도 참')\n",
        "else:\n",
        "    print('허참')"
      ],
      "execution_count": 34,
      "outputs": [
        {
          "output_type": "stream",
          "name": "stdout",
          "text": [
            "허참\n"
          ]
        }
      ]
    },
    {
      "cell_type": "markdown",
      "metadata": {
        "id": "1_JYhWEy5140"
      },
      "source": [
        "### not\n",
        "\n",
        "- bool 값을 반전시킵니다."
      ]
    },
    {
      "cell_type": "code",
      "metadata": {
        "id": "v14ZnNvl5140",
        "outputId": "a0eac755-9649-45d4-aa1a-ce43b6b70b7a",
        "colab": {
          "base_uri": "https://localhost:8080/"
        }
      },
      "source": [
        "not True"
      ],
      "execution_count": 35,
      "outputs": [
        {
          "output_type": "execute_result",
          "data": {
            "text/plain": [
              "False"
            ]
          },
          "metadata": {},
          "execution_count": 35
        }
      ]
    },
    {
      "cell_type": "code",
      "metadata": {
        "id": "f4y-phUd5140",
        "outputId": "a2d14186-f3f1-4c4f-eedd-cbac65cd67f7",
        "colab": {
          "base_uri": "https://localhost:8080/"
        }
      },
      "source": [
        "not False"
      ],
      "execution_count": 36,
      "outputs": [
        {
          "output_type": "execute_result",
          "data": {
            "text/plain": [
              "True"
            ]
          },
          "metadata": {},
          "execution_count": 36
        }
      ]
    },
    {
      "cell_type": "code",
      "metadata": {
        "id": "_nbGLKen5140"
      },
      "source": [
        "if not True:\n",
        "    print('not True')"
      ],
      "execution_count": 37,
      "outputs": []
    },
    {
      "cell_type": "code",
      "metadata": {
        "id": "urbyttGG5140",
        "outputId": "43f74283-c6c9-4eb0-9919-8188b5992cea",
        "colab": {
          "base_uri": "https://localhost:8080/"
        }
      },
      "source": [
        "if not False:\n",
        "    print('not False')"
      ],
      "execution_count": 38,
      "outputs": [
        {
          "output_type": "stream",
          "name": "stdout",
          "text": [
            "not False\n"
          ]
        }
      ]
    },
    {
      "cell_type": "markdown",
      "metadata": {
        "id": "M0wegNrX5140"
      },
      "source": [
        "## 연습문제"
      ]
    },
    {
      "cell_type": "markdown",
      "metadata": {
        "id": "Qr5n87QH5141"
      },
      "source": [
        "### 문제 1"
      ]
    },
    {
      "cell_type": "markdown",
      "metadata": {
        "id": "j5wJNvqq5141"
      },
      "source": [
        "- (몸무게 + 100 - 키)를 비만 수치 공식이라고 가정합니다.\n",
        "- 키와 몸무게를 입력받아 첫 번째 줄에 비만 수치를 출력합니다.\n",
        "- 비만 수치가 0보다 크면 비만이라는 메시지를 출력하세요.\n",
        "\n",
        "```\n",
        "입력 예) info =[155, 60] (키, 몸무게 순)\n",
        "출력[1]: 비만수치는 5 입니다.\n",
        "출력[2]: 당신은 비만입니다.\n",
        "```"
      ]
    },
    {
      "cell_type": "code",
      "metadata": {
        "id": "Gpe4jWMa5141"
      },
      "source": [
        "info = [155, 60]"
      ],
      "execution_count": 39,
      "outputs": []
    },
    {
      "cell_type": "code",
      "metadata": {
        "id": "t-d3hhoI5141",
        "outputId": "6fd33247-83c0-42d5-f944-8f720a363391",
        "colab": {
          "base_uri": "https://localhost:8080/"
        }
      },
      "source": [
        "# 코드를 입력해 주세요\n",
        "ow = info[1] + 100 - info[0]\n",
        "print(f'비만수치는 {ow}입니다.')\n",
        "if ow > 0:\n",
        "  print('당신은 비만입니다.')"
      ],
      "execution_count": 41,
      "outputs": [
        {
          "output_type": "stream",
          "name": "stdout",
          "text": [
            "비만수치는 5입니다.\n",
            "당신은 비만입니다.\n"
          ]
        }
      ]
    },
    {
      "cell_type": "markdown",
      "metadata": {
        "id": "p1Uv4QX05141"
      },
      "source": [
        "<p><strong>[출력 결과]</strong></p><pre>비만수치는 5입니다\n",
        "당신은 비만입니다.\n",
        "</pre>"
      ]
    },
    {
      "cell_type": "markdown",
      "metadata": {
        "id": "ZSuLeVJg5142"
      },
      "source": [
        "### 문제 2"
      ]
    },
    {
      "cell_type": "markdown",
      "metadata": {
        "id": "EVkK9WAv5142"
      },
      "source": [
        "성적을 입력받아 90점 이상이면 A, 80점이상이면 B, 70점 이상이면 C, 70점 미만이면 D를 출력하세요\n",
        "- 단, 점수가 음수이거나 100점을 초과하는 경우에는 '에러'를 출력하세요\n",
        "\n",
        "힌트) input() 함수를 사용합니다.\n",
        "- input() 함수는 사용자로부터 입력 값을 받을 수 있습니다."
      ]
    },
    {
      "cell_type": "code",
      "metadata": {
        "id": "BqpPJlTJ5142",
        "outputId": "79505c42-cf1e-4b87-8894-7c18bd0a43ac",
        "colab": {
          "base_uri": "https://localhost:8080/"
        }
      },
      "source": [
        "# 코드를 입력해 주세요\n",
        "score = int(input())\n",
        "\n",
        "if score > 100 or score < 0:\n",
        "  print('에러')\n",
        "elif score >= 90:\n",
        "  print('A')\n",
        "elif score >= 80:\n",
        "  print('B')\n",
        "elif score >= 70:\n",
        "  print('C')\n",
        "else:\n",
        "  print('D')"
      ],
      "execution_count": 51,
      "outputs": [
        {
          "output_type": "stream",
          "name": "stdout",
          "text": [
            "95\n",
            "A\n"
          ]
        }
      ]
    },
    {
      "cell_type": "markdown",
      "metadata": {
        "id": "suzljiWQ5142"
      },
      "source": [
        "<p><strong>[출력 결과]</strong></p><pre>점수를 입력해 주세요: 95\n",
        "A\n",
        "</pre>"
      ]
    }
  ]
}