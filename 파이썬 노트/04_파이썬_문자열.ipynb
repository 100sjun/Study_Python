{
  "nbformat": 4,
  "nbformat_minor": 0,
  "metadata": {
    "colab": {
      "provenance": [],
      "include_colab_link": true
    },
    "kernelspec": {
      "display_name": "Python 3",
      "language": "python",
      "name": "python3"
    },
    "language_info": {
      "codemirror_mode": {
        "name": "ipython",
        "version": 3
      },
      "file_extension": ".py",
      "mimetype": "text/x-python",
      "name": "python",
      "nbconvert_exporter": "python",
      "pygments_lexer": "ipython3",
      "version": "3.7.10"
    }
  },
  "cells": [
    {
      "cell_type": "markdown",
      "metadata": {
        "id": "view-in-github",
        "colab_type": "text"
      },
      "source": [
        "<a href=\"https://colab.research.google.com/github/100sjun/Study_Python/blob/main/%ED%8C%8C%EC%9D%B4%EC%8D%AC%20%EB%85%B8%ED%8A%B8/04_%ED%8C%8C%EC%9D%B4%EC%8D%AC_%EB%AC%B8%EC%9E%90%EC%97%B4.ipynb\" target=\"_parent\"><img src=\"https://colab.research.google.com/assets/colab-badge.svg\" alt=\"Open In Colab\"/></a>"
      ]
    },
    {
      "cell_type": "markdown",
      "metadata": {
        "id": "yhrjrcX50_xk"
      },
      "source": [
        "# 문자열"
      ]
    },
    {
      "cell_type": "markdown",
      "metadata": {
        "id": "af-WjtP-6EHN"
      },
      "source": [
        "데이터 분석에 있어서 문자열(텍스트) 데이터의 중요성\n",
        "\n",
        "- 자연어처리 데이터는 대부분이 텍스트 데이터로 이루어져 있습니다.\n",
        "- 우리가 흔히 접하는 Excel 혹은 Table 데이터안에도 수많은 텍스트 데이터가 존재합니다.\n",
        "- 게다가 우리나라는 영어와 더불어 **한글**까지 추가로 처리 할 수 있어야 합니다!!"
      ]
    },
    {
      "cell_type": "markdown",
      "metadata": {
        "id": "P76mpWgqefWM"
      },
      "source": [
        "### 특성\n",
        "\n",
        "- 문자열 역시 리스트(list), 튜플(tuple)과 마찬가지로 sequence 형 자료구조를 가집니다.\n",
        "- 문자열은 불변(immutable) 객체입니다."
      ]
    },
    {
      "cell_type": "markdown",
      "metadata": {
        "id": "NuK-a3yR8d9b"
      },
      "source": [
        "### 문자열의 생성\n",
        "\n",
        "파이썬의 문자열은 작은 따옴표(**'**) 나 큰 따옴표(**\"**) 모두 구분없이 사용하여 문자열을 생성할 수 있습니다."
      ]
    },
    {
      "cell_type": "markdown",
      "metadata": {
        "id": "58vOhBsu6WLW"
      },
      "source": [
        "작은 따옴표(**'**) 사용"
      ]
    },
    {
      "cell_type": "code",
      "metadata": {
        "id": "JXzjndKx6Tqq",
        "outputId": "94c94ad8-b38e-4543-962c-997b81fcffe6",
        "colab": {
          "base_uri": "https://localhost:8080/",
          "height": 35
        }
      },
      "source": [
        "'안녕하세요? 반갑습니다.'"
      ],
      "execution_count": 1,
      "outputs": [
        {
          "output_type": "execute_result",
          "data": {
            "text/plain": [
              "'안녕하세요? 반갑습니다.'"
            ],
            "application/vnd.google.colaboratory.intrinsic+json": {
              "type": "string"
            }
          },
          "metadata": {},
          "execution_count": 1
        }
      ]
    },
    {
      "cell_type": "markdown",
      "metadata": {
        "id": "5HX4SerY6X9F"
      },
      "source": [
        "큰 따옴표(**\"**) 사용"
      ]
    },
    {
      "cell_type": "code",
      "metadata": {
        "id": "-PBmn72k6YFJ",
        "outputId": "74f52d09-88fb-4e15-b475-bc8a8f97d2f8",
        "colab": {
          "base_uri": "https://localhost:8080/",
          "height": 35
        }
      },
      "source": [
        "\"안녕하세요? 반갑습니다.\""
      ],
      "execution_count": 2,
      "outputs": [
        {
          "output_type": "execute_result",
          "data": {
            "text/plain": [
              "'안녕하세요? 반갑습니다.'"
            ],
            "application/vnd.google.colaboratory.intrinsic+json": {
              "type": "string"
            }
          },
          "metadata": {},
          "execution_count": 2
        }
      ]
    },
    {
      "cell_type": "markdown",
      "metadata": {
        "id": "Wl5BW9ZY6b6N"
      },
      "source": [
        "작은 따옴표 3개 혹은 큰 따옴표 3개를 써서 **여러 줄의 문자열을 생성**할 수 있습니다."
      ]
    },
    {
      "cell_type": "code",
      "metadata": {
        "id": "YX2-gHvH6YRE",
        "outputId": "52b08430-c613-42e8-f93a-f70b1ded7474",
        "colab": {
          "base_uri": "https://localhost:8080/"
        }
      },
      "source": [
        "sample = '''안녕하세요? \n",
        "반가워요\n",
        "내이름은 \n",
        "파이썬 입니다.'''\n",
        "\n",
        "print(sample)"
      ],
      "execution_count": 3,
      "outputs": [
        {
          "output_type": "stream",
          "name": "stdout",
          "text": [
            "안녕하세요? \n",
            "반가워요\n",
            "내이름은 \n",
            "파이썬 입니다.\n"
          ]
        }
      ]
    },
    {
      "cell_type": "code",
      "metadata": {
        "id": "F7k_-5Jb6l1D",
        "outputId": "bc7fbeb3-5aaa-42db-bdb7-00a834767006",
        "colab": {
          "base_uri": "https://localhost:8080/"
        }
      },
      "source": [
        "sample = \"\"\"안녕하세요? \n",
        "반가워요\n",
        "내이름은 \n",
        "파이썬 입니다.\n",
        "\n",
        "웰컴!\n",
        "\"\"\"\n",
        "\n",
        "print(sample)"
      ],
      "execution_count": 4,
      "outputs": [
        {
          "output_type": "stream",
          "name": "stdout",
          "text": [
            "안녕하세요? \n",
            "반가워요\n",
            "내이름은 \n",
            "파이썬 입니다.\n",
            "\n",
            "웰컴!\n",
            "\n"
          ]
        }
      ]
    },
    {
      "cell_type": "markdown",
      "metadata": {
        "id": "CYr2ZjlH8g77"
      },
      "source": [
        "## 문자열 출력 (포맷팅)"
      ]
    },
    {
      "cell_type": "markdown",
      "metadata": {
        "id": "G6S7kF158rD9"
      },
      "source": [
        "### print() : 출력"
      ]
    },
    {
      "cell_type": "code",
      "metadata": {
        "id": "xw3G7lRN80nO",
        "outputId": "d207c36d-5b42-4aa8-e90d-7cd48c1690f4",
        "colab": {
          "base_uri": "https://localhost:8080/"
        }
      },
      "source": [
        "print('헬로우 파이썬')"
      ],
      "execution_count": 5,
      "outputs": [
        {
          "output_type": "stream",
          "name": "stdout",
          "text": [
            "헬로우 파이썬\n"
          ]
        }
      ]
    },
    {
      "cell_type": "code",
      "metadata": {
        "id": "yVHPxpah84Ng",
        "outputId": "638f4bf6-43e5-4bac-d4f5-e5e0c803a592",
        "colab": {
          "base_uri": "https://localhost:8080/"
        }
      },
      "source": [
        "print('문자열 첫째', '그리고, 둘째')"
      ],
      "execution_count": 6,
      "outputs": [
        {
          "output_type": "stream",
          "name": "stdout",
          "text": [
            "문자열 첫째 그리고, 둘째\n"
          ]
        }
      ]
    },
    {
      "cell_type": "markdown",
      "metadata": {
        "id": "dbfmLyGJsrWo"
      },
      "source": [
        "`end` 옵션으로 출력될 마지막 글자를 변경할 수 있습니다. (기본값: \\n)\n",
        "\n",
        "- [참고] : \\n 은 개행을 의미하는 특수 문자입니다."
      ]
    },
    {
      "cell_type": "code",
      "metadata": {
        "id": "QZmPntbdnH2z",
        "outputId": "beee329f-6892-4195-a4d2-81aad3dcc534",
        "colab": {
          "base_uri": "https://localhost:8080/"
        }
      },
      "source": [
        "print('a', end=' ')\n",
        "print('a')\n",
        "print('a')"
      ],
      "execution_count": 7,
      "outputs": [
        {
          "output_type": "stream",
          "name": "stdout",
          "text": [
            "a a\n",
            "a\n"
          ]
        }
      ]
    },
    {
      "cell_type": "code",
      "metadata": {
        "id": "DWX0fGdn88NQ",
        "outputId": "c41f8d73-339e-4e50-ba71-e41b3a919813",
        "colab": {
          "base_uri": "https://localhost:8080/"
        }
      },
      "source": [
        "print('여기까지!', end='end출력!')"
      ],
      "execution_count": 8,
      "outputs": [
        {
          "output_type": "stream",
          "name": "stdout",
          "text": [
            "여기까지!end출력!"
          ]
        }
      ]
    },
    {
      "cell_type": "markdown",
      "metadata": {
        "id": "kMMLXqOVefWQ"
      },
      "source": [
        "`sep` 옵션으로 출력될 문자열 사이에 출력될 글자를 변경할 수 있습니다. (기본값: 공백)"
      ]
    },
    {
      "cell_type": "code",
      "metadata": {
        "id": "mQRiYp6wefWQ",
        "outputId": "9a1da9d3-af62-4d4f-dfa1-8cbddc12dc36",
        "colab": {
          "base_uri": "https://localhost:8080/"
        }
      },
      "source": [
        "print('문자1', '문자1', '문자3', sep=' <구분> ')"
      ],
      "execution_count": 9,
      "outputs": [
        {
          "output_type": "stream",
          "name": "stdout",
          "text": [
            "문자1 <구분> 문자1 <구분> 문자3\n"
          ]
        }
      ]
    },
    {
      "cell_type": "markdown",
      "metadata": {
        "id": "9gaXVMAjio6o"
      },
      "source": [
        "### %를 사용한 출력"
      ]
    },
    {
      "cell_type": "code",
      "metadata": {
        "id": "UcL19LR7irHO",
        "outputId": "d90b6752-c959-4019-a2c3-2ffd45efdd93",
        "colab": {
          "base_uri": "https://localhost:8080/",
          "height": 35
        }
      },
      "source": [
        "\"안녕하세요? %s\" % ('반갑습니다.')"
      ],
      "execution_count": 10,
      "outputs": [
        {
          "output_type": "execute_result",
          "data": {
            "text/plain": [
              "'안녕하세요? 반갑습니다.'"
            ],
            "application/vnd.google.colaboratory.intrinsic+json": {
              "type": "string"
            }
          },
          "metadata": {},
          "execution_count": 10
        }
      ]
    },
    {
      "cell_type": "code",
      "metadata": {
        "id": "B-6BrxWbivtD",
        "outputId": "40578dc6-0b65-4517-87ec-091b524c9334",
        "colab": {
          "base_uri": "https://localhost:8080/",
          "height": 35
        }
      },
      "source": [
        "'안녕하세요? %.3f' % (0.123456)"
      ],
      "execution_count": 11,
      "outputs": [
        {
          "output_type": "execute_result",
          "data": {
            "text/plain": [
              "'안녕하세요? 0.123'"
            ],
            "application/vnd.google.colaboratory.intrinsic+json": {
              "type": "string"
            }
          },
          "metadata": {},
          "execution_count": 11
        }
      ]
    },
    {
      "cell_type": "code",
      "metadata": {
        "id": "D0xXLvfti3cS",
        "outputId": "8842b99f-11b6-4eb1-b394-7e12111ab67a",
        "colab": {
          "base_uri": "https://localhost:8080/",
          "height": 35
        }
      },
      "source": [
        "'안녕하세요? %d' % (12345)"
      ],
      "execution_count": 12,
      "outputs": [
        {
          "output_type": "execute_result",
          "data": {
            "text/plain": [
              "'안녕하세요? 12345'"
            ],
            "application/vnd.google.colaboratory.intrinsic+json": {
              "type": "string"
            }
          },
          "metadata": {},
          "execution_count": 12
        }
      ]
    },
    {
      "cell_type": "code",
      "metadata": {
        "id": "RU7ru-gPi-US",
        "outputId": "66a7da73-cf6b-4d5e-db4c-b8c907e206ef",
        "colab": {
          "base_uri": "https://localhost:8080/",
          "height": 35
        }
      },
      "source": [
        "'안녕하세요? %c' % ('a')"
      ],
      "execution_count": 13,
      "outputs": [
        {
          "output_type": "execute_result",
          "data": {
            "text/plain": [
              "'안녕하세요? a'"
            ],
            "application/vnd.google.colaboratory.intrinsic+json": {
              "type": "string"
            }
          },
          "metadata": {},
          "execution_count": 13
        }
      ]
    },
    {
      "cell_type": "markdown",
      "metadata": {
        "id": "5CLJ0YaDjF8Z"
      },
      "source": [
        "### {} 와 format를 사용한 출력"
      ]
    },
    {
      "cell_type": "code",
      "metadata": {
        "id": "32GRkJFgjIyG",
        "outputId": "27ecdcde-3fd6-4cbf-d2c3-32ef60d14391",
        "colab": {
          "base_uri": "https://localhost:8080/",
          "height": 35
        }
      },
      "source": [
        "'웰컴투? {}'.format('파이썬.')"
      ],
      "execution_count": 14,
      "outputs": [
        {
          "output_type": "execute_result",
          "data": {
            "text/plain": [
              "'웰컴투? 파이썬.'"
            ],
            "application/vnd.google.colaboratory.intrinsic+json": {
              "type": "string"
            }
          },
          "metadata": {},
          "execution_count": 14
        }
      ]
    },
    {
      "cell_type": "code",
      "metadata": {
        "id": "8J2L4341jNKd",
        "outputId": "3c01168d-c176-433c-c889-4023867d7f1f",
        "colab": {
          "base_uri": "https://localhost:8080/",
          "height": 35
        }
      },
      "source": [
        "'비밀번호 {}'.format(486)"
      ],
      "execution_count": 15,
      "outputs": [
        {
          "output_type": "execute_result",
          "data": {
            "text/plain": [
              "'비밀번호 486'"
            ],
            "application/vnd.google.colaboratory.intrinsic+json": {
              "type": "string"
            }
          },
          "metadata": {},
          "execution_count": 15
        }
      ]
    },
    {
      "cell_type": "markdown",
      "metadata": {
        "id": "9dbOcHmbefWR"
      },
      "source": [
        "소수점 2자리 까지 제한하는 경우 (그 이하자리는 반올림)"
      ]
    },
    {
      "cell_type": "code",
      "metadata": {
        "id": "lL6qZGlSjPsO",
        "outputId": "2e7a9fe9-cf9a-497b-fc44-efc1f192dc70",
        "colab": {
          "base_uri": "https://localhost:8080/",
          "height": 35
        }
      },
      "source": [
        "'원주율? {:.2f}'.format(3.141592)"
      ],
      "execution_count": 16,
      "outputs": [
        {
          "output_type": "execute_result",
          "data": {
            "text/plain": [
              "'원주율? 3.14'"
            ],
            "application/vnd.google.colaboratory.intrinsic+json": {
              "type": "string"
            }
          },
          "metadata": {},
          "execution_count": 16
        }
      ]
    },
    {
      "cell_type": "markdown",
      "metadata": {
        "id": "EKla2fH0_rRt"
      },
      "source": [
        "### f 문자열 포맷팅 (python 3.6 이상만 지원)"
      ]
    },
    {
      "cell_type": "code",
      "metadata": {
        "id": "8fAI91HW_w1O",
        "outputId": "3dab788d-8dd2-4233-b5f6-14c3ae3a9fcb",
        "colab": {
          "base_uri": "https://localhost:8080/"
        }
      },
      "source": [
        "name = '펭수'\n",
        "age = 10\n",
        "print(f'나의 이름은 {name}입니다. 나이는 {age} 살입니다.')"
      ],
      "execution_count": 17,
      "outputs": [
        {
          "output_type": "stream",
          "name": "stdout",
          "text": [
            "나의 이름은 펭수입니다. 나이는 10 살입니다.\n"
          ]
        }
      ]
    },
    {
      "cell_type": "code",
      "metadata": {
        "id": "1zx2auV4_3fu",
        "outputId": "fd506c3d-8b4b-4a3c-ecae-65b381379f6e",
        "colab": {
          "base_uri": "https://localhost:8080/"
        }
      },
      "source": [
        "print(f'내년에 저는 {age+1} 살입니다.')"
      ],
      "execution_count": 18,
      "outputs": [
        {
          "output_type": "stream",
          "name": "stdout",
          "text": [
            "내년에 저는 11 살입니다.\n"
          ]
        }
      ]
    },
    {
      "cell_type": "code",
      "metadata": {
        "id": "90vy6SCUADEu"
      },
      "source": [
        "d = {'name':'펭수', 'age':10}"
      ],
      "execution_count": 19,
      "outputs": []
    },
    {
      "cell_type": "code",
      "metadata": {
        "id": "sk6wcosPAGX9",
        "outputId": "a6dda7c5-67a9-40c9-d403-d0213e5cf948",
        "colab": {
          "base_uri": "https://localhost:8080/"
        }
      },
      "source": [
        "print(f\"반가워요. 저는 {d['name']}입니다. 저의 나이는 {d['age']} 살입니다.\")"
      ],
      "execution_count": 20,
      "outputs": [
        {
          "output_type": "stream",
          "name": "stdout",
          "text": [
            "반가워요. 저는 펭수입니다. 저의 나이는 10 살입니다.\n"
          ]
        }
      ]
    },
    {
      "cell_type": "markdown",
      "metadata": {
        "id": "Cp1lYd91efWT"
      },
      "source": [
        "### 연습문제\n",
        "\n",
        "- 변수 `a`를 활용하여 문자열 포맷팅으로 출력하세요\n",
        "- print() 를 사용합니다."
      ]
    },
    {
      "cell_type": "code",
      "metadata": {
        "id": "wLbvN6i1efWT"
      },
      "source": [
        "a = 1234"
      ],
      "execution_count": 23,
      "outputs": []
    },
    {
      "cell_type": "code",
      "metadata": {
        "id": "uSgaYW9eefWT",
        "outputId": "14f20679-0e24-4bbd-daaf-48c137388d51",
        "colab": {
          "base_uri": "https://localhost:8080/"
        }
      },
      "source": [
        "# 코드를 입력해 주세요\n",
        "print(f'a의 값은 {a}입니다')"
      ],
      "execution_count": 25,
      "outputs": [
        {
          "output_type": "stream",
          "name": "stdout",
          "text": [
            "a의 값은 1234입니다\n"
          ]
        }
      ]
    },
    {
      "cell_type": "markdown",
      "metadata": {
        "id": "7LdBJozoefWU"
      },
      "source": [
        "<p><strong>[출력 결과]</strong></p><pre>a의 값은 1234입니다\n",
        "</pre>"
      ]
    },
    {
      "cell_type": "markdown",
      "metadata": {
        "id": "RvT_8MyZefWU"
      },
      "source": [
        "- 변수 `a`, `b`를 활용하여 문자열 포맷팅으로 출력하세요\n",
        "- 단, `a`, `b`의 값은 소수 3째짜리까지 출력하고, 그 이하는 반올림합니다."
      ]
    },
    {
      "cell_type": "code",
      "metadata": {
        "id": "FVctqo8UefWU"
      },
      "source": [
        "a = 3.141592\n",
        "b = 6.181112"
      ],
      "execution_count": 26,
      "outputs": []
    },
    {
      "cell_type": "code",
      "metadata": {
        "id": "uiq9Jd9DefWU",
        "outputId": "3e825fe7-af5f-4272-8ed3-64847d0ecb82",
        "colab": {
          "base_uri": "https://localhost:8080/"
        }
      },
      "source": [
        "# 코드를 입력해 주세요\n",
        "print(f'a의 값은 {a:.3f}, b의 값은 {b:.3f}입니다')"
      ],
      "execution_count": 31,
      "outputs": [
        {
          "output_type": "stream",
          "name": "stdout",
          "text": [
            "a의 값은 3.142, b의 값은 6.181입니다\n"
          ]
        }
      ]
    },
    {
      "cell_type": "markdown",
      "metadata": {
        "id": "Rframi4befWU"
      },
      "source": [
        "<p><strong>[출력 결과]</strong></p><pre>a의 값은 3.142, b의 값은 6.181입니다\n",
        "</pre>"
      ]
    },
    {
      "cell_type": "markdown",
      "metadata": {
        "id": "I0X0Ex-N6ftn"
      },
      "source": [
        "## 문자열 길이"
      ]
    },
    {
      "cell_type": "markdown",
      "metadata": {
        "id": "Bn4hrljDumxP"
      },
      "source": [
        "### 영문 (alphabet)"
      ]
    },
    {
      "cell_type": "code",
      "metadata": {
        "id": "LHe2Vr9m6pK1",
        "outputId": "3edec6b6-769b-45dc-8df5-dc5866a4f646",
        "colab": {
          "base_uri": "https://localhost:8080/"
        }
      },
      "source": [
        "len('banana')"
      ],
      "execution_count": 32,
      "outputs": [
        {
          "output_type": "execute_result",
          "data": {
            "text/plain": [
              "6"
            ]
          },
          "metadata": {},
          "execution_count": 32
        }
      ]
    },
    {
      "cell_type": "markdown",
      "metadata": {
        "id": "9siMZPhguuqx"
      },
      "source": [
        "**공백**은 길이에 포함됩니다."
      ]
    },
    {
      "cell_type": "code",
      "metadata": {
        "id": "sWeic6eQ6vvd",
        "outputId": "7f0f6d6a-a1a9-4927-9db0-bc6d98442b89",
        "colab": {
          "base_uri": "https://localhost:8080/"
        }
      },
      "source": [
        "len('banana pen')"
      ],
      "execution_count": 33,
      "outputs": [
        {
          "output_type": "execute_result",
          "data": {
            "text/plain": [
              "10"
            ]
          },
          "metadata": {},
          "execution_count": 33
        }
      ]
    },
    {
      "cell_type": "markdown",
      "metadata": {
        "id": "MJT04oW7uqLg"
      },
      "source": [
        "### 한글"
      ]
    },
    {
      "cell_type": "code",
      "metadata": {
        "id": "C4OsD6KE64xb",
        "outputId": "9a8f2c8a-f087-4f32-c9a2-4c4e1d80d266",
        "colab": {
          "base_uri": "https://localhost:8080/"
        }
      },
      "source": [
        "len('한글')"
      ],
      "execution_count": 34,
      "outputs": [
        {
          "output_type": "execute_result",
          "data": {
            "text/plain": [
              "2"
            ]
          },
          "metadata": {},
          "execution_count": 34
        }
      ]
    },
    {
      "cell_type": "markdown",
      "metadata": {
        "id": "K9saUoviu5tz"
      },
      "source": [
        "**공백**은 길이에 포함됩니다."
      ]
    },
    {
      "cell_type": "code",
      "metadata": {
        "id": "ZcM0bTkdpc4_",
        "outputId": "adde9b2b-6de3-4e0d-c9c8-1da9143c2788",
        "colab": {
          "base_uri": "https://localhost:8080/"
        }
      },
      "source": [
        "len('한글이 최고!')"
      ],
      "execution_count": 35,
      "outputs": [
        {
          "output_type": "execute_result",
          "data": {
            "text/plain": [
              "7"
            ]
          },
          "metadata": {},
          "execution_count": 35
        }
      ]
    },
    {
      "cell_type": "markdown",
      "metadata": {
        "id": "fYYXjPApww5F"
      },
      "source": [
        "## 인덱싱 (indexing)\n",
        "\n",
        "- 문자열에서 한 개의 글자(char)를 조회하기 위해서는 **[]를 활용한 인덱싱으로 조회**할 수 있습니다."
      ]
    },
    {
      "cell_type": "code",
      "metadata": {
        "id": "9yJDIklaefWW",
        "outputId": "ca0482a5-a021-42c4-ac85-5b4d0f114d06",
        "colab": {
          "base_uri": "https://localhost:8080/",
          "height": 35
        }
      },
      "source": [
        "a = 'Python is my life'\n",
        "a"
      ],
      "execution_count": 36,
      "outputs": [
        {
          "output_type": "execute_result",
          "data": {
            "text/plain": [
              "'Python is my life'"
            ],
            "application/vnd.google.colaboratory.intrinsic+json": {
              "type": "string"
            }
          },
          "metadata": {},
          "execution_count": 36
        }
      ]
    },
    {
      "cell_type": "markdown",
      "metadata": {
        "id": "oxD0se1eefWW"
      },
      "source": [
        "<div class=\"jp-RenderedHTMLCommon jp-RenderedMarkdown jp-MarkdownOutput \" data-mime-type=\"text/markdown\">\n",
        "<table>\n",
        "<thead><tr>\n",
        "<th>P</th>\n",
        "<th>y</th>\n",
        "<th>t</th>\n",
        "<th>h</th>\n",
        "<th>o</th>\n",
        "<th>n</th>\n",
        "<th></th>\n",
        "<th>i</th>\n",
        "<th>s</th>\n",
        "<th></th>\n",
        "<th>m</th>\n",
        "<th>y</th>\n",
        "<th></th>\n",
        "<th>l</th>\n",
        "<th>i</th>\n",
        "<th>f</th>\n",
        "<th>e</th>\n",
        "</tr>\n",
        "</thead>\n",
        "<tbody>\n",
        "<tr>\n",
        "<td>0</td>\n",
        "<td>1</td>\n",
        "<td>2</td>\n",
        "<td>3</td>\n",
        "<td>4</td>\n",
        "<td>5</td>\n",
        "<td>6</td>\n",
        "<td>7</td>\n",
        "<td>8</td>\n",
        "<td>9</td>\n",
        "<td>10</td>\n",
        "<td>11</td>\n",
        "<td>12</td>\n",
        "<td>13</td>\n",
        "<td>14</td>\n",
        "<td>15</td>\n",
        "<td>16</td>\n",
        "</tr>\n",
        "<tr>\n",
        "<td>-17</td>\n",
        "<td>-16</td>\n",
        "<td>-15</td>\n",
        "<td>-14</td>\n",
        "<td>-13</td>\n",
        "<td>-12</td>\n",
        "<td>-11</td>\n",
        "<td>-10</td>\n",
        "<td>-9</td>\n",
        "<td>-8</td>\n",
        "<td>-7</td>\n",
        "<td>-6</td>\n",
        "<td>-5</td>\n",
        "<td>-4</td>\n",
        "<td>-3</td>\n",
        "<td>-2</td>\n",
        "<td>-1</td>\n",
        "</tr>\n",
        "</tbody>\n",
        "</table>\n",
        "\n",
        "</div>"
      ]
    },
    {
      "cell_type": "code",
      "metadata": {
        "id": "_Ee3pk7axjxw",
        "outputId": "31fd6dd7-b6e8-4e52-e216-56c85b53f0d7",
        "colab": {
          "base_uri": "https://localhost:8080/",
          "height": 35
        }
      },
      "source": [
        "a[0]"
      ],
      "execution_count": 37,
      "outputs": [
        {
          "output_type": "execute_result",
          "data": {
            "text/plain": [
              "'P'"
            ],
            "application/vnd.google.colaboratory.intrinsic+json": {
              "type": "string"
            }
          },
          "metadata": {},
          "execution_count": 37
        }
      ]
    },
    {
      "cell_type": "code",
      "metadata": {
        "id": "wrjfuPlrxm8E",
        "outputId": "e5396bf0-568b-400f-bc43-db4fa0bd584a",
        "colab": {
          "base_uri": "https://localhost:8080/",
          "height": 35
        }
      },
      "source": [
        "a[-2]"
      ],
      "execution_count": 38,
      "outputs": [
        {
          "output_type": "execute_result",
          "data": {
            "text/plain": [
              "'f'"
            ],
            "application/vnd.google.colaboratory.intrinsic+json": {
              "type": "string"
            }
          },
          "metadata": {},
          "execution_count": 38
        }
      ]
    },
    {
      "cell_type": "markdown",
      "metadata": {
        "id": "ztqTg5l5efWX"
      },
      "source": [
        "### 연습문제"
      ]
    },
    {
      "cell_type": "markdown",
      "metadata": {
        "id": "iM0DDbFdefWX"
      },
      "source": [
        "문자열 \"210101-1234567\"을 인덱싱 하여 성별을 나타내는 숫자를 출력 하세요"
      ]
    },
    {
      "cell_type": "code",
      "metadata": {
        "id": "uid2zza-efWX"
      },
      "source": [
        "registration_number =  '210101-1234567'"
      ],
      "execution_count": 40,
      "outputs": []
    },
    {
      "cell_type": "code",
      "metadata": {
        "id": "JpLoINWlefWX",
        "outputId": "a009e0d4-3539-4055-f3f4-076bed2032b7",
        "colab": {
          "base_uri": "https://localhost:8080/",
          "height": 35
        }
      },
      "source": [
        "# 코드를 입력해 주세요\n",
        "registration_number[7]"
      ],
      "execution_count": 41,
      "outputs": [
        {
          "output_type": "execute_result",
          "data": {
            "text/plain": [
              "'1'"
            ],
            "application/vnd.google.colaboratory.intrinsic+json": {
              "type": "string"
            }
          },
          "metadata": {},
          "execution_count": 41
        }
      ]
    },
    {
      "cell_type": "markdown",
      "metadata": {
        "id": "nPnLFP4mefWY"
      },
      "source": [
        "<p><strong>[출력 결과]</strong></p><pre>'1'</pre>"
      ]
    },
    {
      "cell_type": "markdown",
      "metadata": {
        "id": "uQtvUw-txhmT"
      },
      "source": [
        "## 슬라이싱 (Slicing)\n",
        "\n",
        "- 슬라이싱의 활용: [start:stop:step] 을 명시하여 부분을 추출할 수 있습니다."
      ]
    },
    {
      "cell_type": "code",
      "metadata": {
        "id": "cl4a31vLefWY",
        "outputId": "d9068c61-7b51-4b76-bfd2-a873a72dc224",
        "colab": {
          "base_uri": "https://localhost:8080/",
          "height": 35
        }
      },
      "source": [
        "a = 'Python is my life'\n",
        "a"
      ],
      "execution_count": 42,
      "outputs": [
        {
          "output_type": "execute_result",
          "data": {
            "text/plain": [
              "'Python is my life'"
            ],
            "application/vnd.google.colaboratory.intrinsic+json": {
              "type": "string"
            }
          },
          "metadata": {},
          "execution_count": 42
        }
      ]
    },
    {
      "cell_type": "markdown",
      "metadata": {
        "id": "fOdNfLFqefWY"
      },
      "source": [
        "<div class=\"jp-RenderedHTMLCommon jp-RenderedMarkdown jp-MarkdownOutput \" data-mime-type=\"text/markdown\">\n",
        "<table>\n",
        "<thead><tr>\n",
        "<th>P</th>\n",
        "<th>y</th>\n",
        "<th>t</th>\n",
        "<th>h</th>\n",
        "<th>o</th>\n",
        "<th>n</th>\n",
        "<th></th>\n",
        "<th>i</th>\n",
        "<th>s</th>\n",
        "<th></th>\n",
        "<th>m</th>\n",
        "<th>y</th>\n",
        "<th></th>\n",
        "<th>l</th>\n",
        "<th>i</th>\n",
        "<th>f</th>\n",
        "<th>e</th>\n",
        "</tr>\n",
        "</thead>\n",
        "<tbody>\n",
        "<tr>\n",
        "<td>0</td>\n",
        "<td>1</td>\n",
        "<td>2</td>\n",
        "<td>3</td>\n",
        "<td>4</td>\n",
        "<td>5</td>\n",
        "<td>6</td>\n",
        "<td>7</td>\n",
        "<td>8</td>\n",
        "<td>9</td>\n",
        "<td>10</td>\n",
        "<td>11</td>\n",
        "<td>12</td>\n",
        "<td>13</td>\n",
        "<td>14</td>\n",
        "<td>15</td>\n",
        "<td>16</td>\n",
        "</tr>\n",
        "<tr>\n",
        "<td>-17</td>\n",
        "<td>-16</td>\n",
        "<td>-15</td>\n",
        "<td>-14</td>\n",
        "<td>-13</td>\n",
        "<td>-12</td>\n",
        "<td>-11</td>\n",
        "<td>-10</td>\n",
        "<td>-9</td>\n",
        "<td>-8</td>\n",
        "<td>-7</td>\n",
        "<td>-6</td>\n",
        "<td>-5</td>\n",
        "<td>-4</td>\n",
        "<td>-3</td>\n",
        "<td>-2</td>\n",
        "<td>-1</td>\n",
        "</tr>\n",
        "</tbody>\n",
        "</table>\n",
        "\n",
        "</div>"
      ]
    },
    {
      "cell_type": "markdown",
      "metadata": {
        "id": "fuF8OxXzefWY"
      },
      "source": [
        "[:]을 활용하여 전체를 추출할 수 있습니다."
      ]
    },
    {
      "cell_type": "code",
      "metadata": {
        "id": "CTnWR075efWZ",
        "outputId": "47c926a9-d3d4-4d69-f540-bd3c05a1e53a",
        "colab": {
          "base_uri": "https://localhost:8080/",
          "height": 35
        }
      },
      "source": [
        "a[:]"
      ],
      "execution_count": 43,
      "outputs": [
        {
          "output_type": "execute_result",
          "data": {
            "text/plain": [
              "'Python is my life'"
            ],
            "application/vnd.google.colaboratory.intrinsic+json": {
              "type": "string"
            }
          },
          "metadata": {},
          "execution_count": 43
        }
      ]
    },
    {
      "cell_type": "markdown",
      "metadata": {
        "id": "cL-WhArrefWZ"
      },
      "source": [
        "<div class=\"jp-RenderedHTMLCommon jp-RenderedMarkdown jp-MarkdownOutput \" data-mime-type=\"text/markdown\">\n",
        "<table>\n",
        "<thead><tr>\n",
        "<th>P</th>\n",
        "<th>y</th>\n",
        "<th>t</th>\n",
        "<th>h</th>\n",
        "<th>o</th>\n",
        "<th>n</th>\n",
        "<th></th>\n",
        "<th>i</th>\n",
        "<th>s</th>\n",
        "<th></th>\n",
        "<th>m</th>\n",
        "<th>y</th>\n",
        "<th></th>\n",
        "<th>l</th>\n",
        "<th>i</th>\n",
        "<th>f</th>\n",
        "<th>e</th>\n",
        "</tr>\n",
        "</thead>\n",
        "<tbody>\n",
        "<tr>\n",
        "<td>0</td>\n",
        "<td>1</td>\n",
        "<td>2</td>\n",
        "<td>3</td>\n",
        "<td>4</td>\n",
        "<td>5</td>\n",
        "<td>6</td>\n",
        "<td>7</td>\n",
        "<td>8</td>\n",
        "<td>9</td>\n",
        "<td>10</td>\n",
        "<td>11</td>\n",
        "<td>12</td>\n",
        "<td>13</td>\n",
        "<td>14</td>\n",
        "<td>15</td>\n",
        "<td>16</td>\n",
        "</tr>\n",
        "<tr>\n",
        "<td>-17</td>\n",
        "<td>-16</td>\n",
        "<td>-15</td>\n",
        "<td>-14</td>\n",
        "<td>-13</td>\n",
        "<td>-12</td>\n",
        "<td>-11</td>\n",
        "<td>-10</td>\n",
        "<td>-9</td>\n",
        "<td>-8</td>\n",
        "<td>-7</td>\n",
        "<td>-6</td>\n",
        "<td>-5</td>\n",
        "<td>-4</td>\n",
        "<td>-3</td>\n",
        "<td>-2</td>\n",
        "<td>-1</td>\n",
        "</tr>\n",
        "</tbody>\n",
        "</table>\n",
        "\n",
        "</div>"
      ]
    },
    {
      "cell_type": "markdown",
      "metadata": {
        "id": "pHMFJUy8efWZ"
      },
      "source": [
        "[start:]는 시작 index 부터 끝까지 추출합니다."
      ]
    },
    {
      "cell_type": "code",
      "metadata": {
        "id": "DIWMqyewefWZ",
        "outputId": "7f5bb5cf-1d15-48ec-ab41-be776db5571b",
        "colab": {
          "base_uri": "https://localhost:8080/",
          "height": 35
        }
      },
      "source": [
        "a[3:]"
      ],
      "execution_count": 44,
      "outputs": [
        {
          "output_type": "execute_result",
          "data": {
            "text/plain": [
              "'hon is my life'"
            ],
            "application/vnd.google.colaboratory.intrinsic+json": {
              "type": "string"
            }
          },
          "metadata": {},
          "execution_count": 44
        }
      ]
    },
    {
      "cell_type": "code",
      "metadata": {
        "id": "xTdvS-UpefWa",
        "outputId": "b03aa38f-aade-4c80-c471-87a64c0dc8f5",
        "colab": {
          "base_uri": "https://localhost:8080/",
          "height": 35
        }
      },
      "source": [
        "a[-4:]"
      ],
      "execution_count": 46,
      "outputs": [
        {
          "output_type": "execute_result",
          "data": {
            "text/plain": [
              "'life'"
            ],
            "application/vnd.google.colaboratory.intrinsic+json": {
              "type": "string"
            }
          },
          "metadata": {},
          "execution_count": 46
        }
      ]
    },
    {
      "cell_type": "markdown",
      "metadata": {
        "id": "qNP1OCS9efWa"
      },
      "source": [
        "<div class=\"jp-RenderedHTMLCommon jp-RenderedMarkdown jp-MarkdownOutput \" data-mime-type=\"text/markdown\">\n",
        "<table>\n",
        "<thead><tr>\n",
        "<th>P</th>\n",
        "<th>y</th>\n",
        "<th>t</th>\n",
        "<th>h</th>\n",
        "<th>o</th>\n",
        "<th>n</th>\n",
        "<th></th>\n",
        "<th>i</th>\n",
        "<th>s</th>\n",
        "<th></th>\n",
        "<th>m</th>\n",
        "<th>y</th>\n",
        "<th></th>\n",
        "<th>l</th>\n",
        "<th>i</th>\n",
        "<th>f</th>\n",
        "<th>e</th>\n",
        "</tr>\n",
        "</thead>\n",
        "<tbody>\n",
        "<tr>\n",
        "<td>0</td>\n",
        "<td>1</td>\n",
        "<td>2</td>\n",
        "<td>3</td>\n",
        "<td>4</td>\n",
        "<td>5</td>\n",
        "<td>6</td>\n",
        "<td>7</td>\n",
        "<td>8</td>\n",
        "<td>9</td>\n",
        "<td>10</td>\n",
        "<td>11</td>\n",
        "<td>12</td>\n",
        "<td>13</td>\n",
        "<td>14</td>\n",
        "<td>15</td>\n",
        "<td>16</td>\n",
        "</tr>\n",
        "<tr>\n",
        "<td>-17</td>\n",
        "<td>-16</td>\n",
        "<td>-15</td>\n",
        "<td>-14</td>\n",
        "<td>-13</td>\n",
        "<td>-12</td>\n",
        "<td>-11</td>\n",
        "<td>-10</td>\n",
        "<td>-9</td>\n",
        "<td>-8</td>\n",
        "<td>-7</td>\n",
        "<td>-6</td>\n",
        "<td>-5</td>\n",
        "<td>-4</td>\n",
        "<td>-3</td>\n",
        "<td>-2</td>\n",
        "<td>-1</td>\n",
        "</tr>\n",
        "</tbody>\n",
        "</table>\n",
        "\n",
        "</div>"
      ]
    },
    {
      "cell_type": "markdown",
      "metadata": {
        "id": "gLUlg1HnefWa"
      },
      "source": [
        "[:end]는 처음부터 end 전까지 추출합니다."
      ]
    },
    {
      "cell_type": "code",
      "metadata": {
        "id": "GuwSW6AfxHlO",
        "outputId": "055f9d46-e42a-4b0e-deae-a140e4b5591a",
        "colab": {
          "base_uri": "https://localhost:8080/",
          "height": 35
        }
      },
      "source": [
        "a[:6]"
      ],
      "execution_count": 47,
      "outputs": [
        {
          "output_type": "execute_result",
          "data": {
            "text/plain": [
              "'Python'"
            ],
            "application/vnd.google.colaboratory.intrinsic+json": {
              "type": "string"
            }
          },
          "metadata": {},
          "execution_count": 47
        }
      ]
    },
    {
      "cell_type": "code",
      "metadata": {
        "id": "PJU7lxPfxK-K",
        "outputId": "36bd22c2-efa5-4859-ffa2-889f94831446",
        "colab": {
          "base_uri": "https://localhost:8080/",
          "height": 35
        }
      },
      "source": [
        "a[:-3]"
      ],
      "execution_count": 48,
      "outputs": [
        {
          "output_type": "execute_result",
          "data": {
            "text/plain": [
              "'Python is my l'"
            ],
            "application/vnd.google.colaboratory.intrinsic+json": {
              "type": "string"
            }
          },
          "metadata": {},
          "execution_count": 48
        }
      ]
    },
    {
      "cell_type": "markdown",
      "metadata": {
        "id": "CyqAn2eqefWb"
      },
      "source": [
        "<div class=\"jp-RenderedHTMLCommon jp-RenderedMarkdown jp-MarkdownOutput \" data-mime-type=\"text/markdown\">\n",
        "<table>\n",
        "<thead><tr>\n",
        "<th>P</th>\n",
        "<th>y</th>\n",
        "<th>t</th>\n",
        "<th>h</th>\n",
        "<th>o</th>\n",
        "<th>n</th>\n",
        "<th></th>\n",
        "<th>i</th>\n",
        "<th>s</th>\n",
        "<th></th>\n",
        "<th>m</th>\n",
        "<th>y</th>\n",
        "<th></th>\n",
        "<th>l</th>\n",
        "<th>i</th>\n",
        "<th>f</th>\n",
        "<th>e</th>\n",
        "</tr>\n",
        "</thead>\n",
        "<tbody>\n",
        "<tr>\n",
        "<td>0</td>\n",
        "<td>1</td>\n",
        "<td>2</td>\n",
        "<td>3</td>\n",
        "<td>4</td>\n",
        "<td>5</td>\n",
        "<td>6</td>\n",
        "<td>7</td>\n",
        "<td>8</td>\n",
        "<td>9</td>\n",
        "<td>10</td>\n",
        "<td>11</td>\n",
        "<td>12</td>\n",
        "<td>13</td>\n",
        "<td>14</td>\n",
        "<td>15</td>\n",
        "<td>16</td>\n",
        "</tr>\n",
        "<tr>\n",
        "<td>-17</td>\n",
        "<td>-16</td>\n",
        "<td>-15</td>\n",
        "<td>-14</td>\n",
        "<td>-13</td>\n",
        "<td>-12</td>\n",
        "<td>-11</td>\n",
        "<td>-10</td>\n",
        "<td>-9</td>\n",
        "<td>-8</td>\n",
        "<td>-7</td>\n",
        "<td>-6</td>\n",
        "<td>-5</td>\n",
        "<td>-4</td>\n",
        "<td>-3</td>\n",
        "<td>-2</td>\n",
        "<td>-1</td>\n",
        "</tr>\n",
        "</tbody>\n",
        "</table>\n",
        "\n",
        "</div>"
      ]
    },
    {
      "cell_type": "markdown",
      "metadata": {
        "id": "ZPCnuNbNefWb"
      },
      "source": [
        "[start:end]는 start부터 end 전까지 추출합니다."
      ]
    },
    {
      "cell_type": "code",
      "metadata": {
        "id": "D0nLAaU9xV3E",
        "outputId": "f05c1ee6-ca4d-41f5-a331-46a50f361e6a",
        "colab": {
          "base_uri": "https://localhost:8080/",
          "height": 35
        }
      },
      "source": [
        "a[3:6]"
      ],
      "execution_count": 49,
      "outputs": [
        {
          "output_type": "execute_result",
          "data": {
            "text/plain": [
              "'hon'"
            ],
            "application/vnd.google.colaboratory.intrinsic+json": {
              "type": "string"
            }
          },
          "metadata": {},
          "execution_count": 49
        }
      ]
    },
    {
      "cell_type": "markdown",
      "metadata": {
        "id": "YAHXa147efWc"
      },
      "source": [
        "[start:stop:step]에서 step 지정시 step만큼 건너 뛰면서 추출합니다."
      ]
    },
    {
      "cell_type": "code",
      "metadata": {
        "id": "lVNSxsf7xZdK",
        "outputId": "ad0d21aa-c140-4c11-e821-5090bea609ce",
        "colab": {
          "base_uri": "https://localhost:8080/",
          "height": 35
        }
      },
      "source": [
        "a[::2]"
      ],
      "execution_count": 50,
      "outputs": [
        {
          "output_type": "execute_result",
          "data": {
            "text/plain": [
              "'Pto sm ie'"
            ],
            "application/vnd.google.colaboratory.intrinsic+json": {
              "type": "string"
            }
          },
          "metadata": {},
          "execution_count": 50
        }
      ]
    },
    {
      "cell_type": "markdown",
      "metadata": {
        "id": "gqszBTMJefWc"
      },
      "source": [
        "역순으로 출력하기 위해서는 step을 -1로 지정합니다."
      ]
    },
    {
      "cell_type": "code",
      "metadata": {
        "id": "stAflU2pefWc",
        "outputId": "533fa0c0-0de7-4223-967c-cdb9fa3e6f7e",
        "colab": {
          "base_uri": "https://localhost:8080/",
          "height": 35
        }
      },
      "source": [
        "a[::-1]"
      ],
      "execution_count": 51,
      "outputs": [
        {
          "output_type": "execute_result",
          "data": {
            "text/plain": [
              "'efil ym si nohtyP'"
            ],
            "application/vnd.google.colaboratory.intrinsic+json": {
              "type": "string"
            }
          },
          "metadata": {},
          "execution_count": 51
        }
      ]
    },
    {
      "cell_type": "markdown",
      "metadata": {
        "id": "HeCCEfRQefWc"
      },
      "source": [
        "## 연습문제"
      ]
    },
    {
      "cell_type": "markdown",
      "metadata": {
        "id": "-o8vcMeQefWc"
      },
      "source": [
        "문자열 '20210101Sunny'를 슬라이싱하여 날짜는 `date`변수에 날씨는 `weather` 변수에 저장 후 출력 하세요"
      ]
    },
    {
      "cell_type": "code",
      "metadata": {
        "id": "yqH2OJGhefWd"
      },
      "source": [
        "sample = '20210101Sunny'"
      ],
      "execution_count": 52,
      "outputs": []
    },
    {
      "cell_type": "code",
      "metadata": {
        "id": "5xi5y2jtefWd",
        "outputId": "ced071cc-f85e-4ba1-dd6a-1be1fc1a7ce0",
        "colab": {
          "base_uri": "https://localhost:8080/"
        }
      },
      "source": [
        "# 코드를 입력해 주세요\n",
        "date = sample[:-5]\n",
        "weather = sample[-5:]\n",
        "print(f'date: {date}, weather: {weather}')"
      ],
      "execution_count": 53,
      "outputs": [
        {
          "output_type": "stream",
          "name": "stdout",
          "text": [
            "date: 20210101, weather: Sunny\n"
          ]
        }
      ]
    },
    {
      "cell_type": "markdown",
      "metadata": {
        "id": "xFkOZzQhefWd"
      },
      "source": [
        "<p><strong>[출력 결과]</strong></p><pre>date: 20210101, weather: Sunny\n",
        "</pre>"
      ]
    },
    {
      "cell_type": "markdown",
      "metadata": {
        "id": "3YtcNbW9efWd"
      },
      "source": [
        "### 불변(immutable)\n",
        "\n",
        "- 문자열은 index를 통해 값을 수정 및 변경이 불가합니다.\n",
        "- 하지만 메서드(method)로 변경할 수 있습니다."
      ]
    },
    {
      "cell_type": "code",
      "metadata": {
        "id": "dX6xkFv8ycbC"
      },
      "source": [
        "a = 'Python is my life'"
      ],
      "execution_count": 54,
      "outputs": []
    },
    {
      "cell_type": "markdown",
      "metadata": {
        "id": "JqLGdHgbefWd"
      },
      "source": [
        "index에 값을 할당하여 변경하려는 경우"
      ]
    },
    {
      "cell_type": "code",
      "metadata": {
        "id": "rRb3BS2OrNuf",
        "outputId": "b3b35526-9d28-4b3d-b815-b21ae31edd12",
        "colab": {
          "base_uri": "https://localhost:8080/",
          "height": 35
        }
      },
      "source": [
        "a[2]"
      ],
      "execution_count": 55,
      "outputs": [
        {
          "output_type": "execute_result",
          "data": {
            "text/plain": [
              "'t'"
            ],
            "application/vnd.google.colaboratory.intrinsic+json": {
              "type": "string"
            }
          },
          "metadata": {},
          "execution_count": 55
        }
      ]
    },
    {
      "cell_type": "code",
      "metadata": {
        "id": "d0OIpUlQyd98",
        "outputId": "8ee0a7c1-b4eb-495e-ca0d-623d7845ba92",
        "colab": {
          "base_uri": "https://localhost:8080/",
          "height": 174
        }
      },
      "source": [
        "a[2] = 'Y'"
      ],
      "execution_count": 56,
      "outputs": [
        {
          "output_type": "error",
          "ename": "TypeError",
          "evalue": "ignored",
          "traceback": [
            "\u001b[0;31m---------------------------------------------------------------------------\u001b[0m",
            "\u001b[0;31mTypeError\u001b[0m                                 Traceback (most recent call last)",
            "\u001b[0;32m<ipython-input-56-f2db0e8f1888>\u001b[0m in \u001b[0;36m<cell line: 1>\u001b[0;34m()\u001b[0m\n\u001b[0;32m----> 1\u001b[0;31m \u001b[0ma\u001b[0m\u001b[0;34m[\u001b[0m\u001b[0;36m2\u001b[0m\u001b[0;34m]\u001b[0m \u001b[0;34m=\u001b[0m \u001b[0;34m'Y'\u001b[0m\u001b[0;34m\u001b[0m\u001b[0;34m\u001b[0m\u001b[0m\n\u001b[0m",
            "\u001b[0;31mTypeError\u001b[0m: 'str' object does not support item assignment"
          ]
        }
      ]
    },
    {
      "cell_type": "markdown",
      "metadata": {
        "id": "iQQp24dNefWe"
      },
      "source": [
        "del로 부분 삭제하려는 경우"
      ]
    },
    {
      "cell_type": "code",
      "metadata": {
        "id": "U9L7Mku-efWe",
        "outputId": "34f4e52a-5d01-420b-a803-ccd16f28d513",
        "colab": {
          "base_uri": "https://localhost:8080/",
          "height": 174
        }
      },
      "source": [
        "del a[2]"
      ],
      "execution_count": 57,
      "outputs": [
        {
          "output_type": "error",
          "ename": "TypeError",
          "evalue": "ignored",
          "traceback": [
            "\u001b[0;31m---------------------------------------------------------------------------\u001b[0m",
            "\u001b[0;31mTypeError\u001b[0m                                 Traceback (most recent call last)",
            "\u001b[0;32m<ipython-input-57-734682c6a06c>\u001b[0m in \u001b[0;36m<cell line: 1>\u001b[0;34m()\u001b[0m\n\u001b[0;32m----> 1\u001b[0;31m \u001b[0;32mdel\u001b[0m \u001b[0ma\u001b[0m\u001b[0;34m[\u001b[0m\u001b[0;36m2\u001b[0m\u001b[0;34m]\u001b[0m\u001b[0;34m\u001b[0m\u001b[0;34m\u001b[0m\u001b[0m\n\u001b[0m",
            "\u001b[0;31mTypeError\u001b[0m: 'str' object doesn't support item deletion"
          ]
        }
      ]
    },
    {
      "cell_type": "markdown",
      "metadata": {
        "id": "M1QOBKQdefWe"
      },
      "source": [
        "## 문자열의 덧셈과 곱셈"
      ]
    },
    {
      "cell_type": "markdown",
      "metadata": {
        "id": "wy7OzuVn7Rx6"
      },
      "source": [
        "### 연결: 문자열의 덧셈\n",
        "\n",
        "덧셈은 문자열을 연결합니다."
      ]
    },
    {
      "cell_type": "code",
      "metadata": {
        "id": "CqP9eJT0efWe"
      },
      "source": [
        "a = '반갑습니다!'\n",
        "b = '웰컴 투 파이썬'"
      ],
      "execution_count": 58,
      "outputs": []
    },
    {
      "cell_type": "code",
      "metadata": {
        "id": "3_LKDb6_7Bap",
        "outputId": "a9f1560f-f0d6-4f23-9a16-8d9758f24a66",
        "colab": {
          "base_uri": "https://localhost:8080/",
          "height": 35
        }
      },
      "source": [
        "a + b"
      ],
      "execution_count": 59,
      "outputs": [
        {
          "output_type": "execute_result",
          "data": {
            "text/plain": [
              "'반갑습니다!웰컴 투 파이썬'"
            ],
            "application/vnd.google.colaboratory.intrinsic+json": {
              "type": "string"
            }
          },
          "metadata": {},
          "execution_count": 59
        }
      ]
    },
    {
      "cell_type": "code",
      "metadata": {
        "id": "US6zEg98vol3",
        "outputId": "71b292e3-4dd2-4d69-8f07-151ceaaf2350",
        "colab": {
          "base_uri": "https://localhost:8080/",
          "height": 35
        }
      },
      "source": [
        "a + '???'"
      ],
      "execution_count": 60,
      "outputs": [
        {
          "output_type": "execute_result",
          "data": {
            "text/plain": [
              "'반갑습니다!???'"
            ],
            "application/vnd.google.colaboratory.intrinsic+json": {
              "type": "string"
            }
          },
          "metadata": {},
          "execution_count": 60
        }
      ]
    },
    {
      "cell_type": "code",
      "metadata": {
        "id": "WDjnEfnXefWf",
        "outputId": "360e0fc9-b92d-44c4-bc92-345179536454",
        "colab": {
          "base_uri": "https://localhost:8080/",
          "height": 35
        }
      },
      "source": [
        "'hello' + ', world'"
      ],
      "execution_count": 61,
      "outputs": [
        {
          "output_type": "execute_result",
          "data": {
            "text/plain": [
              "'hello, world'"
            ],
            "application/vnd.google.colaboratory.intrinsic+json": {
              "type": "string"
            }
          },
          "metadata": {},
          "execution_count": 61
        }
      ]
    },
    {
      "cell_type": "markdown",
      "metadata": {
        "id": "qQqStSwV7Tdj"
      },
      "source": [
        "### 복제: 문자열의 곱셈\n",
        "\n",
        "문자열을 곱한 숫자 만큼 반복하여 생성합니다."
      ]
    },
    {
      "cell_type": "code",
      "metadata": {
        "id": "_Ohx_-zrrvRm",
        "outputId": "cf8dc794-6694-4701-9115-38af99819709",
        "colab": {
          "base_uri": "https://localhost:8080/",
          "height": 174
        }
      },
      "source": [
        "a * b"
      ],
      "execution_count": 62,
      "outputs": [
        {
          "output_type": "error",
          "ename": "TypeError",
          "evalue": "ignored",
          "traceback": [
            "\u001b[0;31m---------------------------------------------------------------------------\u001b[0m",
            "\u001b[0;31mTypeError\u001b[0m                                 Traceback (most recent call last)",
            "\u001b[0;32m<ipython-input-62-9bc1a869709f>\u001b[0m in \u001b[0;36m<cell line: 1>\u001b[0;34m()\u001b[0m\n\u001b[0;32m----> 1\u001b[0;31m \u001b[0ma\u001b[0m \u001b[0;34m*\u001b[0m \u001b[0mb\u001b[0m\u001b[0;34m\u001b[0m\u001b[0;34m\u001b[0m\u001b[0m\n\u001b[0m",
            "\u001b[0;31mTypeError\u001b[0m: can't multiply sequence by non-int of type 'str'"
          ]
        }
      ]
    },
    {
      "cell_type": "code",
      "metadata": {
        "id": "xrTsCnY77BVO",
        "outputId": "6cb41a03-3aa9-4e74-8af0-775bd1c5d781",
        "colab": {
          "base_uri": "https://localhost:8080/",
          "height": 35
        }
      },
      "source": [
        "a * 2"
      ],
      "execution_count": 63,
      "outputs": [
        {
          "output_type": "execute_result",
          "data": {
            "text/plain": [
              "'반갑습니다!반갑습니다!'"
            ],
            "application/vnd.google.colaboratory.intrinsic+json": {
              "type": "string"
            }
          },
          "metadata": {},
          "execution_count": 63
        }
      ]
    },
    {
      "cell_type": "code",
      "metadata": {
        "id": "IacR3tePvfZg",
        "outputId": "4d59b0a2-b6f4-49f5-bf17-05429e9ad123",
        "colab": {
          "base_uri": "https://localhost:8080/"
        }
      },
      "source": [
        "print('abc ' * 5)\n",
        "print('===' * 7)"
      ],
      "execution_count": 64,
      "outputs": [
        {
          "output_type": "stream",
          "name": "stdout",
          "text": [
            "abc abc abc abc abc \n",
            "=====================\n"
          ]
        }
      ]
    },
    {
      "cell_type": "markdown",
      "metadata": {
        "id": "2VJuUbNy_ZUr"
      },
      "source": [
        "## 문자열의 list, set"
      ]
    },
    {
      "cell_type": "markdown",
      "metadata": {
        "id": "cST_Dqdov5gS"
      },
      "source": [
        "### 리스트(list)\n",
        "\n",
        "- 문자열을 리스트(list)로 타입 변환이 가능합니다.\n",
        "- 타입 변환시 한 글자를 요소로 갖는 리스트가 생성됩니다."
      ]
    },
    {
      "cell_type": "code",
      "metadata": {
        "id": "SLWiM44c_cng",
        "outputId": "b5200b96-3998-426e-817e-3bf35476a634",
        "colab": {
          "base_uri": "https://localhost:8080/"
        }
      },
      "source": [
        "list('ABCDE')"
      ],
      "execution_count": 65,
      "outputs": [
        {
          "output_type": "execute_result",
          "data": {
            "text/plain": [
              "['A', 'B', 'C', 'D', 'E']"
            ]
          },
          "metadata": {},
          "execution_count": 65
        }
      ]
    },
    {
      "cell_type": "markdown",
      "metadata": {
        "id": "Fb2mqFztv7uK"
      },
      "source": [
        "### 세트(set)\n",
        "\n",
        "- 한 글자를 요소로 갖는 세트가 생성됩니다.\n",
        "- 세트의 특성상 요소를 생성한 후 중복된 글자는 제거됩니다."
      ]
    },
    {
      "cell_type": "code",
      "metadata": {
        "id": "XTEdxUag_evd",
        "outputId": "e5acc94d-9521-4a94-88b5-d5e7eafe96a1",
        "colab": {
          "base_uri": "https://localhost:8080/"
        }
      },
      "source": [
        "set('AAABBBCCC')"
      ],
      "execution_count": 66,
      "outputs": [
        {
          "output_type": "execute_result",
          "data": {
            "text/plain": [
              "{'A', 'B', 'C'}"
            ]
          },
          "metadata": {},
          "execution_count": 66
        }
      ]
    },
    {
      "cell_type": "markdown",
      "metadata": {
        "id": "c-A3YeF9efWg"
      },
      "source": [
        "중복이 제거된 리스트로 생성하기 위해서는 list로 다시 타입 변환합니다."
      ]
    },
    {
      "cell_type": "code",
      "metadata": {
        "id": "8ujXOXJp_eNh",
        "outputId": "11a186df-107f-46b3-8ce4-2f87ff1b025d",
        "colab": {
          "base_uri": "https://localhost:8080/"
        }
      },
      "source": [
        "list(set('AAABBBCCC'))"
      ],
      "execution_count": 67,
      "outputs": [
        {
          "output_type": "execute_result",
          "data": {
            "text/plain": [
              "['B', 'C', 'A']"
            ]
          },
          "metadata": {},
          "execution_count": 67
        }
      ]
    },
    {
      "cell_type": "markdown",
      "metadata": {
        "id": "J1r3BMiLefWh"
      },
      "source": [
        "### 연습문제\n",
        "\n",
        "- 다음 중 a, b, c에서 공통으로 사용된 알파벳(공백 포함)을 출력하세요.\n",
        "- list 형식으로 출력하세요."
      ]
    },
    {
      "cell_type": "code",
      "metadata": {
        "id": "XRDhYkBuefWh"
      },
      "source": [
        "a = 'Hello, World'\n",
        "b = 'World To World'\n",
        "c = 'world to world'"
      ],
      "execution_count": 69,
      "outputs": []
    },
    {
      "cell_type": "code",
      "metadata": {
        "id": "qOTuRY1eefWh",
        "outputId": "a604e0ff-1451-4423-d0f0-9f31ccbe6226",
        "colab": {
          "base_uri": "https://localhost:8080/"
        }
      },
      "source": [
        "# 코드를 입력해 주세요\n",
        "list(set(a) & set(b) & set(c))"
      ],
      "execution_count": 70,
      "outputs": [
        {
          "output_type": "execute_result",
          "data": {
            "text/plain": [
              "['l', 'r', 'd', ' ', 'o']"
            ]
          },
          "metadata": {},
          "execution_count": 70
        }
      ]
    },
    {
      "cell_type": "markdown",
      "metadata": {
        "id": "41lHl1vAefWh"
      },
      "source": [
        "<p><strong>[출력 결과]</strong></p><pre>['o', 'l', ' ', 'd', 'r']</pre>"
      ]
    },
    {
      "cell_type": "markdown",
      "metadata": {
        "id": "X3drW8_W6_cP"
      },
      "source": [
        "## 문자열(텍스트)을 다루는 다양한 기능, 메서드(method)\n",
        "\n",
        "문자열만 가지고 있는 **고유의 편한 기능**들이 있습니다. \n",
        "\n",
        "우리는 이들 중 몇 가지를 배워 앞으로 유용하게 활용할 예정입니다."
      ]
    },
    {
      "cell_type": "markdown",
      "metadata": {
        "id": "b3crAbCA7Oy-"
      },
      "source": [
        "### split() : 분리"
      ]
    },
    {
      "cell_type": "markdown",
      "metadata": {
        "id": "OsAWWrld7UiV"
      },
      "source": [
        "- split은 문장을 특정 규칙에 의해 쪼개 주는 기능을 합니다.\n",
        "- 분리한 결과는 list 형식으로 값을 return 받습니다."
      ]
    },
    {
      "cell_type": "code",
      "metadata": {
        "id": "FC4GEYLM7WmE"
      },
      "source": [
        "a = 'This is a pen'"
      ],
      "execution_count": 71,
      "outputs": []
    },
    {
      "cell_type": "markdown",
      "metadata": {
        "id": "gJVbkVK8efWi"
      },
      "source": [
        "기본 값으로 **공백**이 지정되어 있습니다. 즉, 공백을 기준으로 분리하여 리스트로 반환합니다."
      ]
    },
    {
      "cell_type": "code",
      "metadata": {
        "id": "fGrSNzoaefWi",
        "outputId": "0c211270-5065-46eb-c1ca-c86d5797a814",
        "colab": {
          "base_uri": "https://localhost:8080/"
        }
      },
      "source": [
        "a.split()"
      ],
      "execution_count": 72,
      "outputs": [
        {
          "output_type": "execute_result",
          "data": {
            "text/plain": [
              "['This', 'is', 'a', 'pen']"
            ]
          },
          "metadata": {},
          "execution_count": 72
        }
      ]
    },
    {
      "cell_type": "markdown",
      "metadata": {
        "id": "JWUQvHVc7vql"
      },
      "source": [
        "기본 값인 **공백**에서 **특정 문자**로 지정할 수 있습니다."
      ]
    },
    {
      "cell_type": "code",
      "metadata": {
        "id": "-CCwHeQk7hru"
      },
      "source": [
        "a = 'This-is-a-pen'"
      ],
      "execution_count": 73,
      "outputs": []
    },
    {
      "cell_type": "code",
      "metadata": {
        "id": "MGeoKMAZs992",
        "outputId": "a85375b8-58d9-4318-f72b-b44e2b2c13bf",
        "colab": {
          "base_uri": "https://localhost:8080/"
        }
      },
      "source": [
        "a.split()"
      ],
      "execution_count": 74,
      "outputs": [
        {
          "output_type": "execute_result",
          "data": {
            "text/plain": [
              "['This-is-a-pen']"
            ]
          },
          "metadata": {},
          "execution_count": 74
        }
      ]
    },
    {
      "cell_type": "code",
      "metadata": {
        "id": "fr07vyKD7lJd",
        "outputId": "d65c94ff-f916-4aab-afb7-2e600dc33ff2",
        "colab": {
          "base_uri": "https://localhost:8080/"
        }
      },
      "source": [
        "a.split('-')"
      ],
      "execution_count": 75,
      "outputs": [
        {
          "output_type": "execute_result",
          "data": {
            "text/plain": [
              "['This', 'is', 'a', 'pen']"
            ]
          },
          "metadata": {},
          "execution_count": 75
        }
      ]
    },
    {
      "cell_type": "code",
      "metadata": {
        "id": "BL7mXU7H77EE",
        "outputId": "bd68c25f-5bdd-49ca-88c9-bd4986fdd5e1",
        "colab": {
          "base_uri": "https://localhost:8080/"
        }
      },
      "source": [
        "aa = a.split('-')\n",
        "aa"
      ],
      "execution_count": 76,
      "outputs": [
        {
          "output_type": "execute_result",
          "data": {
            "text/plain": [
              "['This', 'is', 'a', 'pen']"
            ]
          },
          "metadata": {},
          "execution_count": 76
        }
      ]
    },
    {
      "cell_type": "markdown",
      "metadata": {
        "id": "M0G2zFIuefWj"
      },
      "source": [
        "`aa`에 반환된 리스트를 대입 후 index로 값을 조회할 수 있습니다."
      ]
    },
    {
      "cell_type": "code",
      "metadata": {
        "id": "fcoZjewf7-Cl",
        "outputId": "2fd00065-2f4a-4b85-f5c8-3d80a4e0fa15",
        "colab": {
          "base_uri": "https://localhost:8080/",
          "height": 35
        }
      },
      "source": [
        "aa[0]"
      ],
      "execution_count": 77,
      "outputs": [
        {
          "output_type": "execute_result",
          "data": {
            "text/plain": [
              "'This'"
            ],
            "application/vnd.google.colaboratory.intrinsic+json": {
              "type": "string"
            }
          },
          "metadata": {},
          "execution_count": 77
        }
      ]
    },
    {
      "cell_type": "code",
      "metadata": {
        "id": "Tdu5YodD8ByV",
        "outputId": "e116a366-1146-4aeb-a1f7-a8a3fd7ffb31",
        "colab": {
          "base_uri": "https://localhost:8080/",
          "height": 35
        }
      },
      "source": [
        "aa[2]"
      ],
      "execution_count": 78,
      "outputs": [
        {
          "output_type": "execute_result",
          "data": {
            "text/plain": [
              "'a'"
            ],
            "application/vnd.google.colaboratory.intrinsic+json": {
              "type": "string"
            }
          },
          "metadata": {},
          "execution_count": 78
        }
      ]
    },
    {
      "cell_type": "code",
      "metadata": {
        "id": "A3bVCP1o8CgV",
        "outputId": "7108a2df-55b9-40e0-c3cd-dda99f9a5fa8",
        "colab": {
          "base_uri": "https://localhost:8080/",
          "height": 35
        }
      },
      "source": [
        "aa[0] + aa[2]"
      ],
      "execution_count": 79,
      "outputs": [
        {
          "output_type": "execute_result",
          "data": {
            "text/plain": [
              "'Thisa'"
            ],
            "application/vnd.google.colaboratory.intrinsic+json": {
              "type": "string"
            }
          },
          "metadata": {},
          "execution_count": 79
        }
      ]
    },
    {
      "cell_type": "markdown",
      "metadata": {
        "id": "KCsSZDFzefWj"
      },
      "source": [
        "**한글**도 동일하게 적용됩니다."
      ]
    },
    {
      "cell_type": "code",
      "metadata": {
        "id": "8cV3DoUT8X5P"
      },
      "source": [
        "a = '한글은 어떻게 될까요?'"
      ],
      "execution_count": 80,
      "outputs": []
    },
    {
      "cell_type": "code",
      "metadata": {
        "id": "Hjb4bU-a8Ebd",
        "outputId": "9b897734-7b1a-44b4-8b5e-fd0f13eecd76",
        "colab": {
          "base_uri": "https://localhost:8080/"
        }
      },
      "source": [
        "a.split()"
      ],
      "execution_count": 81,
      "outputs": [
        {
          "output_type": "execute_result",
          "data": {
            "text/plain": [
              "['한글은', '어떻게', '될까요?']"
            ]
          },
          "metadata": {},
          "execution_count": 81
        }
      ]
    },
    {
      "cell_type": "markdown",
      "metadata": {
        "id": "7DcLmsWdefWk"
      },
      "source": [
        "### 연습문제\n",
        "\n",
        "`sample` 변수를 활용하여 다음의 출력을 가지도록 문자열을 분리하세요"
      ]
    },
    {
      "cell_type": "code",
      "metadata": {
        "id": "7DPYGgiPefWk"
      },
      "source": [
        "sample = 'abc-def.789/100'"
      ],
      "execution_count": 86,
      "outputs": []
    },
    {
      "cell_type": "code",
      "metadata": {
        "id": "7pLCyTPEefWk",
        "outputId": "7b911362-4f85-4ffa-ea81-b2fd8e8d2273",
        "colab": {
          "base_uri": "https://localhost:8080/"
        }
      },
      "source": [
        "# 코드를 입력해 주세요\n",
        "sample.split('.')"
      ],
      "execution_count": 87,
      "outputs": [
        {
          "output_type": "execute_result",
          "data": {
            "text/plain": [
              "['abc-def', '789/100']"
            ]
          },
          "metadata": {},
          "execution_count": 87
        }
      ]
    },
    {
      "cell_type": "markdown",
      "metadata": {
        "id": "P5GhJIiTefWk"
      },
      "source": [
        "<p><strong>[출력 결과]</strong></p><pre>['abc-def', '789/100']</pre>"
      ]
    },
    {
      "cell_type": "code",
      "metadata": {
        "id": "3PCCQJ2refWk",
        "outputId": "6eaee616-9db5-4ec0-afd2-76b15b298c39",
        "colab": {
          "base_uri": "https://localhost:8080/"
        }
      },
      "source": [
        "# 코드를 입력해 주세요\n",
        "sample.split('-')"
      ],
      "execution_count": 88,
      "outputs": [
        {
          "output_type": "execute_result",
          "data": {
            "text/plain": [
              "['abc', 'def.789/100']"
            ]
          },
          "metadata": {},
          "execution_count": 88
        }
      ]
    },
    {
      "cell_type": "markdown",
      "metadata": {
        "id": "W-t668T2efWk"
      },
      "source": [
        "<p><strong>[출력 결과]</strong></p><pre>['abc', 'def.789/100']</pre>"
      ]
    },
    {
      "cell_type": "markdown",
      "metadata": {
        "id": "YiAIxxl3-JZk"
      },
      "source": [
        "### join() : 합치기\n",
        "\n",
        "- 결합하고자 하는 문자에 .join() 안에 리스트를 지정하여 결합할 수 있습니다."
      ]
    },
    {
      "cell_type": "code",
      "metadata": {
        "id": "ovA1xnOEwSZ6",
        "outputId": "694b9c25-5230-468c-f465-8d349c5ee6c5",
        "colab": {
          "base_uri": "https://localhost:8080/",
          "height": 35
        }
      },
      "source": [
        "'$$'.join(['010',  '1234', '5678'])"
      ],
      "execution_count": 89,
      "outputs": [
        {
          "output_type": "execute_result",
          "data": {
            "text/plain": [
              "'010$$1234$$5678'"
            ],
            "application/vnd.google.colaboratory.intrinsic+json": {
              "type": "string"
            }
          },
          "metadata": {},
          "execution_count": 89
        }
      ]
    },
    {
      "cell_type": "code",
      "metadata": {
        "id": "qlufBtYj-Un_",
        "outputId": "a0186f2c-24f6-4d6c-91e5-244958ed5234",
        "colab": {
          "base_uri": "https://localhost:8080/",
          "height": 35
        }
      },
      "source": [
        "'-'.join('ABCDE')"
      ],
      "execution_count": 90,
      "outputs": [
        {
          "output_type": "execute_result",
          "data": {
            "text/plain": [
              "'A-B-C-D-E'"
            ],
            "application/vnd.google.colaboratory.intrinsic+json": {
              "type": "string"
            }
          },
          "metadata": {},
          "execution_count": 90
        }
      ]
    },
    {
      "cell_type": "markdown",
      "metadata": {
        "id": "aYCF2N-cefWl"
      },
      "source": [
        "### 연습문제"
      ]
    },
    {
      "cell_type": "markdown",
      "metadata": {
        "id": "GaZU-g9YefWl"
      },
      "source": [
        "sample = ['Python', 'is', 'too', 'interesting']\n",
        "\n",
        "리스트를 Python is too interesting 이라는 문자열로 출력하세요"
      ]
    },
    {
      "cell_type": "code",
      "metadata": {
        "id": "gnjn0VnMefWl"
      },
      "source": [
        "sample = ['Python', 'is', 'too', 'interesting']"
      ],
      "execution_count": 91,
      "outputs": []
    },
    {
      "cell_type": "code",
      "metadata": {
        "id": "LkHyWI6OefWl",
        "outputId": "0744fee8-76a6-42c0-f0d9-3772a3bf25cd",
        "colab": {
          "base_uri": "https://localhost:8080/",
          "height": 35
        }
      },
      "source": [
        "# 코드를 입력해 주세요\n",
        "' '.join(sample)"
      ],
      "execution_count": 92,
      "outputs": [
        {
          "output_type": "execute_result",
          "data": {
            "text/plain": [
              "'Python is too interesting'"
            ],
            "application/vnd.google.colaboratory.intrinsic+json": {
              "type": "string"
            }
          },
          "metadata": {},
          "execution_count": 92
        }
      ]
    },
    {
      "cell_type": "markdown",
      "metadata": {
        "id": "ulh6HQ9pefWm"
      },
      "source": [
        "<p><strong>[출력 결과]</strong></p><pre>'Python is too interesting'</pre>"
      ]
    },
    {
      "cell_type": "markdown",
      "metadata": {
        "id": "dBxYW5wZ8GP-"
      },
      "source": [
        "### lower(), upper() : 소문자 / 대문자로 만들기"
      ]
    },
    {
      "cell_type": "code",
      "metadata": {
        "id": "_jM72wdq8I5l"
      },
      "source": [
        "a = 'My name is Teddy'"
      ],
      "execution_count": 93,
      "outputs": []
    },
    {
      "cell_type": "markdown",
      "metadata": {
        "id": "aLvNB1v_efWm"
      },
      "source": [
        "소문자로 변경"
      ]
    },
    {
      "cell_type": "code",
      "metadata": {
        "id": "nzwSAYnY8PMt",
        "outputId": "220e2ebe-ecfb-4fbe-c533-e26cf992cd2a",
        "colab": {
          "base_uri": "https://localhost:8080/",
          "height": 35
        }
      },
      "source": [
        "a.lower()"
      ],
      "execution_count": 94,
      "outputs": [
        {
          "output_type": "execute_result",
          "data": {
            "text/plain": [
              "'my name is teddy'"
            ],
            "application/vnd.google.colaboratory.intrinsic+json": {
              "type": "string"
            }
          },
          "metadata": {},
          "execution_count": 94
        }
      ]
    },
    {
      "cell_type": "markdown",
      "metadata": {
        "id": "hcnGVW_ZefWm"
      },
      "source": [
        "대문자로 변경"
      ]
    },
    {
      "cell_type": "code",
      "metadata": {
        "id": "-WzdUBjE8Q45",
        "outputId": "48bcba0f-f1eb-48cb-be7d-2880d95cee59",
        "colab": {
          "base_uri": "https://localhost:8080/",
          "height": 35
        }
      },
      "source": [
        "a.upper()"
      ],
      "execution_count": 95,
      "outputs": [
        {
          "output_type": "execute_result",
          "data": {
            "text/plain": [
              "'MY NAME IS TEDDY'"
            ],
            "application/vnd.google.colaboratory.intrinsic+json": {
              "type": "string"
            }
          },
          "metadata": {},
          "execution_count": 95
        }
      ]
    },
    {
      "cell_type": "markdown",
      "metadata": {
        "id": "zgO8rcbUefWn"
      },
      "source": [
        "한글에는 대소문자 구분이 없습니다."
      ]
    },
    {
      "cell_type": "code",
      "metadata": {
        "id": "LCvVGpAs8V_e"
      },
      "source": [
        "a = '한글엔 대소문자가 없어요ㅠ'"
      ],
      "execution_count": 96,
      "outputs": []
    },
    {
      "cell_type": "code",
      "metadata": {
        "id": "Als5HOz28hM5",
        "outputId": "d38dc165-89f5-4cb5-db85-19eab380b13f",
        "colab": {
          "base_uri": "https://localhost:8080/",
          "height": 35
        }
      },
      "source": [
        "a.lower()"
      ],
      "execution_count": 97,
      "outputs": [
        {
          "output_type": "execute_result",
          "data": {
            "text/plain": [
              "'한글엔 대소문자가 없어요ㅠ'"
            ],
            "application/vnd.google.colaboratory.intrinsic+json": {
              "type": "string"
            }
          },
          "metadata": {},
          "execution_count": 97
        }
      ]
    },
    {
      "cell_type": "code",
      "metadata": {
        "id": "rjPBxrK08iFt",
        "outputId": "77f26ce3-e4aa-4dca-f82c-a64e70f26814",
        "colab": {
          "base_uri": "https://localhost:8080/",
          "height": 35
        }
      },
      "source": [
        "a.upper()"
      ],
      "execution_count": 98,
      "outputs": [
        {
          "output_type": "execute_result",
          "data": {
            "text/plain": [
              "'한글엔 대소문자가 없어요ㅠ'"
            ],
            "application/vnd.google.colaboratory.intrinsic+json": {
              "type": "string"
            }
          },
          "metadata": {},
          "execution_count": 98
        }
      ]
    },
    {
      "cell_type": "markdown",
      "metadata": {
        "id": "ZThLS-KL8rA8"
      },
      "source": [
        "## startswith, endswith\n",
        "\n",
        "시작과, 끝이 맞는지 결과를 bool로 반환합니다."
      ]
    },
    {
      "cell_type": "code",
      "metadata": {
        "id": "uuTemUdN0w2B"
      },
      "source": [
        "a = '01-sample.png'"
      ],
      "execution_count": 99,
      "outputs": []
    },
    {
      "cell_type": "markdown",
      "metadata": {
        "id": "EavY7Aun0kjs"
      },
      "source": [
        "### startswith() : 시작하는\n",
        "\n",
        "- 지정한 문자열로 시작하면 True, 그렇지 않다면 False를 반환합니다."
      ]
    },
    {
      "cell_type": "code",
      "metadata": {
        "id": "8pNYKEFi85Ie",
        "outputId": "e44c0b3d-2e9b-4720-dc47-f5fa0d923c23",
        "colab": {
          "base_uri": "https://localhost:8080/"
        }
      },
      "source": [
        "a.startswith('01')"
      ],
      "execution_count": 100,
      "outputs": [
        {
          "output_type": "execute_result",
          "data": {
            "text/plain": [
              "True"
            ]
          },
          "metadata": {},
          "execution_count": 100
        }
      ]
    },
    {
      "cell_type": "code",
      "metadata": {
        "id": "D858M3T00b3z",
        "outputId": "bc5a3933-8a17-4eae-bb69-e9627194ff4d",
        "colab": {
          "base_uri": "https://localhost:8080/"
        }
      },
      "source": [
        "a.startswith('02')"
      ],
      "execution_count": 101,
      "outputs": [
        {
          "output_type": "execute_result",
          "data": {
            "text/plain": [
              "False"
            ]
          },
          "metadata": {},
          "execution_count": 101
        }
      ]
    },
    {
      "cell_type": "markdown",
      "metadata": {
        "id": "oGXxMjlf0cyr"
      },
      "source": [
        "### endswith() : 끝나는\n",
        "\n",
        "- 지정한 문자열로 끝나면 True, 그렇지 않다면 False를 반환합니다."
      ]
    },
    {
      "cell_type": "code",
      "metadata": {
        "id": "VCpn1plG892e",
        "outputId": "bc091eea-7ae6-4451-e7a6-594421f2b163",
        "colab": {
          "base_uri": "https://localhost:8080/"
        }
      },
      "source": [
        "a.endswith('.png')"
      ],
      "execution_count": 102,
      "outputs": [
        {
          "output_type": "execute_result",
          "data": {
            "text/plain": [
              "True"
            ]
          },
          "metadata": {},
          "execution_count": 102
        }
      ]
    },
    {
      "cell_type": "code",
      "metadata": {
        "id": "1F4JLtPY9BZl",
        "outputId": "74ceaec9-f7e1-4ca9-ece0-6b1ceee373ca",
        "colab": {
          "base_uri": "https://localhost:8080/"
        }
      },
      "source": [
        "a.endswith('.jpg')"
      ],
      "execution_count": 103,
      "outputs": [
        {
          "output_type": "execute_result",
          "data": {
            "text/plain": [
              "False"
            ]
          },
          "metadata": {},
          "execution_count": 103
        }
      ]
    },
    {
      "cell_type": "markdown",
      "metadata": {
        "id": "BlmsgCrK9VVk"
      },
      "source": [
        "## replace() : 문자열 바꾸기\n",
        "\n",
        "- 문자열에 **replace(바꿀 대상, 바꾸려는 문자열)** 지정하여 문자열을 변경합니다.\n",
        "- 결과는 복사본이 만들어져 반환됩니다."
      ]
    },
    {
      "cell_type": "code",
      "metadata": {
        "id": "ANj2HqcK9Vb8"
      },
      "source": [
        "a = '01-sample.png'"
      ],
      "execution_count": 104,
      "outputs": []
    },
    {
      "cell_type": "code",
      "metadata": {
        "id": "EEjlaLiV9end",
        "outputId": "6da87ff0-c001-4278-d58a-6297ed558c03",
        "colab": {
          "base_uri": "https://localhost:8080/",
          "height": 35
        }
      },
      "source": [
        "a.replace('.png', '.jpg')"
      ],
      "execution_count": 105,
      "outputs": [
        {
          "output_type": "execute_result",
          "data": {
            "text/plain": [
              "'01-sample.jpg'"
            ],
            "application/vnd.google.colaboratory.intrinsic+json": {
              "type": "string"
            }
          },
          "metadata": {},
          "execution_count": 105
        }
      ]
    },
    {
      "cell_type": "markdown",
      "metadata": {
        "id": "96-PVLbgefWp"
      },
      "source": [
        "반환값은 복사본이며 원본에 **변경사항이 바로 적용되지 않습니다.**"
      ]
    },
    {
      "cell_type": "code",
      "metadata": {
        "id": "GWeRrKH59h6M",
        "outputId": "70a8f1be-54d2-43b8-f624-101725c28f1e",
        "colab": {
          "base_uri": "https://localhost:8080/",
          "height": 35
        }
      },
      "source": [
        "a"
      ],
      "execution_count": 106,
      "outputs": [
        {
          "output_type": "execute_result",
          "data": {
            "text/plain": [
              "'01-sample.png'"
            ],
            "application/vnd.google.colaboratory.intrinsic+json": {
              "type": "string"
            }
          },
          "metadata": {},
          "execution_count": 106
        }
      ]
    },
    {
      "cell_type": "code",
      "metadata": {
        "id": "ecF_C16h9jYs"
      },
      "source": [
        "new_a = a.replace('.png', '.jpg')"
      ],
      "execution_count": 107,
      "outputs": []
    },
    {
      "cell_type": "code",
      "metadata": {
        "id": "A3tvDKm39nW0",
        "outputId": "13ddd12a-3033-4f26-9b13-1d27fdfae859",
        "colab": {
          "base_uri": "https://localhost:8080/"
        }
      },
      "source": [
        "print(new_a)"
      ],
      "execution_count": 108,
      "outputs": [
        {
          "output_type": "stream",
          "name": "stdout",
          "text": [
            "01-sample.jpg\n"
          ]
        }
      ]
    },
    {
      "cell_type": "markdown",
      "metadata": {
        "id": "f2XosBBa97Uk"
      },
      "source": [
        "## 불필요한 공백 제거"
      ]
    },
    {
      "cell_type": "code",
      "metadata": {
        "id": "KsUFyKpj9-eL"
      },
      "source": [
        "a = '    01-sample.png                '"
      ],
      "execution_count": 109,
      "outputs": []
    },
    {
      "cell_type": "code",
      "metadata": {
        "id": "EX31a4RRz3mX",
        "outputId": "ab80052c-c555-40d0-bbf7-dc330d977916",
        "colab": {
          "base_uri": "https://localhost:8080/"
        }
      },
      "source": [
        "print(a)"
      ],
      "execution_count": 110,
      "outputs": [
        {
          "output_type": "stream",
          "name": "stdout",
          "text": [
            "    01-sample.png                \n"
          ]
        }
      ]
    },
    {
      "cell_type": "markdown",
      "metadata": {
        "id": "x2BIXr3a-IbK"
      },
      "source": [
        "**strip은 불필요한 공백을 제거**해 줍니다."
      ]
    },
    {
      "cell_type": "markdown",
      "metadata": {
        "id": "Zg3o3-6pzjxH"
      },
      "source": [
        "### lstrip() : 왼쪽 공백 제거"
      ]
    },
    {
      "cell_type": "code",
      "metadata": {
        "id": "9-tTlJmEzqAi",
        "outputId": "2d74c8f2-fdf6-4f25-e9f5-e161c1ead2b2",
        "colab": {
          "base_uri": "https://localhost:8080/",
          "height": 35
        }
      },
      "source": [
        "a.lstrip()"
      ],
      "execution_count": 111,
      "outputs": [
        {
          "output_type": "execute_result",
          "data": {
            "text/plain": [
              "'01-sample.png                '"
            ],
            "application/vnd.google.colaboratory.intrinsic+json": {
              "type": "string"
            }
          },
          "metadata": {},
          "execution_count": 111
        }
      ]
    },
    {
      "cell_type": "markdown",
      "metadata": {
        "id": "MLR04FyNz0ra"
      },
      "source": [
        "### rstrip() : 오른쪽 공백 제거"
      ]
    },
    {
      "cell_type": "code",
      "metadata": {
        "id": "6kYVeqJTz81g",
        "outputId": "061876ac-7235-4d01-96a6-fdd76eadec0d",
        "colab": {
          "base_uri": "https://localhost:8080/",
          "height": 35
        }
      },
      "source": [
        "a.rstrip()"
      ],
      "execution_count": 112,
      "outputs": [
        {
          "output_type": "execute_result",
          "data": {
            "text/plain": [
              "'    01-sample.png'"
            ],
            "application/vnd.google.colaboratory.intrinsic+json": {
              "type": "string"
            }
          },
          "metadata": {},
          "execution_count": 112
        }
      ]
    },
    {
      "cell_type": "markdown",
      "metadata": {
        "id": "TkvP_X0Ez-GA"
      },
      "source": [
        "### strip() : 양쪽 공백 제거"
      ]
    },
    {
      "cell_type": "code",
      "metadata": {
        "id": "YiShmptM-G_b",
        "outputId": "a1eedf2d-e57b-4ee7-b558-5ae1079f1ff2",
        "colab": {
          "base_uri": "https://localhost:8080/",
          "height": 35
        }
      },
      "source": [
        "a.strip()"
      ],
      "execution_count": 113,
      "outputs": [
        {
          "output_type": "execute_result",
          "data": {
            "text/plain": [
              "'01-sample.png'"
            ],
            "application/vnd.google.colaboratory.intrinsic+json": {
              "type": "string"
            }
          },
          "metadata": {},
          "execution_count": 113
        }
      ]
    },
    {
      "cell_type": "code",
      "metadata": {
        "id": "-HVB1VA1xZMs"
      },
      "source": [],
      "execution_count": null,
      "outputs": []
    }
  ]
}