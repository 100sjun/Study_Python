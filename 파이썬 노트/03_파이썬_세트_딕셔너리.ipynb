{
  "nbformat": 4,
  "nbformat_minor": 0,
  "metadata": {
    "colab": {
      "provenance": [],
      "include_colab_link": true
    },
    "kernelspec": {
      "display_name": "Python 3",
      "language": "python",
      "name": "python3"
    },
    "language_info": {
      "codemirror_mode": {
        "name": "ipython",
        "version": 3
      },
      "file_extension": ".py",
      "mimetype": "text/x-python",
      "name": "python",
      "nbconvert_exporter": "python",
      "pygments_lexer": "ipython3",
      "version": "3.6.9"
    }
  },
  "cells": [
    {
      "cell_type": "markdown",
      "metadata": {
        "id": "view-in-github",
        "colab_type": "text"
      },
      "source": [
        "<a href=\"https://colab.research.google.com/github/100sjun/Study_Python/blob/main/%ED%8C%8C%EC%9D%B4%EC%8D%AC%20%EB%85%B8%ED%8A%B8/03_%ED%8C%8C%EC%9D%B4%EC%8D%AC_%EC%84%B8%ED%8A%B8_%EB%94%95%EC%85%94%EB%84%88%EB%A6%AC.ipynb\" target=\"_parent\"><img src=\"https://colab.research.google.com/assets/colab-badge.svg\" alt=\"Open In Colab\"/></a>"
      ]
    },
    {
      "cell_type": "markdown",
      "metadata": {
        "id": "KgAFjs7iUREl"
      },
      "source": [
        "# 시퀀스, 집합형 자료구조"
      ]
    },
    {
      "cell_type": "markdown",
      "metadata": {
        "id": "tD5MUfkXfHjz"
      },
      "source": [
        "| 분류             | 타입                 | 특징                                   | 예시                     |\n",
        "| ---------------- | -------------------- | -------------------------------------- | ------------------------ |\n",
        "| 시퀀스(sequence) | 리스트(list)         | 순서가 있고, 가변(mutable)             | [1, 2, 3]                |\n",
        "| 시퀀스(sequence) | 튜플(tuple)          | 순서가 있고, 불변(immutable)           | (1, 2, 3)                |\n",
        "| 세트(set)        | 세트(set)            | 순서가 없고, 중복을 허용하지 않음      | {1, 2, 3}                |\n",
        "| 맵(map)          | 딕셔너리(dictionary) | 순서가 없고, key/value 쌍으로 이루어짐 | {'a': 1, 'b': 2, 'c': 3} |"
      ]
    },
    {
      "cell_type": "markdown",
      "metadata": {
        "id": "vCdKOsCpZNBi"
      },
      "source": [
        "## 세트(set)\n",
        "\n",
        "- 세트는 순서가 보장 되지 않습니다.\n",
        "- 세트는 요소의 **중복을 허용하지 않습니다.**\n",
        "- 세트는 **{}**를 활용하여 생성할 수 있습니다."
      ]
    },
    {
      "cell_type": "markdown",
      "metadata": {
        "id": "AahZw6tVGaBa"
      },
      "source": [
        "### 생성"
      ]
    },
    {
      "cell_type": "code",
      "metadata": {
        "id": "jIWM7VJjZMuH",
        "outputId": "e6d3f300-0c2a-4006-b3a9-e4db17d3045a",
        "colab": {
          "base_uri": "https://localhost:8080/"
        }
      },
      "source": [
        "myset = set()\n",
        "myset"
      ],
      "execution_count": 1,
      "outputs": [
        {
          "output_type": "execute_result",
          "data": {
            "text/plain": [
              "set()"
            ]
          },
          "metadata": {},
          "execution_count": 1
        }
      ]
    },
    {
      "cell_type": "code",
      "metadata": {
        "id": "ANJhYZ-bHTjx",
        "outputId": "b20bcf48-d09d-40aa-d315-8b667fc285e1",
        "colab": {
          "base_uri": "https://localhost:8080/"
        }
      },
      "source": [
        "myset = set([1, 1, 1, 2, 2, 2, 3, 3, 3])\n",
        "myset"
      ],
      "execution_count": 2,
      "outputs": [
        {
          "output_type": "execute_result",
          "data": {
            "text/plain": [
              "{1, 2, 3}"
            ]
          },
          "metadata": {},
          "execution_count": 2
        }
      ]
    },
    {
      "cell_type": "code",
      "metadata": {
        "id": "ryu7ce2zHYZj",
        "outputId": "7169df5c-0349-4b74-a9ed-ab2b2b4d69c8",
        "colab": {
          "base_uri": "https://localhost:8080/"
        }
      },
      "source": [
        "myset = set((1, 1, 1, 2, 3, 3, 4, 5, 5, 5))\n",
        "myset"
      ],
      "execution_count": 3,
      "outputs": [
        {
          "output_type": "execute_result",
          "data": {
            "text/plain": [
              "{1, 2, 3, 4, 5}"
            ]
          },
          "metadata": {},
          "execution_count": 3
        }
      ]
    },
    {
      "cell_type": "code",
      "metadata": {
        "id": "FZq6RNxBfHj2",
        "outputId": "f15c0a6b-2dde-4354-c3ef-224b19e58928",
        "colab": {
          "base_uri": "https://localhost:8080/"
        }
      },
      "source": [
        "myset = {1, 1, 1, 2, 2, 2, 3, 3, 3}\n",
        "myset"
      ],
      "execution_count": 4,
      "outputs": [
        {
          "output_type": "execute_result",
          "data": {
            "text/plain": [
              "{1, 2, 3}"
            ]
          },
          "metadata": {},
          "execution_count": 4
        }
      ]
    },
    {
      "cell_type": "markdown",
      "metadata": {
        "id": "N5_9VPePHgq-"
      },
      "source": [
        "### add() : 값 추가\n",
        "\n",
        "- set에 요소를 추가합니다."
      ]
    },
    {
      "cell_type": "markdown",
      "metadata": {
        "id": "KxtbPpKqfHj3"
      },
      "source": [
        "빈 set를 생성합니다."
      ]
    },
    {
      "cell_type": "code",
      "metadata": {
        "id": "ueu2JUWsHovW"
      },
      "source": [
        "myset = set()"
      ],
      "execution_count": 5,
      "outputs": []
    },
    {
      "cell_type": "markdown",
      "metadata": {
        "id": "rRFwrN3zfHj3"
      },
      "source": [
        "add() 로 요소를 추가합니다."
      ]
    },
    {
      "cell_type": "code",
      "metadata": {
        "id": "9hiHrECzZUQH"
      },
      "source": [
        "myset.add(1)\n",
        "myset.add(2)\n",
        "myset.add(3)\n",
        "\n",
        "myset.add(1)\n",
        "myset.add(2)\n",
        "myset.add(3)\n",
        "\n",
        "myset.add(1)\n",
        "myset.add(2)\n",
        "myset.add(3)"
      ],
      "execution_count": 6,
      "outputs": []
    },
    {
      "cell_type": "markdown",
      "metadata": {
        "id": "K6ObtlExfHj4"
      },
      "source": [
        "요소를 중복하여 추가하였지만, 중복을 허용하지 않는 set의 특성상 {1, 2, 3} 으로 **중복이 제거된 요소만 출력**됩니다."
      ]
    },
    {
      "cell_type": "code",
      "metadata": {
        "id": "QNQ7synrZUIf",
        "outputId": "0788c9ed-2947-4bde-90bd-8d4afc501ec5",
        "colab": {
          "base_uri": "https://localhost:8080/"
        }
      },
      "source": [
        "myset"
      ],
      "execution_count": 7,
      "outputs": [
        {
          "output_type": "execute_result",
          "data": {
            "text/plain": [
              "{1, 2, 3}"
            ]
          },
          "metadata": {},
          "execution_count": 7
        }
      ]
    },
    {
      "cell_type": "markdown",
      "metadata": {
        "id": "LTrMWdxJHrF8"
      },
      "source": [
        "### update() : 여러개 값 추가\n",
        "\n",
        "- 여러개의 값을 한꺼번에 추가하고자 할 때는 update() 메서드를 사용합니다."
      ]
    },
    {
      "cell_type": "code",
      "metadata": {
        "id": "8h1acAmYfHj5"
      },
      "source": [
        "myset = {1, 2, 3}"
      ],
      "execution_count": 8,
      "outputs": []
    },
    {
      "cell_type": "markdown",
      "metadata": {
        "id": "ly4q5wIMfHj5"
      },
      "source": [
        "list의 요소들을 **한꺼번에 update**"
      ]
    },
    {
      "cell_type": "code",
      "metadata": {
        "id": "dRioIyqSHwwA",
        "outputId": "36c96aac-7544-4b35-f978-1f025ce16f85",
        "colab": {
          "base_uri": "https://localhost:8080/"
        }
      },
      "source": [
        "myset.update([4, 5, 6])\n",
        "myset"
      ],
      "execution_count": 9,
      "outputs": [
        {
          "output_type": "execute_result",
          "data": {
            "text/plain": [
              "{1, 2, 3, 4, 5, 6}"
            ]
          },
          "metadata": {},
          "execution_count": 9
        }
      ]
    },
    {
      "cell_type": "markdown",
      "metadata": {
        "id": "gCULkhkIfHj6"
      },
      "source": [
        "tuple의 요소들을 **한꺼번에 update**"
      ]
    },
    {
      "cell_type": "code",
      "metadata": {
        "id": "s1FiTqAJfHj6",
        "outputId": "bb8eecfe-6116-4f7c-ea72-12d1fa232af8",
        "colab": {
          "base_uri": "https://localhost:8080/"
        }
      },
      "source": [
        "myset.update((7, 8, 9))\n",
        "myset"
      ],
      "execution_count": 10,
      "outputs": [
        {
          "output_type": "execute_result",
          "data": {
            "text/plain": [
              "{1, 2, 3, 4, 5, 6, 7, 8, 9}"
            ]
          },
          "metadata": {},
          "execution_count": 10
        }
      ]
    },
    {
      "cell_type": "markdown",
      "metadata": {
        "id": "SUmO-FdxfHj6"
      },
      "source": [
        "set의 요소들을 **한꺼번에 update**"
      ]
    },
    {
      "cell_type": "code",
      "metadata": {
        "id": "ZbCKpXAlfHj6",
        "outputId": "b32f9849-4d29-4a7e-eebf-a50d40f51188",
        "colab": {
          "base_uri": "https://localhost:8080/"
        }
      },
      "source": [
        "myset.update({10, 11, 12})\n",
        "myset"
      ],
      "execution_count": 11,
      "outputs": [
        {
          "output_type": "execute_result",
          "data": {
            "text/plain": [
              "{1, 2, 3, 4, 5, 6, 7, 8, 9, 10, 11, 12}"
            ]
          },
          "metadata": {},
          "execution_count": 11
        }
      ]
    },
    {
      "cell_type": "markdown",
      "metadata": {
        "id": "XMa9hfRvH4zs"
      },
      "source": [
        "### remove() : 값 제거\n",
        "\n",
        "- 단일 요소를 제거합니다."
      ]
    },
    {
      "cell_type": "code",
      "metadata": {
        "id": "ya6F_1KrH7fp"
      },
      "source": [
        "myset = {1, 2, 3, 4, 5}"
      ],
      "execution_count": 12,
      "outputs": []
    },
    {
      "cell_type": "code",
      "metadata": {
        "id": "QDfJLU5JH576",
        "outputId": "c29fbb51-8d16-4b02-f28c-777c9e6321a1",
        "colab": {
          "base_uri": "https://localhost:8080/"
        }
      },
      "source": [
        "myset.remove(2)\n",
        "myset"
      ],
      "execution_count": 13,
      "outputs": [
        {
          "output_type": "execute_result",
          "data": {
            "text/plain": [
              "{1, 3, 4, 5}"
            ]
          },
          "metadata": {},
          "execution_count": 13
        }
      ]
    },
    {
      "cell_type": "markdown",
      "metadata": {
        "id": "47KBBNyWICQ-"
      },
      "source": [
        "### 교집합 (intersection)\n",
        "\n",
        "- 교집합은 집합 A와 B가 주어졌을 때 **공통된 요소**를 말합니다.\n",
        "- `&` 기호나 `intersection()` 메서드를 활용하여 교집합을 구할 수 있습니다."
      ]
    },
    {
      "cell_type": "code",
      "metadata": {
        "id": "jBA3M2H6IFZF"
      },
      "source": [
        "a = {1, 2, 3, 4, 5}\n",
        "b = {3, 4, 5, 6, 7}"
      ],
      "execution_count": 14,
      "outputs": []
    },
    {
      "cell_type": "code",
      "metadata": {
        "id": "X5a3JY70IJoU",
        "outputId": "07bb2fc6-1c20-4424-d540-48b1ca0d4a73",
        "colab": {
          "base_uri": "https://localhost:8080/"
        }
      },
      "source": [
        "a & b"
      ],
      "execution_count": 15,
      "outputs": [
        {
          "output_type": "execute_result",
          "data": {
            "text/plain": [
              "{3, 4, 5}"
            ]
          },
          "metadata": {},
          "execution_count": 15
        }
      ]
    },
    {
      "cell_type": "code",
      "metadata": {
        "id": "41PhL6uJILIc",
        "outputId": "f7065cf7-138d-4d73-c95c-f1540e5a7d74",
        "colab": {
          "base_uri": "https://localhost:8080/"
        }
      },
      "source": [
        "a.intersection(b)"
      ],
      "execution_count": 16,
      "outputs": [
        {
          "output_type": "execute_result",
          "data": {
            "text/plain": [
              "{3, 4, 5}"
            ]
          },
          "metadata": {},
          "execution_count": 16
        }
      ]
    },
    {
      "cell_type": "markdown",
      "metadata": {
        "id": "NyG_7NRtINeL"
      },
      "source": [
        "### 합집합 (union)\n",
        "\n",
        "- 합집합은 집합 A와 B가 주어졌을 때 집합 A, B 요소 모두를 포함하는 것을 말합니다.\n",
        "- `|`기호나 `union()` 메서드를 활용하여 합집합을 구할 수 있습니다. "
      ]
    },
    {
      "cell_type": "code",
      "metadata": {
        "id": "H_aTMCt5IP80"
      },
      "source": [
        "a = {1, 2, 3, 4, 5}\n",
        "b = {3, 4, 5, 6, 7}"
      ],
      "execution_count": 17,
      "outputs": []
    },
    {
      "cell_type": "code",
      "metadata": {
        "id": "FBDVTV0dIRPa",
        "outputId": "7c431101-a3af-426c-bff9-168443f90184",
        "colab": {
          "base_uri": "https://localhost:8080/"
        }
      },
      "source": [
        "a | b"
      ],
      "execution_count": 18,
      "outputs": [
        {
          "output_type": "execute_result",
          "data": {
            "text/plain": [
              "{1, 2, 3, 4, 5, 6, 7}"
            ]
          },
          "metadata": {},
          "execution_count": 18
        }
      ]
    },
    {
      "cell_type": "code",
      "metadata": {
        "id": "0QY-vz1aISCo",
        "outputId": "aa06b92b-8fba-44c7-9b37-8f688331b700",
        "colab": {
          "base_uri": "https://localhost:8080/"
        }
      },
      "source": [
        "a.union(b)"
      ],
      "execution_count": 19,
      "outputs": [
        {
          "output_type": "execute_result",
          "data": {
            "text/plain": [
              "{1, 2, 3, 4, 5, 6, 7}"
            ]
          },
          "metadata": {},
          "execution_count": 19
        }
      ]
    },
    {
      "cell_type": "markdown",
      "metadata": {
        "id": "yRCAvdyUITN8"
      },
      "source": [
        "### 차집합 (difference)\n",
        "\n",
        "- 두 집합에서, 하나의 집합에 포함되고 다른 집합에는 포함되지 않는 모든 원소의 집합.\n",
        "- `-`연산자를 활용하거나 `difference()` 메서드를 활용하여 구할 수 있습니다."
      ]
    },
    {
      "cell_type": "code",
      "metadata": {
        "id": "VPFeTf2uIZ4M"
      },
      "source": [
        "a = {1, 2, 3, 4, 5}\n",
        "b = {3, 4, 5, 6, 7}"
      ],
      "execution_count": 20,
      "outputs": []
    },
    {
      "cell_type": "markdown",
      "metadata": {
        "id": "YO2wQMsDfHj9"
      },
      "source": [
        "a 집합에서 b 집합을 뺀 차집합"
      ]
    },
    {
      "cell_type": "code",
      "metadata": {
        "id": "TmmXfjyQIV1v",
        "outputId": "d789606a-c00c-4497-c1f3-60e573179760",
        "colab": {
          "base_uri": "https://localhost:8080/"
        }
      },
      "source": [
        "a - b"
      ],
      "execution_count": 21,
      "outputs": [
        {
          "output_type": "execute_result",
          "data": {
            "text/plain": [
              "{1, 2}"
            ]
          },
          "metadata": {},
          "execution_count": 21
        }
      ]
    },
    {
      "cell_type": "code",
      "metadata": {
        "id": "0cAclQ7ffHj-",
        "outputId": "3b1a30de-32dc-4f40-ad0f-069f43387e92",
        "colab": {
          "base_uri": "https://localhost:8080/"
        }
      },
      "source": [
        "a.difference(b)"
      ],
      "execution_count": 22,
      "outputs": [
        {
          "output_type": "execute_result",
          "data": {
            "text/plain": [
              "{1, 2}"
            ]
          },
          "metadata": {},
          "execution_count": 22
        }
      ]
    },
    {
      "cell_type": "markdown",
      "metadata": {
        "id": "u627p4LnfHj-"
      },
      "source": [
        "b 집합에서 a 집합을 뺀 차집합"
      ]
    },
    {
      "cell_type": "code",
      "metadata": {
        "id": "ZBt4ecBMIXTF",
        "outputId": "f9d72112-d4b1-41db-c414-2c12e37ae3d7",
        "colab": {
          "base_uri": "https://localhost:8080/"
        }
      },
      "source": [
        "b - a"
      ],
      "execution_count": 23,
      "outputs": [
        {
          "output_type": "execute_result",
          "data": {
            "text/plain": [
              "{6, 7}"
            ]
          },
          "metadata": {},
          "execution_count": 23
        }
      ]
    },
    {
      "cell_type": "code",
      "metadata": {
        "id": "bDto9wNEIY6l",
        "outputId": "b02dc329-02c1-4ae1-c346-8da8d8f9cd06",
        "colab": {
          "base_uri": "https://localhost:8080/"
        }
      },
      "source": [
        "b.difference(a)"
      ],
      "execution_count": 24,
      "outputs": [
        {
          "output_type": "execute_result",
          "data": {
            "text/plain": [
              "{6, 7}"
            ]
          },
          "metadata": {},
          "execution_count": 24
        }
      ]
    },
    {
      "cell_type": "markdown",
      "metadata": {
        "id": "uZbztgcbJKtH"
      },
      "source": [
        "### 집합의 타입 변환"
      ]
    },
    {
      "cell_type": "markdown",
      "metadata": {
        "id": "3O-164mSI3Di"
      },
      "source": [
        "### set를 list로 변환"
      ]
    },
    {
      "cell_type": "code",
      "metadata": {
        "id": "sbP80B8zI5Md"
      },
      "source": [
        "a = {1, 2, 3, 4, 5}"
      ],
      "execution_count": 25,
      "outputs": []
    },
    {
      "cell_type": "code",
      "metadata": {
        "id": "Tb8NZ8A2I6ve",
        "outputId": "115e9209-f559-4f5f-dd5e-2fa0d120e6ea",
        "colab": {
          "base_uri": "https://localhost:8080/"
        }
      },
      "source": [
        "type(a)"
      ],
      "execution_count": 26,
      "outputs": [
        {
          "output_type": "execute_result",
          "data": {
            "text/plain": [
              "set"
            ]
          },
          "metadata": {},
          "execution_count": 26
        }
      ]
    },
    {
      "cell_type": "code",
      "metadata": {
        "id": "U3Kkfo2BI7dp"
      },
      "source": [
        "b = list(a)"
      ],
      "execution_count": 27,
      "outputs": []
    },
    {
      "cell_type": "code",
      "metadata": {
        "id": "vwab1DqgI8wc",
        "outputId": "030c6597-2991-4c1d-db91-995689180f69",
        "colab": {
          "base_uri": "https://localhost:8080/"
        }
      },
      "source": [
        "b"
      ],
      "execution_count": 28,
      "outputs": [
        {
          "output_type": "execute_result",
          "data": {
            "text/plain": [
              "[1, 2, 3, 4, 5]"
            ]
          },
          "metadata": {},
          "execution_count": 28
        }
      ]
    },
    {
      "cell_type": "code",
      "metadata": {
        "id": "7TBYxXk4I9k2",
        "outputId": "1c9a23e1-358b-4b8e-ce39-792754bdd58b",
        "colab": {
          "base_uri": "https://localhost:8080/"
        }
      },
      "source": [
        "type(b)"
      ],
      "execution_count": 29,
      "outputs": [
        {
          "output_type": "execute_result",
          "data": {
            "text/plain": [
              "list"
            ]
          },
          "metadata": {},
          "execution_count": 29
        }
      ]
    },
    {
      "cell_type": "markdown",
      "metadata": {
        "id": "7uhFVFrcI-A0"
      },
      "source": [
        "### list를 set로 변환\n",
        "\n",
        "- 중복을 제거할 때 많이 활용합니다."
      ]
    },
    {
      "cell_type": "code",
      "metadata": {
        "id": "8OD92-JeJBRn"
      },
      "source": [
        "a = [1, 1, 1, 2, 2, 2, 3, 3, 3]"
      ],
      "execution_count": 30,
      "outputs": []
    },
    {
      "cell_type": "code",
      "metadata": {
        "id": "RwKir-0uJDvY",
        "outputId": "7a66de1a-089f-45e1-967c-ab1a463ec0c9",
        "colab": {
          "base_uri": "https://localhost:8080/"
        }
      },
      "source": [
        "a"
      ],
      "execution_count": 31,
      "outputs": [
        {
          "output_type": "execute_result",
          "data": {
            "text/plain": [
              "[1, 1, 1, 2, 2, 2, 3, 3, 3]"
            ]
          },
          "metadata": {},
          "execution_count": 31
        }
      ]
    },
    {
      "cell_type": "code",
      "metadata": {
        "id": "QLGx1LZUJEFF",
        "outputId": "dfa3182b-0eff-41ee-f612-8def865ed5e3",
        "colab": {
          "base_uri": "https://localhost:8080/"
        }
      },
      "source": [
        "type(a)"
      ],
      "execution_count": 32,
      "outputs": [
        {
          "output_type": "execute_result",
          "data": {
            "text/plain": [
              "list"
            ]
          },
          "metadata": {},
          "execution_count": 32
        }
      ]
    },
    {
      "cell_type": "code",
      "metadata": {
        "id": "v-Z_v4AKJE07"
      },
      "source": [
        "b = set(a)"
      ],
      "execution_count": 33,
      "outputs": []
    },
    {
      "cell_type": "code",
      "metadata": {
        "id": "BHTOs9esJFs5",
        "outputId": "e99d3033-2fc6-43b6-db01-3ba6c46f7196",
        "colab": {
          "base_uri": "https://localhost:8080/"
        }
      },
      "source": [
        "b"
      ],
      "execution_count": 34,
      "outputs": [
        {
          "output_type": "execute_result",
          "data": {
            "text/plain": [
              "{1, 2, 3}"
            ]
          },
          "metadata": {},
          "execution_count": 34
        }
      ]
    },
    {
      "cell_type": "code",
      "metadata": {
        "id": "BaXk-SDEJHIL",
        "outputId": "b938bc2c-5f0a-4c07-a343-520d944a438c",
        "colab": {
          "base_uri": "https://localhost:8080/"
        }
      },
      "source": [
        "type(b)"
      ],
      "execution_count": 35,
      "outputs": [
        {
          "output_type": "execute_result",
          "data": {
            "text/plain": [
              "set"
            ]
          },
          "metadata": {},
          "execution_count": 35
        }
      ]
    },
    {
      "cell_type": "markdown",
      "metadata": {
        "id": "5WSZn4cffHkC"
      },
      "source": [
        "b를 다시 list 자료형으로 변환"
      ]
    },
    {
      "cell_type": "code",
      "metadata": {
        "id": "WFYXMU1FfHkC",
        "outputId": "58425cf9-48c7-4f74-98dc-f60c2557b5b2",
        "colab": {
          "base_uri": "https://localhost:8080/"
        }
      },
      "source": [
        "b = list(b)\n",
        "b"
      ],
      "execution_count": 36,
      "outputs": [
        {
          "output_type": "execute_result",
          "data": {
            "text/plain": [
              "[1, 2, 3]"
            ]
          },
          "metadata": {},
          "execution_count": 36
        }
      ]
    },
    {
      "cell_type": "markdown",
      "metadata": {
        "id": "Pp9mxa8PfHkC"
      },
      "source": [
        "### 연습문제 1"
      ]
    },
    {
      "cell_type": "code",
      "metadata": {
        "id": "SZp-Wzw2fHkD",
        "outputId": "4c1e0e73-3ea9-45c8-d8eb-9565be91c371",
        "colab": {
          "base_uri": "https://localhost:8080/"
        }
      },
      "source": [
        "sample1 = {1, 2, 3, 4, 5}\n",
        "sample2 = {2, 4, 5, 6, 7}\n",
        "\n",
        "print(f'sample1: {sample1}')\n",
        "print(f'sample2: {sample2}')"
      ],
      "execution_count": 37,
      "outputs": [
        {
          "output_type": "stream",
          "name": "stdout",
          "text": [
            "sample1: {1, 2, 3, 4, 5}\n",
            "sample2: {2, 4, 5, 6, 7}\n"
          ]
        }
      ]
    },
    {
      "cell_type": "markdown",
      "metadata": {
        "id": "qqKOpZzefHkD"
      },
      "source": [
        "`sample1` 에 6를 추가합니다."
      ]
    },
    {
      "cell_type": "code",
      "metadata": {
        "id": "3I_SEqQcfHkD",
        "outputId": "8dc121d0-1136-4fa4-f3ee-ce56af5da9e3",
        "colab": {
          "base_uri": "https://localhost:8080/"
        }
      },
      "source": [
        "# 코드를 입력해 주세요\n",
        "sample1.add(6)\n",
        "sample1"
      ],
      "execution_count": 38,
      "outputs": [
        {
          "output_type": "execute_result",
          "data": {
            "text/plain": [
              "{1, 2, 3, 4, 5, 6}"
            ]
          },
          "metadata": {},
          "execution_count": 38
        }
      ]
    },
    {
      "cell_type": "markdown",
      "metadata": {
        "id": "bFSpaVHifHkD"
      },
      "source": [
        "<p><strong>[출력 결과]</strong></p><pre>{1, 2, 3, 4, 5, 6}</pre>"
      ]
    },
    {
      "cell_type": "markdown",
      "metadata": {
        "id": "wLThMK_kfHkE"
      },
      "source": [
        "`sample2`에 2를 제거합니다."
      ]
    },
    {
      "cell_type": "code",
      "metadata": {
        "id": "rtQrVlbKfHkE",
        "outputId": "827d1b02-5cad-4062-e0ee-6bf3b645d010",
        "colab": {
          "base_uri": "https://localhost:8080/"
        }
      },
      "source": [
        "# 코드를 입력해 주세요\n",
        "sample2.remove(2)\n",
        "sample2"
      ],
      "execution_count": 39,
      "outputs": [
        {
          "output_type": "execute_result",
          "data": {
            "text/plain": [
              "{4, 5, 6, 7}"
            ]
          },
          "metadata": {},
          "execution_count": 39
        }
      ]
    },
    {
      "cell_type": "markdown",
      "metadata": {
        "id": "Wv3VEdADfHkE"
      },
      "source": [
        "<p><strong>[출력 결과]</strong></p><pre>{4, 5, 6, 7}</pre>"
      ]
    },
    {
      "cell_type": "markdown",
      "metadata": {
        "id": "9l-EIh0FfHkE"
      },
      "source": [
        "`sample1`과 `sample2`의 **교집합**을 출력합니다."
      ]
    },
    {
      "cell_type": "code",
      "metadata": {
        "id": "TbBwjFkdfHkE",
        "outputId": "9d81c06b-bca1-4bbd-c3e6-97107595a160",
        "colab": {
          "base_uri": "https://localhost:8080/"
        }
      },
      "source": [
        "# 코드를 입력해 주세요\n",
        "sample1 & sample2"
      ],
      "execution_count": 40,
      "outputs": [
        {
          "output_type": "execute_result",
          "data": {
            "text/plain": [
              "{4, 5, 6}"
            ]
          },
          "metadata": {},
          "execution_count": 40
        }
      ]
    },
    {
      "cell_type": "markdown",
      "metadata": {
        "id": "h_t_ozKLfHkF"
      },
      "source": [
        "<p><strong>[출력 결과]</strong></p><pre>{4, 5, 6}</pre>"
      ]
    },
    {
      "cell_type": "markdown",
      "metadata": {
        "id": "7WewctyofHkF"
      },
      "source": [
        "`sample1`과 `sample2`의 **합집합**을 출력합니다."
      ]
    },
    {
      "cell_type": "code",
      "metadata": {
        "id": "50sBa_uefHkF",
        "outputId": "f235c1c5-620e-4184-dec0-337e7d380c14",
        "colab": {
          "base_uri": "https://localhost:8080/"
        }
      },
      "source": [
        "# 코드를 입력해 주세요\n",
        "sample1 | sample2"
      ],
      "execution_count": 41,
      "outputs": [
        {
          "output_type": "execute_result",
          "data": {
            "text/plain": [
              "{1, 2, 3, 4, 5, 6, 7}"
            ]
          },
          "metadata": {},
          "execution_count": 41
        }
      ]
    },
    {
      "cell_type": "markdown",
      "metadata": {
        "id": "tjQdo5lwfHkF"
      },
      "source": [
        "<p><strong>[출력 결과]</strong></p><pre>{1, 2, 3, 4, 5, 6, 7}</pre>"
      ]
    },
    {
      "cell_type": "markdown",
      "metadata": {
        "id": "-yZAS5SKfHkF"
      },
      "source": [
        "`sample1`과 `sample2`의 **차집합**을 활용하여 다음과 같이 출력합니다."
      ]
    },
    {
      "cell_type": "code",
      "metadata": {
        "id": "bFJgIHXLfHkG",
        "outputId": "b767a0e8-1c66-43f2-e894-6e4e0e70fe1f",
        "colab": {
          "base_uri": "https://localhost:8080/"
        }
      },
      "source": [
        "# 코드를 입력해 주세요\n",
        "sample1 - sample2"
      ],
      "execution_count": 42,
      "outputs": [
        {
          "output_type": "execute_result",
          "data": {
            "text/plain": [
              "{1, 2, 3}"
            ]
          },
          "metadata": {},
          "execution_count": 42
        }
      ]
    },
    {
      "cell_type": "markdown",
      "metadata": {
        "id": "KX9J-qMCfHkG"
      },
      "source": [
        "<p><strong>[출력 결과]</strong></p><pre>{1, 2, 3}</pre>"
      ]
    },
    {
      "cell_type": "markdown",
      "metadata": {
        "id": "24pLdsBX3PXx"
      },
      "source": [
        "### 연습문제 2\n",
        "\n",
        "- 다음 리스트에서 중복된 항목을 제거하세요\n",
        "- 최종 출력 값은 list 형태로 출력하세요"
      ]
    },
    {
      "cell_type": "code",
      "metadata": {
        "id": "6ouc2JmXfHkG"
      },
      "source": [
        "numList = [1, 3, 2, 3, 7, 6, 8, 4, 10, 5, 3, 8, 9]"
      ],
      "execution_count": 44,
      "outputs": []
    },
    {
      "cell_type": "code",
      "metadata": {
        "id": "lLEILpf03PXx",
        "outputId": "d549f3d5-dc0e-4046-cb79-b4ed72528fe2",
        "colab": {
          "base_uri": "https://localhost:8080/"
        }
      },
      "source": [
        "# 코드를 입력해 주세요\n",
        "numList = set(numList)\n",
        "numList = list(numList)\n",
        "numList"
      ],
      "execution_count": 45,
      "outputs": [
        {
          "output_type": "execute_result",
          "data": {
            "text/plain": [
              "[1, 2, 3, 4, 5, 6, 7, 8, 9, 10]"
            ]
          },
          "metadata": {},
          "execution_count": 45
        }
      ]
    },
    {
      "cell_type": "markdown",
      "metadata": {
        "id": "PCXKsaAUfHkH"
      },
      "source": [
        "<p><strong>[출력 결과]</strong></p><pre>[1, 2, 3, 4, 5, 6, 7, 8, 9, 10]</pre>"
      ]
    },
    {
      "cell_type": "markdown",
      "metadata": {
        "id": "57vgLEysYLus"
      },
      "source": [
        "## 딕셔너리(dictionary)\n",
        "\n",
        "- 순서를 가지지 않습니다.\n",
        "- 키(key)와 값(value)의 쌍으로 이루어져 있습니다.\n",
        "- type은 `dict`로 표시 됩니다.\n",
        "- key를 사용하여 값을 조회할 수 있습니다.\n",
        "- 딕셔너리는 **수정, 삭제, 추가가 가능**합니다."
      ]
    },
    {
      "cell_type": "markdown",
      "metadata": {
        "id": "Y1nD5M8IYUh2"
      },
      "source": [
        "### 생성"
      ]
    },
    {
      "cell_type": "code",
      "metadata": {
        "id": "R3WbGCJSa-n_",
        "outputId": "f13b9a95-4781-4ee3-af41-bc979e9a3e9c",
        "colab": {
          "base_uri": "https://localhost:8080/"
        }
      },
      "source": [
        "mydict = dict()\n",
        "print(type(mydict))\n",
        "mydict"
      ],
      "execution_count": 46,
      "outputs": [
        {
          "output_type": "stream",
          "name": "stdout",
          "text": [
            "<class 'dict'>\n"
          ]
        },
        {
          "output_type": "execute_result",
          "data": {
            "text/plain": [
              "{}"
            ]
          },
          "metadata": {},
          "execution_count": 46
        }
      ]
    },
    {
      "cell_type": "code",
      "metadata": {
        "id": "YK0UF9oIEogm",
        "outputId": "22f5c99c-484e-456c-9d58-33c5cc843c28",
        "colab": {
          "base_uri": "https://localhost:8080/"
        }
      },
      "source": [
        "mydict = {'a': 1, 'b': 2, 'c': 3}\n",
        "print(type(mydict))\n",
        "mydict"
      ],
      "execution_count": 47,
      "outputs": [
        {
          "output_type": "stream",
          "name": "stdout",
          "text": [
            "<class 'dict'>\n"
          ]
        },
        {
          "output_type": "execute_result",
          "data": {
            "text/plain": [
              "{'a': 1, 'b': 2, 'c': 3}"
            ]
          },
          "metadata": {},
          "execution_count": 47
        }
      ]
    },
    {
      "cell_type": "markdown",
      "metadata": {
        "id": "SXg13XEzfHkI"
      },
      "source": [
        "딕셔너리는 여러 타입의 key를 가질 수 있습니다."
      ]
    },
    {
      "cell_type": "code",
      "metadata": {
        "id": "pLnzvZ5gfHkI",
        "outputId": "5e3ecdf6-0cf2-42a0-ff90-ce0593b547e6",
        "colab": {
          "base_uri": "https://localhost:8080/"
        }
      },
      "source": [
        "mydict = {'a': 1, '가':2, 100: 3, 3.14: 4, True: 5}\n",
        "mydict"
      ],
      "execution_count": 48,
      "outputs": [
        {
          "output_type": "execute_result",
          "data": {
            "text/plain": [
              "{'a': 1, '가': 2, 100: 3, 3.14: 4, True: 5}"
            ]
          },
          "metadata": {},
          "execution_count": 48
        }
      ]
    },
    {
      "cell_type": "markdown",
      "metadata": {
        "id": "Pb3Z94Y_FV9E"
      },
      "source": [
        "### 값 조회\n",
        "\n",
        "- key 값으로 값을 조회할 수 있습니다."
      ]
    },
    {
      "cell_type": "code",
      "metadata": {
        "id": "MWsYX8Q-fHkI",
        "outputId": "8e02a14b-57ce-4da7-db39-81fe00d6d987",
        "colab": {
          "base_uri": "https://localhost:8080/"
        }
      },
      "source": [
        "mydict = {'a': 1, '가':2, 100: 3, 3.14: 4, True: 5}\n",
        "mydict"
      ],
      "execution_count": 49,
      "outputs": [
        {
          "output_type": "execute_result",
          "data": {
            "text/plain": [
              "{'a': 1, '가': 2, 100: 3, 3.14: 4, True: 5}"
            ]
          },
          "metadata": {},
          "execution_count": 49
        }
      ]
    },
    {
      "cell_type": "markdown",
      "metadata": {
        "id": "3IrkNb2RfHkJ"
      },
      "source": [
        "key를 지정하여 값을 조회할 수 있습니다."
      ]
    },
    {
      "cell_type": "code",
      "metadata": {
        "id": "LMZjtCWNFZ_n",
        "outputId": "c5d982fa-f3b7-446f-acf7-93553c3647c4",
        "colab": {
          "base_uri": "https://localhost:8080/"
        }
      },
      "source": [
        "mydict['a']"
      ],
      "execution_count": 50,
      "outputs": [
        {
          "output_type": "execute_result",
          "data": {
            "text/plain": [
              "1"
            ]
          },
          "metadata": {},
          "execution_count": 50
        }
      ]
    },
    {
      "cell_type": "markdown",
      "metadata": {
        "id": "twsRAOrCfHkJ"
      },
      "source": [
        "key가 없는 경우 Error가 발생합니다."
      ]
    },
    {
      "cell_type": "code",
      "metadata": {
        "id": "R1tImC2VfHkJ",
        "outputId": "19fefbe4-d354-4557-e579-1d064d97345f",
        "colab": {
          "base_uri": "https://localhost:8080/",
          "height": 174
        }
      },
      "source": [
        "mydict['b']"
      ],
      "execution_count": 51,
      "outputs": [
        {
          "output_type": "error",
          "ename": "KeyError",
          "evalue": "ignored",
          "traceback": [
            "\u001b[0;31m---------------------------------------------------------------------------\u001b[0m",
            "\u001b[0;31mKeyError\u001b[0m                                  Traceback (most recent call last)",
            "\u001b[0;32m<ipython-input-51-a8dfdc4bddd9>\u001b[0m in \u001b[0;36m<cell line: 1>\u001b[0;34m()\u001b[0m\n\u001b[0;32m----> 1\u001b[0;31m \u001b[0mmydict\u001b[0m\u001b[0;34m[\u001b[0m\u001b[0;34m'b'\u001b[0m\u001b[0;34m]\u001b[0m\u001b[0;34m\u001b[0m\u001b[0;34m\u001b[0m\u001b[0m\n\u001b[0m",
            "\u001b[0;31mKeyError\u001b[0m: 'b'"
          ]
        }
      ]
    },
    {
      "cell_type": "markdown",
      "metadata": {
        "id": "a7DJoQvcfHkK"
      },
      "source": [
        "`get()` 메서드를 활용하여 값을 조회할 수 있습니다."
      ]
    },
    {
      "cell_type": "code",
      "metadata": {
        "id": "xR3ROxIvfHkK",
        "outputId": "5e323822-f9e6-43bd-c275-7147d586c49e",
        "colab": {
          "base_uri": "https://localhost:8080/"
        }
      },
      "source": [
        "mydict.get('a')"
      ],
      "execution_count": 52,
      "outputs": [
        {
          "output_type": "execute_result",
          "data": {
            "text/plain": [
              "1"
            ]
          },
          "metadata": {},
          "execution_count": 52
        }
      ]
    },
    {
      "cell_type": "markdown",
      "metadata": {
        "id": "6aZF7DOffHkK"
      },
      "source": [
        "`get()`을 사용하면 key가 없는 경우라도 Error가 발생하지 않습니다. 단지 None이 반환됩니다."
      ]
    },
    {
      "cell_type": "code",
      "metadata": {
        "id": "j7rtcL3iF701"
      },
      "source": [
        "mydict.get('b')"
      ],
      "execution_count": 53,
      "outputs": []
    },
    {
      "cell_type": "markdown",
      "metadata": {
        "id": "nfD8x2dLfHkK"
      },
      "source": [
        "### keys() : 모든 key 조회"
      ]
    },
    {
      "cell_type": "code",
      "metadata": {
        "id": "3kXqsG5JfHkL",
        "outputId": "fa330773-6e18-45d8-c1ed-f8b3684baa3d",
        "colab": {
          "base_uri": "https://localhost:8080/"
        }
      },
      "source": [
        "mydict = {'a': 100, 'b': 200, 'c': 300, 'd': 400, 'e': 500}\n",
        "mydict"
      ],
      "execution_count": 54,
      "outputs": [
        {
          "output_type": "execute_result",
          "data": {
            "text/plain": [
              "{'a': 100, 'b': 200, 'c': 300, 'd': 400, 'e': 500}"
            ]
          },
          "metadata": {},
          "execution_count": 54
        }
      ]
    },
    {
      "cell_type": "code",
      "metadata": {
        "id": "Bs-AvLJmfHkL",
        "outputId": "906f9982-df19-40ed-91db-3f8dc321ea57",
        "colab": {
          "base_uri": "https://localhost:8080/"
        }
      },
      "source": [
        "mydict.keys()"
      ],
      "execution_count": 55,
      "outputs": [
        {
          "output_type": "execute_result",
          "data": {
            "text/plain": [
              "dict_keys(['a', 'b', 'c', 'd', 'e'])"
            ]
          },
          "metadata": {},
          "execution_count": 55
        }
      ]
    },
    {
      "cell_type": "markdown",
      "metadata": {
        "id": "kS1F0UkhfHkL"
      },
      "source": [
        "**[참고]** `dict_keys`\n",
        "\n",
        "- `dict_keys`는 리스트(list)가 아닙니다.\n",
        "- 객체(object)로 생성되는데, 이를 list로 변경하기 위해서는 list()로 타입 변환을 하면 됩니다."
      ]
    },
    {
      "cell_type": "code",
      "metadata": {
        "id": "lrxLbJqffHkL",
        "outputId": "76cea3e8-08a7-4daf-b448-c83f1a7e9156",
        "colab": {
          "base_uri": "https://localhost:8080/"
        }
      },
      "source": [
        "list(mydict.keys())"
      ],
      "execution_count": 56,
      "outputs": [
        {
          "output_type": "execute_result",
          "data": {
            "text/plain": [
              "['a', 'b', 'c', 'd', 'e']"
            ]
          },
          "metadata": {},
          "execution_count": 56
        }
      ]
    },
    {
      "cell_type": "markdown",
      "metadata": {
        "id": "1dlsp0qefHkL"
      },
      "source": [
        "### values() : 모든 value 조회"
      ]
    },
    {
      "cell_type": "code",
      "metadata": {
        "id": "zfReUVDOfHkM",
        "outputId": "da2c738b-b047-4bba-fa63-39ee5602d478",
        "colab": {
          "base_uri": "https://localhost:8080/"
        }
      },
      "source": [
        "mydict.values()"
      ],
      "execution_count": 57,
      "outputs": [
        {
          "output_type": "execute_result",
          "data": {
            "text/plain": [
              "dict_values([100, 200, 300, 400, 500])"
            ]
          },
          "metadata": {},
          "execution_count": 57
        }
      ]
    },
    {
      "cell_type": "markdown",
      "metadata": {
        "id": "k6IV5379fHkM"
      },
      "source": [
        "### items() : 모든 key, value 조회\n",
        "\n",
        "- key, value가 튜플로 묶여서 조회됩니다."
      ]
    },
    {
      "cell_type": "code",
      "metadata": {
        "id": "y8LPMWkNfHkM",
        "outputId": "7fb0fc9e-5c3d-432c-d240-7f524585c18b",
        "colab": {
          "base_uri": "https://localhost:8080/"
        }
      },
      "source": [
        "mydict.items()"
      ],
      "execution_count": 58,
      "outputs": [
        {
          "output_type": "execute_result",
          "data": {
            "text/plain": [
              "dict_items([('a', 100), ('b', 200), ('c', 300), ('d', 400), ('e', 500)])"
            ]
          },
          "metadata": {},
          "execution_count": 58
        }
      ]
    },
    {
      "cell_type": "code",
      "metadata": {
        "id": "l_C-RK_zfHkM",
        "outputId": "86c4a2b2-b633-46eb-e498-18ad468d53fc",
        "colab": {
          "base_uri": "https://localhost:8080/"
        }
      },
      "source": [
        "list(mydict.items())"
      ],
      "execution_count": 59,
      "outputs": [
        {
          "output_type": "execute_result",
          "data": {
            "text/plain": [
              "[('a', 100), ('b', 200), ('c', 300), ('d', 400), ('e', 500)]"
            ]
          },
          "metadata": {},
          "execution_count": 59
        }
      ]
    },
    {
      "cell_type": "markdown",
      "metadata": {
        "id": "gDRNAH0ZGBYo"
      },
      "source": [
        "### key 값의 존재 유무 확인"
      ]
    },
    {
      "cell_type": "code",
      "metadata": {
        "id": "e0q7c_O0GEDF",
        "outputId": "07ced326-db6d-4a2b-9efa-8ebd1bcecafe",
        "colab": {
          "base_uri": "https://localhost:8080/"
        }
      },
      "source": [
        "'a' in mydict"
      ],
      "execution_count": 60,
      "outputs": [
        {
          "output_type": "execute_result",
          "data": {
            "text/plain": [
              "True"
            ]
          },
          "metadata": {},
          "execution_count": 60
        }
      ]
    },
    {
      "cell_type": "code",
      "metadata": {
        "id": "cJucPBdhGGKG",
        "outputId": "a750f790-26bb-490a-b2ce-fa3071628aea",
        "colab": {
          "base_uri": "https://localhost:8080/"
        }
      },
      "source": [
        "'f' in mydict"
      ],
      "execution_count": 61,
      "outputs": [
        {
          "output_type": "execute_result",
          "data": {
            "text/plain": [
              "False"
            ]
          },
          "metadata": {},
          "execution_count": 61
        }
      ]
    },
    {
      "cell_type": "markdown",
      "metadata": {
        "id": "aciJNcbDZ9mc"
      },
      "source": [
        "### 값을 추가하기\n",
        "\n",
        "- 새로운 key에 값을 대입하여 추가"
      ]
    },
    {
      "cell_type": "code",
      "metadata": {
        "id": "D-SAZCUHYWuc",
        "outputId": "430f4df7-8e39-4122-8197-f2d59d7908c7",
        "colab": {
          "base_uri": "https://localhost:8080/"
        }
      },
      "source": [
        "mydict = dict()\n",
        "mydict"
      ],
      "execution_count": 62,
      "outputs": [
        {
          "output_type": "execute_result",
          "data": {
            "text/plain": [
              "{}"
            ]
          },
          "metadata": {},
          "execution_count": 62
        }
      ]
    },
    {
      "cell_type": "code",
      "metadata": {
        "id": "PfON-IIcYZ_e",
        "outputId": "9247c133-7a3d-48fc-9a52-0996ed06295d",
        "colab": {
          "base_uri": "https://localhost:8080/"
        }
      },
      "source": [
        "mydict['apple'] = 123\n",
        "mydict['apple']"
      ],
      "execution_count": 63,
      "outputs": [
        {
          "output_type": "execute_result",
          "data": {
            "text/plain": [
              "123"
            ]
          },
          "metadata": {},
          "execution_count": 63
        }
      ]
    },
    {
      "cell_type": "code",
      "metadata": {
        "id": "W47eMGTdYfhM",
        "outputId": "35134314-582b-488e-cb7a-72ebcf57ea3b",
        "colab": {
          "base_uri": "https://localhost:8080/"
        }
      },
      "source": [
        "mydict[0] = 2\n",
        "mydict[0]"
      ],
      "execution_count": 64,
      "outputs": [
        {
          "output_type": "execute_result",
          "data": {
            "text/plain": [
              "2"
            ]
          },
          "metadata": {},
          "execution_count": 64
        }
      ]
    },
    {
      "cell_type": "markdown",
      "metadata": {
        "id": "Pt5Np1QOpU4k"
      },
      "source": [
        "### update() : 다중 업데이트\n",
        "\n",
        "- 값을 한꺼번에 업데이트 합니다."
      ]
    },
    {
      "cell_type": "code",
      "metadata": {
        "id": "_Z4aYpc_fHkP",
        "outputId": "dd5c93fd-4e9b-41ac-fa0d-00f0115223bd",
        "colab": {
          "base_uri": "https://localhost:8080/"
        }
      },
      "source": [
        "mydict = {'파인애플': 1500, '망고': 3500, '배': 1000}\n",
        "mydict"
      ],
      "execution_count": 65,
      "outputs": [
        {
          "output_type": "execute_result",
          "data": {
            "text/plain": [
              "{'파인애플': 1500, '망고': 3500, '배': 1000}"
            ]
          },
          "metadata": {},
          "execution_count": 65
        }
      ]
    },
    {
      "cell_type": "code",
      "metadata": {
        "id": "OSOgghKxpXHX"
      },
      "source": [
        "fruit = {\n",
        "    '사과': 2000, \n",
        "    '딸기': 3000, \n",
        "    '수박': 5000, \n",
        "}"
      ],
      "execution_count": 66,
      "outputs": []
    },
    {
      "cell_type": "code",
      "metadata": {
        "id": "zASxN20npmGN",
        "outputId": "0c375450-62ec-4156-f932-9a6881a2249a",
        "colab": {
          "base_uri": "https://localhost:8080/"
        }
      },
      "source": [
        "mydict.update(fruit)\n",
        "mydict"
      ],
      "execution_count": 67,
      "outputs": [
        {
          "output_type": "execute_result",
          "data": {
            "text/plain": [
              "{'파인애플': 1500, '망고': 3500, '배': 1000, '사과': 2000, '딸기': 3000, '수박': 5000}"
            ]
          },
          "metadata": {},
          "execution_count": 67
        }
      ]
    },
    {
      "cell_type": "markdown",
      "metadata": {
        "id": "fJvfGTfDYy8V"
      },
      "source": [
        "### 값 변경\n",
        "\n",
        "- key 값에 새로운 값(value)를 대입하여 값을 변경할 수 있습니다."
      ]
    },
    {
      "cell_type": "code",
      "metadata": {
        "id": "AjXA4ps3fHkP",
        "outputId": "1981ef3d-0cfa-437c-9798-66ca2be4604b",
        "colab": {
          "base_uri": "https://localhost:8080/"
        }
      },
      "source": [
        "mydict = {'a': 100, 'b': 200, 'c': 300, 'd': 400, 'e': 500}\n",
        "mydict"
      ],
      "execution_count": 68,
      "outputs": [
        {
          "output_type": "execute_result",
          "data": {
            "text/plain": [
              "{'a': 100, 'b': 200, 'c': 300, 'd': 400, 'e': 500}"
            ]
          },
          "metadata": {},
          "execution_count": 68
        }
      ]
    },
    {
      "cell_type": "code",
      "metadata": {
        "id": "6Ho7ZevOYpXW"
      },
      "source": [
        "mydict['a'] = 900"
      ],
      "execution_count": 69,
      "outputs": []
    },
    {
      "cell_type": "code",
      "metadata": {
        "id": "oG9LcfG4Ywlw",
        "outputId": "7b93cb79-da80-4a79-8892-c3a43350456f",
        "colab": {
          "base_uri": "https://localhost:8080/"
        }
      },
      "source": [
        "mydict"
      ],
      "execution_count": 70,
      "outputs": [
        {
          "output_type": "execute_result",
          "data": {
            "text/plain": [
              "{'a': 900, 'b': 200, 'c': 300, 'd': 400, 'e': 500}"
            ]
          },
          "metadata": {},
          "execution_count": 70
        }
      ]
    },
    {
      "cell_type": "markdown",
      "metadata": {
        "id": "-kLyGYjxE7hz"
      },
      "source": [
        "### 제거하기 / key 제거"
      ]
    },
    {
      "cell_type": "code",
      "metadata": {
        "id": "cLjtPUaAFFbb",
        "outputId": "5dd18177-9a58-4fc5-89e4-2f8cf66677d7",
        "colab": {
          "base_uri": "https://localhost:8080/"
        }
      },
      "source": [
        "mydict = {'a': 100, 'b': 200, 'c': 300, 'd': 400, 'e': 500}\n",
        "mydict"
      ],
      "execution_count": 71,
      "outputs": [
        {
          "output_type": "execute_result",
          "data": {
            "text/plain": [
              "{'a': 100, 'b': 200, 'c': 300, 'd': 400, 'e': 500}"
            ]
          },
          "metadata": {},
          "execution_count": 71
        }
      ]
    },
    {
      "cell_type": "markdown",
      "metadata": {
        "id": "bt3Vt5KwfHkR"
      },
      "source": [
        "`del` 값을 제거할 수 있습니다.\n",
        "\n",
        "`del`에 딕셔너리 key를 지정합니다."
      ]
    },
    {
      "cell_type": "code",
      "metadata": {
        "id": "ERB2PC_rFHMI"
      },
      "source": [
        "del mydict['a']"
      ],
      "execution_count": 72,
      "outputs": []
    },
    {
      "cell_type": "code",
      "metadata": {
        "id": "FbytLQk7FQZi",
        "outputId": "d1ca16e1-b549-4ab4-a5ea-793664be80fd",
        "colab": {
          "base_uri": "https://localhost:8080/"
        }
      },
      "source": [
        "mydict"
      ],
      "execution_count": 73,
      "outputs": [
        {
          "output_type": "execute_result",
          "data": {
            "text/plain": [
              "{'b': 200, 'c': 300, 'd': 400, 'e': 500}"
            ]
          },
          "metadata": {},
          "execution_count": 73
        }
      ]
    },
    {
      "cell_type": "markdown",
      "metadata": {
        "id": "VHI6XFJQfHkW"
      },
      "source": [
        "`pop()` 에 key를 지정하여 값을 제거할 수 있습니다. \n",
        "\n",
        "제거되는 값의 value를 반환합니다."
      ]
    },
    {
      "cell_type": "code",
      "metadata": {
        "id": "EidmEyoEFKYv",
        "outputId": "07037aac-6dea-4110-e1ed-15a0e4958d1d",
        "colab": {
          "base_uri": "https://localhost:8080/"
        }
      },
      "source": [
        "mydict.pop('b')"
      ],
      "execution_count": 74,
      "outputs": [
        {
          "output_type": "execute_result",
          "data": {
            "text/plain": [
              "200"
            ]
          },
          "metadata": {},
          "execution_count": 74
        }
      ]
    },
    {
      "cell_type": "code",
      "metadata": {
        "id": "Yzyg9i2LFPGI",
        "outputId": "95ae698d-92c8-4c33-c087-7021ac083690",
        "colab": {
          "base_uri": "https://localhost:8080/"
        }
      },
      "source": [
        "mydict"
      ],
      "execution_count": 75,
      "outputs": [
        {
          "output_type": "execute_result",
          "data": {
            "text/plain": [
              "{'c': 300, 'd': 400, 'e': 500}"
            ]
          },
          "metadata": {},
          "execution_count": 75
        }
      ]
    },
    {
      "cell_type": "markdown",
      "metadata": {
        "id": "0SEF7gLRY_Ik"
      },
      "source": [
        "### len() : 요소의 개수 파악"
      ]
    },
    {
      "cell_type": "code",
      "metadata": {
        "id": "YCAsgXFTZCmh",
        "outputId": "d4cae849-25bf-4321-d4e9-0a5bd097ff20",
        "colab": {
          "base_uri": "https://localhost:8080/"
        }
      },
      "source": [
        "len(mydict)"
      ],
      "execution_count": 76,
      "outputs": [
        {
          "output_type": "execute_result",
          "data": {
            "text/plain": [
              "3"
            ]
          },
          "metadata": {},
          "execution_count": 76
        }
      ]
    },
    {
      "cell_type": "markdown",
      "metadata": {
        "id": "K3NzGkvPfHkX"
      },
      "source": [
        "### clear() - 전부 삭제 "
      ]
    },
    {
      "cell_type": "code",
      "metadata": {
        "id": "p5W-ARh6fHkX",
        "outputId": "7c2b1341-4c8e-49fd-c583-a195c6d0d398",
        "colab": {
          "base_uri": "https://localhost:8080/"
        }
      },
      "source": [
        "mydict = {'a': 100, 'b': 200, 'c': 300, 'd': 400, 'e': 500}\n",
        "mydict"
      ],
      "execution_count": 77,
      "outputs": [
        {
          "output_type": "execute_result",
          "data": {
            "text/plain": [
              "{'a': 100, 'b': 200, 'c': 300, 'd': 400, 'e': 500}"
            ]
          },
          "metadata": {},
          "execution_count": 77
        }
      ]
    },
    {
      "cell_type": "code",
      "metadata": {
        "id": "n3Pd3H8hfHkX"
      },
      "source": [
        "mydict.clear()"
      ],
      "execution_count": 78,
      "outputs": []
    },
    {
      "cell_type": "code",
      "metadata": {
        "id": "4f9RTbjefHkX",
        "outputId": "9dde345e-950f-45ef-dd82-a06b13f8161d",
        "colab": {
          "base_uri": "https://localhost:8080/"
        }
      },
      "source": [
        "mydict"
      ],
      "execution_count": 79,
      "outputs": [
        {
          "output_type": "execute_result",
          "data": {
            "text/plain": [
              "{}"
            ]
          },
          "metadata": {},
          "execution_count": 79
        }
      ]
    },
    {
      "cell_type": "markdown",
      "metadata": {
        "id": "pPl7y7cWsMYB"
      },
      "source": [
        "### 연습문제"
      ]
    },
    {
      "cell_type": "markdown",
      "metadata": {
        "id": "1ZsgKVeV3PXp"
      },
      "source": [
        "- 학생들의 이름과 점수를 key와 value로 가지는 `score` 변수를 생성하세요.\n",
        "    - 하준 90점, 서윤 86점, 지아 80점"
      ]
    },
    {
      "cell_type": "code",
      "metadata": {
        "id": "UWLF-tRb3PXq",
        "outputId": "58a670a9-3ccc-4b05-c7da-4159ca79ca7d",
        "colab": {
          "base_uri": "https://localhost:8080/"
        }
      },
      "source": [
        "# 코드를 입력해 주세요\n",
        "score = {'하준': 90, '서윤': 86, '지아': 80}\n",
        "score"
      ],
      "execution_count": 84,
      "outputs": [
        {
          "output_type": "execute_result",
          "data": {
            "text/plain": [
              "{'하준': 90, '서윤': 86, '지아': 80}"
            ]
          },
          "metadata": {},
          "execution_count": 84
        }
      ]
    },
    {
      "cell_type": "markdown",
      "metadata": {
        "id": "SM02SNxJfHkY"
      },
      "source": [
        "<p><strong>[출력 결과]</strong></p><pre>{'하준': 90, '서윤': 86, '지아': 80}</pre>"
      ]
    },
    {
      "cell_type": "markdown",
      "metadata": {
        "id": "jM32b3t2qbax"
      },
      "source": [
        "score 변수에 수지 95점을 추가하세요."
      ]
    },
    {
      "cell_type": "code",
      "metadata": {
        "id": "KsOqR1HtCtex",
        "outputId": "4bb67142-3e47-4ce6-f27f-a7e1fb2a0a2a",
        "colab": {
          "base_uri": "https://localhost:8080/"
        }
      },
      "source": [
        "# 코드를 입력해 주세요\n",
        "score['수지'] = 95\n",
        "score"
      ],
      "execution_count": 85,
      "outputs": [
        {
          "output_type": "execute_result",
          "data": {
            "text/plain": [
              "{'하준': 90, '서윤': 86, '지아': 80, '수지': 95}"
            ]
          },
          "metadata": {},
          "execution_count": 85
        }
      ]
    },
    {
      "cell_type": "markdown",
      "metadata": {
        "id": "p4v_-ZO8fHkZ"
      },
      "source": [
        "<p><strong>[출력 결과]</strong></p><pre>{'하준': 90, '서윤': 86, '지아': 80, '수지': 95}</pre>"
      ]
    },
    {
      "cell_type": "markdown",
      "metadata": {
        "id": "UcmPMPS8qeBX"
      },
      "source": [
        "score 변수에서 지아를 삭제하세요."
      ]
    },
    {
      "cell_type": "code",
      "metadata": {
        "id": "r1Xec5mX3PXs",
        "outputId": "b0488939-4a9b-4ce2-eba4-38a9d8639f36",
        "colab": {
          "base_uri": "https://localhost:8080/"
        }
      },
      "source": [
        "# 코드를 입력해 주세요\n",
        "del score['지아']\n",
        "score"
      ],
      "execution_count": 86,
      "outputs": [
        {
          "output_type": "execute_result",
          "data": {
            "text/plain": [
              "{'하준': 90, '서윤': 86, '수지': 95}"
            ]
          },
          "metadata": {},
          "execution_count": 86
        }
      ]
    },
    {
      "cell_type": "markdown",
      "metadata": {
        "id": "n5JN2PaKfHkZ"
      },
      "source": [
        "<p><strong>[출력 결과]</strong></p><pre>{'하준': 90, '서윤': 86, '수지': 95}</pre>"
      ]
    },
    {
      "cell_type": "markdown",
      "metadata": {
        "id": "apYvbt9kqhFo"
      },
      "source": [
        "score 변수에 기창 98점, 남철 60점, 기성 75점을 **한번에** 추가하세요.\n",
        "- update() 를 사용하세요"
      ]
    },
    {
      "cell_type": "code",
      "metadata": {
        "id": "y2_7I4ZWrF5-",
        "outputId": "4e82bb2c-d2d0-4ac7-a969-747aaa7a3852",
        "colab": {
          "base_uri": "https://localhost:8080/"
        }
      },
      "source": [
        "# 코드를 입력해 주세요\n",
        "add_students = {'기창': 98, '남철': 60, '기성': 75}\n",
        "score.update(add_students)\n",
        "score"
      ],
      "execution_count": 87,
      "outputs": [
        {
          "output_type": "execute_result",
          "data": {
            "text/plain": [
              "{'하준': 90, '서윤': 86, '수지': 95, '기창': 98, '남철': 60, '기성': 75}"
            ]
          },
          "metadata": {},
          "execution_count": 87
        }
      ]
    },
    {
      "cell_type": "markdown",
      "metadata": {
        "id": "w-MrKynYfHka"
      },
      "source": [
        "<p><strong>[출력 결과]</strong></p><pre>{'하준': 90, '서윤': 86, '수지': 95, '기창': 98, '남철': 60, '기성': 75}</pre>"
      ]
    }
  ]
}