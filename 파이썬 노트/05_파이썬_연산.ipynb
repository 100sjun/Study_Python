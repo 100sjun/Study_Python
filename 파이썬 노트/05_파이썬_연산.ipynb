{
  "nbformat": 4,
  "nbformat_minor": 0,
  "metadata": {
    "colab": {
      "provenance": [],
      "include_colab_link": true
    },
    "kernelspec": {
      "display_name": "Python 3",
      "language": "python",
      "name": "python3"
    },
    "language_info": {
      "codemirror_mode": {
        "name": "ipython",
        "version": 3
      },
      "file_extension": ".py",
      "mimetype": "text/x-python",
      "name": "python",
      "nbconvert_exporter": "python",
      "pygments_lexer": "ipython3",
      "version": "3.7.10"
    }
  },
  "cells": [
    {
      "cell_type": "markdown",
      "metadata": {
        "id": "view-in-github",
        "colab_type": "text"
      },
      "source": [
        "<a href=\"https://colab.research.google.com/github/100sjun/Study_Python/blob/main/%ED%8C%8C%EC%9D%B4%EC%8D%AC%20%EB%85%B8%ED%8A%B8/05_%ED%8C%8C%EC%9D%B4%EC%8D%AC_%EC%97%B0%EC%82%B0.ipynb\" target=\"_parent\"><img src=\"https://colab.research.google.com/assets/colab-badge.svg\" alt=\"Open In Colab\"/></a>"
      ]
    },
    {
      "cell_type": "markdown",
      "metadata": {
        "id": "jqa_7SA3jzYX"
      },
      "source": [
        "# 연산"
      ]
    },
    {
      "cell_type": "markdown",
      "metadata": {
        "id": "LltjCE7kj5kA"
      },
      "source": [
        "Excel에서도 **sum이나 +, -** 기호로 셀과 셀 단위, 열과 열단위, 행과 행단위 연산이 가능합니다.\n",
        "\n",
        "python에서도 마찬가지로 사칙 연산외 다양한 연산 기능을 기본으로 제공해 줍니다.\n",
        "(**사용법도 물론 매우 쉽습니다^^**)"
      ]
    },
    {
      "cell_type": "markdown",
      "metadata": {
        "id": "xRX1SSoskTdo"
      },
      "source": [
        "## 사칙연산 (+, -, /, *)"
      ]
    },
    {
      "cell_type": "markdown",
      "metadata": {
        "id": "EFebGxnjkXwr"
      },
      "source": [
        "* 더하기 (+)\n",
        "* 빼기 (-)\n",
        "* 나누기 (/)\n",
        "* 곱하기 (*)"
      ]
    },
    {
      "cell_type": "code",
      "metadata": {
        "id": "Ks6gjRfkkt9I"
      },
      "source": [
        "a = 10\n",
        "b = 3"
      ],
      "execution_count": 1,
      "outputs": []
    },
    {
      "cell_type": "markdown",
      "metadata": {
        "id": "8DshdUKZkoeX"
      },
      "source": [
        "### + : 덧셈"
      ]
    },
    {
      "cell_type": "code",
      "metadata": {
        "id": "GRJdclDnkl0v",
        "colab": {
          "base_uri": "https://localhost:8080/"
        },
        "outputId": "3b1ffa4c-e54b-40f8-d5e7-a278299f2869"
      },
      "source": [
        "a + b"
      ],
      "execution_count": 2,
      "outputs": [
        {
          "output_type": "execute_result",
          "data": {
            "text/plain": [
              "13"
            ]
          },
          "metadata": {},
          "execution_count": 2
        }
      ]
    },
    {
      "cell_type": "code",
      "metadata": {
        "id": "M3NXutOf2k9O",
        "colab": {
          "base_uri": "https://localhost:8080/"
        },
        "outputId": "001fcae0-7a69-476b-d930-b32271759ab7"
      },
      "source": [
        "10 + 234"
      ],
      "execution_count": 3,
      "outputs": [
        {
          "output_type": "execute_result",
          "data": {
            "text/plain": [
              "244"
            ]
          },
          "metadata": {},
          "execution_count": 3
        }
      ]
    },
    {
      "cell_type": "markdown",
      "metadata": {
        "id": "slDLupTo39N9"
      },
      "source": [
        "**+=** 기호는 + (덧셈) 한 뒤 자기 자신의 변수에 재 할당합니다.\n",
        "\n",
        "(예시) `a += 3` 은 `a = a + 3`과 같습니다."
      ]
    },
    {
      "cell_type": "code",
      "metadata": {
        "id": "W1z5yPZX328d",
        "colab": {
          "base_uri": "https://localhost:8080/"
        },
        "outputId": "b49d0fcd-37a2-4539-f0ec-476271078292"
      },
      "source": [
        "s = 10\n",
        "s += 5\n",
        "print(s)"
      ],
      "execution_count": 4,
      "outputs": [
        {
          "output_type": "stream",
          "name": "stdout",
          "text": [
            "15\n"
          ]
        }
      ]
    },
    {
      "cell_type": "markdown",
      "metadata": {
        "id": "iZVY_FHJknXf"
      },
      "source": [
        "### - : 뺄셈"
      ]
    },
    {
      "cell_type": "code",
      "metadata": {
        "id": "fZtYiLERkrr0",
        "colab": {
          "base_uri": "https://localhost:8080/"
        },
        "outputId": "d554877d-5c56-4a66-9d35-5b7515d08ca6"
      },
      "source": [
        "a - b"
      ],
      "execution_count": 5,
      "outputs": [
        {
          "output_type": "execute_result",
          "data": {
            "text/plain": [
              "7"
            ]
          },
          "metadata": {},
          "execution_count": 5
        }
      ]
    },
    {
      "cell_type": "code",
      "metadata": {
        "id": "7fX0CkXK3Sto",
        "colab": {
          "base_uri": "https://localhost:8080/"
        },
        "outputId": "002f38b0-09c9-4e96-9465-a3ca8388e641"
      },
      "source": [
        "10 - 9"
      ],
      "execution_count": 6,
      "outputs": [
        {
          "output_type": "execute_result",
          "data": {
            "text/plain": [
              "1"
            ]
          },
          "metadata": {},
          "execution_count": 6
        }
      ]
    },
    {
      "cell_type": "code",
      "metadata": {
        "id": "PsHv93O_4C7L",
        "colab": {
          "base_uri": "https://localhost:8080/"
        },
        "outputId": "0d83554d-62ff-4d4b-9544-1509aa372a52"
      },
      "source": [
        "s = 10\n",
        "s -= 3\n",
        "print(s)"
      ],
      "execution_count": 7,
      "outputs": [
        {
          "output_type": "stream",
          "name": "stdout",
          "text": [
            "7\n"
          ]
        }
      ]
    },
    {
      "cell_type": "markdown",
      "metadata": {
        "id": "Ofd8aJrXk0c5"
      },
      "source": [
        "### / : 나눗셈"
      ]
    },
    {
      "cell_type": "code",
      "metadata": {
        "id": "4wy7Uqik4FZS",
        "colab": {
          "base_uri": "https://localhost:8080/"
        },
        "outputId": "e2b2d4d8-42f8-4579-a49b-d65a8d7cce77"
      },
      "source": [
        "a, b"
      ],
      "execution_count": 8,
      "outputs": [
        {
          "output_type": "execute_result",
          "data": {
            "text/plain": [
              "(10, 3)"
            ]
          },
          "metadata": {},
          "execution_count": 8
        }
      ]
    },
    {
      "cell_type": "code",
      "metadata": {
        "id": "2a24yJmtk2Ha",
        "colab": {
          "base_uri": "https://localhost:8080/"
        },
        "outputId": "f8f5124e-7b34-4524-f05f-3f9482aa0430"
      },
      "source": [
        "a / b"
      ],
      "execution_count": 9,
      "outputs": [
        {
          "output_type": "execute_result",
          "data": {
            "text/plain": [
              "3.3333333333333335"
            ]
          },
          "metadata": {},
          "execution_count": 9
        }
      ]
    },
    {
      "cell_type": "code",
      "metadata": {
        "id": "bwVUkNmK3VWh",
        "colab": {
          "base_uri": "https://localhost:8080/"
        },
        "outputId": "226a2fd8-433d-4384-8f57-dca9600055a0"
      },
      "source": [
        "10.7 / 7"
      ],
      "execution_count": 10,
      "outputs": [
        {
          "output_type": "execute_result",
          "data": {
            "text/plain": [
              "1.5285714285714285"
            ]
          },
          "metadata": {},
          "execution_count": 10
        }
      ]
    },
    {
      "cell_type": "code",
      "metadata": {
        "id": "11xPTy8B4Ouk",
        "colab": {
          "base_uri": "https://localhost:8080/"
        },
        "outputId": "d04d84d5-a9f2-4e45-8ddd-7957076f4a7f"
      },
      "source": [
        "s = 10\n",
        "s /= 2\n",
        "print(s)"
      ],
      "execution_count": 11,
      "outputs": [
        {
          "output_type": "stream",
          "name": "stdout",
          "text": [
            "5.0\n"
          ]
        }
      ]
    },
    {
      "cell_type": "markdown",
      "metadata": {
        "id": "EZP9onY-k2vf"
      },
      "source": [
        "### * : 곱셈"
      ]
    },
    {
      "cell_type": "code",
      "metadata": {
        "id": "n_2JEGaF4NV5",
        "colab": {
          "base_uri": "https://localhost:8080/"
        },
        "outputId": "64cfbe73-711a-4c83-dec1-5d3528c9f454"
      },
      "source": [
        "a, b"
      ],
      "execution_count": 12,
      "outputs": [
        {
          "output_type": "execute_result",
          "data": {
            "text/plain": [
              "(10, 3)"
            ]
          },
          "metadata": {},
          "execution_count": 12
        }
      ]
    },
    {
      "cell_type": "code",
      "metadata": {
        "id": "MhOHnVNVk4iu",
        "colab": {
          "base_uri": "https://localhost:8080/"
        },
        "outputId": "af32851f-8843-4e7b-c9b5-3c51ae70aa44"
      },
      "source": [
        "a * b"
      ],
      "execution_count": 13,
      "outputs": [
        {
          "output_type": "execute_result",
          "data": {
            "text/plain": [
              "30"
            ]
          },
          "metadata": {},
          "execution_count": 13
        }
      ]
    },
    {
      "cell_type": "code",
      "metadata": {
        "id": "Z1-z1y533YEe",
        "colab": {
          "base_uri": "https://localhost:8080/"
        },
        "outputId": "11f01786-e7c8-41c5-b472-947d05ae0c3b"
      },
      "source": [
        "a * 10"
      ],
      "execution_count": 14,
      "outputs": [
        {
          "output_type": "execute_result",
          "data": {
            "text/plain": [
              "100"
            ]
          },
          "metadata": {},
          "execution_count": 14
        }
      ]
    },
    {
      "cell_type": "code",
      "metadata": {
        "id": "bsv0u-m24Wk9",
        "colab": {
          "base_uri": "https://localhost:8080/"
        },
        "outputId": "6bd89166-e50c-4295-ab6d-074d1c96dc92"
      },
      "source": [
        "s = 20\n",
        "s *= 3\n",
        "print(s)"
      ],
      "execution_count": 15,
      "outputs": [
        {
          "output_type": "stream",
          "name": "stdout",
          "text": [
            "60\n"
          ]
        }
      ]
    },
    {
      "cell_type": "markdown",
      "metadata": {
        "id": "6lkBwXXRk8Rn"
      },
      "source": [
        "# 조금 생소할 수 있는 연산자 (%, //, **)"
      ]
    },
    {
      "cell_type": "markdown",
      "metadata": {
        "id": "cAmmwPb0lPD8"
      },
      "source": [
        "- `//`: **floor division** 연산자입니다. 나눗셈에 대한 **몫**을 정수형으로 구함\n",
        "- `%`: **modulus** 연산자입니다. 몫을 나눈 **나머지**를 구함\n",
        "- `**`: 제곱 연산"
      ]
    },
    {
      "cell_type": "markdown",
      "metadata": {
        "id": "ltM2fZ5SyHhd"
      },
      "source": [
        "### // : Floor Division \n",
        "\n",
        "- 나눗셈에 대한 **몫**을 정수형으로 구함"
      ]
    },
    {
      "cell_type": "code",
      "metadata": {
        "id": "yjR5tEc7yHhd"
      },
      "source": [
        "a = 10\n",
        "b = 3"
      ],
      "execution_count": 16,
      "outputs": []
    },
    {
      "cell_type": "markdown",
      "metadata": {
        "id": "l-J1IMLOyHhd"
      },
      "source": [
        "일반 나눗셈 연산 결과"
      ]
    },
    {
      "cell_type": "code",
      "metadata": {
        "id": "dk9Y2AL_yHhd",
        "colab": {
          "base_uri": "https://localhost:8080/"
        },
        "outputId": "ebd39f20-bfc6-4fc5-87c4-ad60045a764e"
      },
      "source": [
        "a / b"
      ],
      "execution_count": 17,
      "outputs": [
        {
          "output_type": "execute_result",
          "data": {
            "text/plain": [
              "3.3333333333333335"
            ]
          },
          "metadata": {},
          "execution_count": 17
        }
      ]
    },
    {
      "cell_type": "markdown",
      "metadata": {
        "id": "beB1E967yHhe"
      },
      "source": [
        "// 연산 결과"
      ]
    },
    {
      "cell_type": "code",
      "metadata": {
        "id": "mIZJQXAVyHhe",
        "colab": {
          "base_uri": "https://localhost:8080/"
        },
        "outputId": "c1952846-ec24-4c1b-bcf9-e06a8b83b79e"
      },
      "source": [
        "a // b"
      ],
      "execution_count": 18,
      "outputs": [
        {
          "output_type": "execute_result",
          "data": {
            "text/plain": [
              "3"
            ]
          },
          "metadata": {},
          "execution_count": 18
        }
      ]
    },
    {
      "cell_type": "markdown",
      "metadata": {
        "id": "0XTyKP1Vl50Q"
      },
      "source": [
        "### % : modulus\n",
        "\n",
        "- 몫을 나눈 **나머지**를 구합니다."
      ]
    },
    {
      "cell_type": "code",
      "metadata": {
        "id": "iC8PVhovyHhe"
      },
      "source": [
        "a = 10\n",
        "b = 3"
      ],
      "execution_count": 19,
      "outputs": []
    },
    {
      "cell_type": "code",
      "metadata": {
        "id": "woV-i1v5lrcP",
        "colab": {
          "base_uri": "https://localhost:8080/"
        },
        "outputId": "78c1ef65-f112-4e3b-adf5-c2c22c8f1afc"
      },
      "source": [
        "a % b"
      ],
      "execution_count": 20,
      "outputs": [
        {
          "output_type": "execute_result",
          "data": {
            "text/plain": [
              "1"
            ]
          },
          "metadata": {},
          "execution_count": 20
        }
      ]
    },
    {
      "cell_type": "markdown",
      "metadata": {
        "id": "kgsdhcm6mCe2"
      },
      "source": [
        "### ** : 제곱 연산\n",
        "\n",
        "- 제곱 연산을 수행합니다."
      ]
    },
    {
      "cell_type": "code",
      "metadata": {
        "id": "OqLdUpt1yHhe"
      },
      "source": [
        "a = 10\n",
        "b = 3"
      ],
      "execution_count": 21,
      "outputs": []
    },
    {
      "cell_type": "code",
      "metadata": {
        "id": "PI2Cb9V_mFvG",
        "colab": {
          "base_uri": "https://localhost:8080/"
        },
        "outputId": "92036825-75aa-4404-d8f9-b871e1420b43"
      },
      "source": [
        "a ** b"
      ],
      "execution_count": 22,
      "outputs": [
        {
          "output_type": "execute_result",
          "data": {
            "text/plain": [
              "1000"
            ]
          },
          "metadata": {},
          "execution_count": 22
        }
      ]
    },
    {
      "cell_type": "code",
      "metadata": {
        "id": "AkltfELfmGwJ",
        "colab": {
          "base_uri": "https://localhost:8080/"
        },
        "outputId": "e8144684-76bc-4ef7-df30-a88be5621f12"
      },
      "source": [
        "2 ** 10"
      ],
      "execution_count": 23,
      "outputs": [
        {
          "output_type": "execute_result",
          "data": {
            "text/plain": [
              "1024"
            ]
          },
          "metadata": {},
          "execution_count": 23
        }
      ]
    },
    {
      "cell_type": "markdown",
      "metadata": {
        "id": "vxr0cihmmIgB"
      },
      "source": [
        "### 괄호 ()의 활용\n",
        "\n",
        "- 수학 연산할 때와 마찬가지로, *, /을 먼저 계산하며, **괄호 ()를 활용**하여 먼저 연산할 부분을 지정할 수 있습니다."
      ]
    },
    {
      "cell_type": "code",
      "metadata": {
        "id": "uHDJHp7Vmflc",
        "colab": {
          "base_uri": "https://localhost:8080/"
        },
        "outputId": "2377dfee-67ab-4072-ef52-8c86568d6ae7"
      },
      "source": [
        "10 + 2 * 5"
      ],
      "execution_count": 24,
      "outputs": [
        {
          "output_type": "execute_result",
          "data": {
            "text/plain": [
              "20"
            ]
          },
          "metadata": {},
          "execution_count": 24
        }
      ]
    },
    {
      "cell_type": "code",
      "metadata": {
        "id": "XkFs622Ymqwq",
        "colab": {
          "base_uri": "https://localhost:8080/"
        },
        "outputId": "9d35ee02-78e6-4f07-9fb0-00fbc8ebb102"
      },
      "source": [
        "(10 + 2) * 5"
      ],
      "execution_count": 25,
      "outputs": [
        {
          "output_type": "execute_result",
          "data": {
            "text/plain": [
              "60"
            ]
          },
          "metadata": {},
          "execution_count": 25
        }
      ]
    },
    {
      "cell_type": "markdown",
      "metadata": {
        "id": "FEUujjHMOHaF"
      },
      "source": [
        "다음과 같은 경우는 어떻게 될까요?"
      ]
    },
    {
      "cell_type": "code",
      "metadata": {
        "id": "4RjDCe4KONdI"
      },
      "source": [
        "a = '10'\n",
        "b = '20'"
      ],
      "execution_count": 26,
      "outputs": []
    },
    {
      "cell_type": "code",
      "metadata": {
        "id": "uTBZ7-FlORDW",
        "colab": {
          "base_uri": "https://localhost:8080/",
          "height": 35
        },
        "outputId": "5b2ad7ef-b443-45b6-f00e-12ed7fc9f51e"
      },
      "source": [
        "a + b"
      ],
      "execution_count": 27,
      "outputs": [
        {
          "output_type": "execute_result",
          "data": {
            "text/plain": [
              "'1020'"
            ],
            "application/vnd.google.colaboratory.intrinsic+json": {
              "type": "string"
            }
          },
          "metadata": {},
          "execution_count": 27
        }
      ]
    },
    {
      "cell_type": "markdown",
      "metadata": {
        "id": "kfj-G6QmyHhg"
      },
      "source": [
        "연산시 타입(type)이 다르면 Error가 발생합니다."
      ]
    },
    {
      "cell_type": "code",
      "metadata": {
        "id": "PFw8GB3wyHhg"
      },
      "source": [
        "a = '10'\n",
        "b = 20"
      ],
      "execution_count": 28,
      "outputs": []
    },
    {
      "cell_type": "code",
      "metadata": {
        "id": "OFwrjqh6yHhg",
        "colab": {
          "base_uri": "https://localhost:8080/",
          "height": 35
        },
        "outputId": "4da2479b-4448-425f-9b61-207fca97ae29"
      },
      "source": [
        "a + str(b)"
      ],
      "execution_count": 29,
      "outputs": [
        {
          "output_type": "execute_result",
          "data": {
            "text/plain": [
              "'1020'"
            ],
            "application/vnd.google.colaboratory.intrinsic+json": {
              "type": "string"
            }
          },
          "metadata": {},
          "execution_count": 29
        }
      ]
    },
    {
      "cell_type": "markdown",
      "metadata": {
        "id": "xr2I2FE3yHhg"
      },
      "source": [
        "### 연습문제\n",
        "\n",
        "`a`와 `b`를 덧셈하여 다음의 결과가 나오도록 코드를 입력해 주세요\n",
        "\n",
        "- 단, `a`와 `b`의 값을 수정하지 않습니다."
      ]
    },
    {
      "cell_type": "code",
      "metadata": {
        "id": "kBrc7kRzyHhh"
      },
      "source": [
        "a = '10'\n",
        "b = 20"
      ],
      "execution_count": null,
      "outputs": []
    },
    {
      "cell_type": "code",
      "metadata": {
        "id": "AzdjQXHkyHhh",
        "colab": {
          "base_uri": "https://localhost:8080/"
        },
        "outputId": "6aacaa78-8e4a-4371-c4a1-b8bca41e9238"
      },
      "source": [
        "# 코드를 입력해 주세요\n",
        "int(a) + b"
      ],
      "execution_count": 30,
      "outputs": [
        {
          "output_type": "execute_result",
          "data": {
            "text/plain": [
              "30"
            ]
          },
          "metadata": {},
          "execution_count": 30
        }
      ]
    },
    {
      "cell_type": "markdown",
      "metadata": {
        "id": "bdpxBvFOyHhh"
      },
      "source": [
        "<p><strong>[출력 결과]</strong></p><pre>30</pre>"
      ]
    },
    {
      "cell_type": "markdown",
      "metadata": {
        "id": "j1I9d5GE6rSo"
      },
      "source": [
        "## 연습문제"
      ]
    },
    {
      "cell_type": "markdown",
      "metadata": {
        "id": "YguVPqeb7aRZ"
      },
      "source": [
        "### 문제1 \n",
        "\n",
        "다음의 결과를 나타내는 `a`, `b`를 찾아주세요"
      ]
    },
    {
      "cell_type": "code",
      "metadata": {
        "id": "35gC2NGv7a1q"
      },
      "source": [
        "# a, b 값을 찾아주세요\n",
        "# 코드를 입력해 주세요\n",
        "a = 10\n",
        "b = 21"
      ],
      "execution_count": 31,
      "outputs": []
    },
    {
      "cell_type": "code",
      "metadata": {
        "id": "hwZpIYlH7dGG",
        "colab": {
          "base_uri": "https://localhost:8080/"
        },
        "outputId": "2baa98a5-ae85-448d-c83e-689cdb74c5c7"
      },
      "source": [
        "# 출력: 1041\n",
        "b += 20\n",
        "print(a ** 3 + b)"
      ],
      "execution_count": 32,
      "outputs": [
        {
          "output_type": "stream",
          "name": "stdout",
          "text": [
            "1041\n"
          ]
        }
      ]
    },
    {
      "cell_type": "markdown",
      "metadata": {
        "id": "LBMq_F6d6tIP"
      },
      "source": [
        "### 문제2\n",
        "\n",
        "다음의 결과를 나타내는 `a`, `b`를 찾아주세요"
      ]
    },
    {
      "cell_type": "code",
      "metadata": {
        "id": "JqMPI-QV6xzo"
      },
      "source": [
        "# a, b 값을 찾아주세요\n",
        "# 코드를 입력해 주세요\n",
        "a = 12\n",
        "b = 3"
      ],
      "execution_count": 35,
      "outputs": []
    },
    {
      "cell_type": "code",
      "metadata": {
        "id": "WSELNt0b621d",
        "colab": {
          "base_uri": "https://localhost:8080/"
        },
        "outputId": "134a5c6b-8f20-4148-d300-a4c4081c8059"
      },
      "source": [
        "# 출력: 12\n",
        "print((a + 3) // 4 + b * 3)\n",
        "# 출력: 21\n",
        "print(a + 3 // 4 + b * 3)\n",
        "# 출력: 4\n",
        "print(a // b)"
      ],
      "execution_count": 36,
      "outputs": [
        {
          "output_type": "stream",
          "name": "stdout",
          "text": [
            "12\n",
            "21\n",
            "4\n"
          ]
        }
      ]
    },
    {
      "cell_type": "markdown",
      "metadata": {
        "id": "8EL-diJu7kGr"
      },
      "source": [
        "### 문제3 \n",
        "\n",
        "다음의 결과를 나타내는 `a`, `b`를 찾아주세요"
      ]
    },
    {
      "cell_type": "code",
      "metadata": {
        "id": "jUBNcy357zC5"
      },
      "source": [
        "# a, b 값을 찾아주세요\n",
        "# 코드를 입력해 주세요\n",
        "a = 1\n",
        "b = 3"
      ],
      "execution_count": 37,
      "outputs": []
    },
    {
      "cell_type": "code",
      "metadata": {
        "id": "WgSYcMEA71S_",
        "colab": {
          "base_uri": "https://localhost:8080/"
        },
        "outputId": "9dd03af4-5874-4f30-ce5b-261366789ab3"
      },
      "source": [
        "# 출력: 34\n",
        "a ** 10 + b ** 3 + a * (5 + b % 2)"
      ],
      "execution_count": 38,
      "outputs": [
        {
          "output_type": "execute_result",
          "data": {
            "text/plain": [
              "34"
            ]
          },
          "metadata": {},
          "execution_count": 38
        }
      ]
    }
  ]
}